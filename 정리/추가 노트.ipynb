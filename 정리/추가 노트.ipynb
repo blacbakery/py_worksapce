{
 "cells": [
  {
   "cell_type": "code",
   "execution_count": null,
   "metadata": {},
   "outputs": [],
   "source": [
    "# 컬럼명 변경\n",
    "df=df.rename(columns = {\"cust_class\" : 'class',\"sex_type\":'sex', \"efct_svc_count\":'service', \"dt_stop_yn\":'stop',\"npay_yn\":'npay', \"r3m_avg_bill_amt\":'avg_bill', \"r3m_A_avg_arpu_amt\":\"A_bill\", \"r3m_B_avg_arpu_amt\":'B_bill', \"termination_yn\":'termination'})\n",
    "df.head()\n",
    "\n",
    "# 결측치인 \"_\" 항목을 NaN 값으로 치환\n",
    "import numpy as np\n",
    "df = df.replace(\"_\", np.NaN)\n",
    "\n",
    "# 데이터 타입 변경\n",
    "df=df.astype({'age': float })"
   ]
  },
  {
   "cell_type": "code",
   "execution_count": null,
   "metadata": {},
   "outputs": [],
   "source": [
    "# 결측치를 지정한 값으로 채우는 메소드\n",
    "df.fillna('standard')\n",
    "df.fillna(method='backfill') # 뒤에 있는 데이터\n",
    "df.fillna(method='ffill') # 앞에 있는 데이터\n",
    "# 주의: 첫&마지막 레코드가 결측치인지 확인해야\n",
    "\n",
    "# 결측치를 같은 간격으로 채우는 메소드 (선형적인 데이터 채우기)\n",
    "df.interpolate()\n",
    "\n",
    "# 결측치가 있는 레코드를 제거하는 메소드\n",
    "df.dropna()\n",
    "# 별도의 파라미터를 넣어주지 않으면 listwise 방식\n",
    "# how 파라미터를 all로 변경하면 pairwise 방식\n",
    "\n",
    "# replace() 함수로 결측치 채우기\n",
    "df['gender'] = df['gender'].replace(np.nan, df['gender'].median())"
   ]
  },
  {
   "cell_type": "code",
   "execution_count": 1,
   "metadata": {},
   "outputs": [
    {
     "ename": "NameError",
     "evalue": "name 'data' is not defined",
     "output_type": "error",
     "traceback": [
      "\u001b[1;31m---------------------------------------------------------------------------\u001b[0m",
      "\u001b[1;31mNameError\u001b[0m                                 Traceback (most recent call last)",
      "Cell \u001b[1;32mIn [1], line 3\u001b[0m\n\u001b[0;32m      1\u001b[0m \u001b[39mimport\u001b[39;00m \u001b[39mpandas\u001b[39;00m \u001b[39mas\u001b[39;00m \u001b[39mpd\u001b[39;00m\n\u001b[0;32m      2\u001b[0m pd\u001b[39m.\u001b[39mset_option(\u001b[39m'\u001b[39m\u001b[39mdisplay.max_info_columns\u001b[39m\u001b[39m'\u001b[39m, \u001b[39m600\u001b[39m)\n\u001b[1;32m----> 3\u001b[0m data\u001b[39m.\u001b[39minfo()\n",
      "\u001b[1;31mNameError\u001b[0m: name 'data' is not defined"
     ]
    }
   ],
   "source": [
    "import pandas as pd\n",
    "pd.set_option('display.max_info_columns', 600)\n",
    "data.info()"
   ]
  }
 ],
 "metadata": {
  "kernelspec": {
   "display_name": "Python 3.10.8 64-bit",
   "language": "python",
   "name": "python3"
  },
  "language_info": {
   "codemirror_mode": {
    "name": "ipython",
    "version": 3
   },
   "file_extension": ".py",
   "mimetype": "text/x-python",
   "name": "python",
   "nbconvert_exporter": "python",
   "pygments_lexer": "ipython3",
   "version": "3.10.8"
  },
  "orig_nbformat": 4,
  "vscode": {
   "interpreter": {
    "hash": "a42ccb73e7d9bfdf27e036f1d2b8b681e55fc0743cc5586bc2474d4a60f4b886"
   }
  }
 },
 "nbformat": 4,
 "nbformat_minor": 2
}
