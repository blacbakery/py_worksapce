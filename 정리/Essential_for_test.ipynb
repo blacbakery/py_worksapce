{
 "cells": [
  {
   "cell_type": "markdown",
   "id": "b1dd296e",
   "metadata": {},
   "source": [
    "xtrain, x_test, y_train, y_test = train_test_split(sample, label, test_size, train_size, random_state, suffle, stratify)\n",
    "   - 같은 크기의 Numpy 배열 2개를 지정된 비율로 나눠서 반환\n",
    "   - test_size = 0.25 : 0.0~1.0 테스트 데이터셋 비율\n",
    "   - train_size = None : 0.0~1.0 훈련 데이터셋 비율\n",
    "   - random_state = None : 정수 값, 난수 발생의 시드(seed) 값\n",
    "   - shuffle = True : boolean 값을 전달해서 섞을지 말지 결정\n",
    "   - stratify : y의 지정한 데이터 비율을 유지(층화추출), y가 범주형일 때 사용함 \n",
    "   - 예) 레이블 y가 0,1로 이루어진 binary이고, 비율이 25:75일 때, stratify=y이면 데이터셋도 0,1을 같은 비율로 유지함"
   ]
  },
  {
   "cell_type": "code",
   "execution_count": 1,
   "id": "94b29c6a",
   "metadata": {},
   "outputs": [
    {
     "name": "stdout",
     "output_type": "stream",
     "text": [
      "(120, 4) (30, 4) (120,) (30,)\n"
     ]
    }
   ],
   "source": [
    "import pandas as pd\n",
    "from sklearn.model_selection import train_test_split\n",
    "\n",
    "iris = pd.read_csv('data_05/iris.csv')\n",
    "\n",
    "# 데이터 탐색 (결측치 확인, 이상치 확인, 데이터 타입 확인, 통계값 확인(var=0), nunique() == 1, ...)\n",
    "# 데이터 탐색 (그래프, groupby,pivot_table, value_counts, corr, ...)\n",
    "\n",
    "X = iris.iloc[:, :-1]  # iris.drop(columns='target')\n",
    "y = iris['target']\n",
    "A = train_test_split(X, y, test_size=0.2, random_state=0, stratify=y)\n",
    "x_train, x_test, y_train, y_test = A\n",
    "print(x_train.shape, x_test.shape,  y_train.shape, y_test.shape)"
   ]
  },
  {
   "cell_type": "code",
   "execution_count": 4,
   "id": "c4579faa",
   "metadata": {},
   "outputs": [
    {
     "name": "stdout",
     "output_type": "stream",
     "text": [
      "학습 데이터 성능 : 0.95\n",
      "평가 데이터 성능 : 1.0\n",
      "평가 데이터        : [0 1 0 2 0 1 2 0 0 1 2 1 1 2 1 2 2 1 1 0 0 2 2 2 0 1 1 2 0 0]\n",
      "평가 데이터 예측값 : [0 1 0 2 0 1 2 0 0 1 2 1 1 2 1 2 2 1 1 0 0 2 2 2 0 1 1 2 0 0]\n"
     ]
    }
   ],
   "source": [
    "from sklearn.neighbors import KNeighborsClassifier\n",
    "\n",
    "model = KNeighborsClassifier(n_neighbors=3)\n",
    "model.fit(x_train, y_train)\n",
    "print('학습 데이터 성능 :', model.score(x_train, y_train) )\n",
    "print('평가 데이터 성능 :', model.score(x_test, y_test))\n",
    "print('평가 데이터        :', y_test.to_numpy())\n",
    "print('평가 데이터 예측값 :', model.predict(x_test))"
   ]
  }
 ],
 "metadata": {
  "kernelspec": {
   "display_name": "Python 3 (ipykernel)",
   "language": "python",
   "name": "python3"
  },
  "language_info": {
   "codemirror_mode": {
    "name": "ipython",
    "version": 3
   },
   "file_extension": ".py",
   "mimetype": "text/x-python",
   "name": "python",
   "nbconvert_exporter": "python",
   "pygments_lexer": "ipython3",
   "version": "3.9.13"
  }
 },
 "nbformat": 4,
 "nbformat_minor": 5
}
