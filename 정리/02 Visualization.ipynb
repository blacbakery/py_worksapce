{
 "cells": [
  {
   "cell_type": "code",
   "execution_count": 1,
   "metadata": {},
   "outputs": [],
   "source": [
    "import numpy as np\n",
    "import pandas as pd\n",
    "import matplotlib.pyplot as plt\n",
    "import seaborn as sns"
   ]
  },
  {
   "cell_type": "code",
   "execution_count": null,
   "metadata": {},
   "outputs": [],
   "source": [
    "# 사용자 운영체제 확인\n",
    "import os\n",
    "os.name\n",
    "\n",
    "# 운영체제별 한글 폰트 설정\n",
    "if os.name == 'posix': # Mac 환경 폰트 설정\n",
    "    plt.rc('font', family='AppleGothic')\n",
    "elif os.name == 'nt': # Windows 환경 폰트 설정\n",
    "    plt.rc('font', family='Malgun Gothic')\n",
    "\n",
    "plt.rc('axes', unicode_minus=False) # 마이너스 폰트 설정"
   ]
  },
  {
   "cell_type": "markdown",
   "metadata": {},
   "source": [
    "### 1. MatPlotLib\n"
   ]
  },
  {
   "cell_type": "code",
   "execution_count": null,
   "metadata": {},
   "outputs": [],
   "source": [
    "# 기본\n",
    "plt.plot(x, y, [fmt], [data], label='str')\n",
    "plt.xlabel('str', fontsize=n): x 축에 대한 레이블 표시\n",
    "plt.ylabel('str', fontsize=n): y 축에 대한 레이블 표시\n",
    "plt.title('str', fontsize=n): plot에 대한 제목 표시\n",
    "plt.xlim(min, max)\n",
    "plt.ylim(min, max)\n",
    "plt.xticks(rotation = 45)\n",
    "plt.yticks(rotation = 45)\n",
    "plt.legend(labels=[label1, label2 ...], loc='text')(loc: 'left', 'right', 'upper left', 'best' 등등)\n",
    "plt.figure(figsize=(x, y))\n",
    "plt.grid(True)\n",
    "\n",
    "# Subplot\n",
    "plt.subplot(ros, col, idx): idx는 1부터 시작\n",
    "\n",
    "# Box Plot\n",
    "plt.boxplot(x, y)\n",
    "\n",
    "# Bar Chart (범주형 Data)\n",
    "plt.bar(x, y)\n",
    "plt.barh(x, y)\n",
    "\n",
    "# Histogram (연속형 Data)\n",
    "plt.hist(x, bins=n)\n",
    "\n",
    "sns.histplot(x, color=\"blue\", bins=50, kde=True, stat=\"density\", alpha=0.5, linewidth=0)\n",
    "\n",
    "# Scatter Plot\n",
    "plt.scatter(x, y, s, c, alpha)(s: scale, alpha: 투명도)\n"
   ]
  },
  {
   "cell_type": "code",
   "execution_count": 4,
   "metadata": {},
   "outputs": [
    {
     "data": {
      "image/png": "[encoded data removed]",
      "text/plain": [
       "<Figure size 640x480 with 1 Axes>"
      ]
     },
     "metadata": {},
     "output_type": "display_data"
    }
   ],
   "source": [
    "x = np.arange(10)\n",
    "y = x ** 2\n",
    "y2 = x*5 + 2\n",
    "\n",
    "plt.plot(x,y,'b-', label='first')\n",
    "plt.plot(x,y2,'r-', label='second')\n",
    "plt.legend(loc='best')\n",
    "\n",
    "plt.legend(labels=['first','second'], loc='best') # 이런 식으로 한 줄에 표현도 가능\n",
    "\n",
    "plt.show()"
   ]
  },
  {
   "cell_type": "markdown",
   "metadata": {},
   "source": [
    "### 2. Seaborn"
   ]
  },
  {
   "cell_type": "code",
   "execution_count": null,
   "metadata": {},
   "outputs": [],
   "source": [
    "# Box Plot\n",
    "sns.boxplot(x='day', y='total_bill', data=df, hue='smoker', errorbar=None)\n",
    "\n",
    "# Histo Plot\n",
    "sns.histplot(x, color=\"blue\", bins=50, kde=True, stat=\"density\", alpha=0.5, linewidth=0)\n",
    "\n",
    "# Swarm Plot\n",
    "sns.swarmplot(x=\"day\", y=\"total_bill\", data=tips, color=\".5\")\n",
    "\n",
    "# Heat Map\n",
    "sns.heatmap(df.corr(), annot=True, cmap='RdBu_r', vmin=-1, vmax=1) #df.corr인지 확인하기\n",
    "\n",
    "# Pair Plot #대각선은 각 컬럼 별 히스토그램\n",
    "sns.pairplot(df, x_vars=['sepal_width', 'sepal_length'], y_vars=['petal_width', 'petal_length']) : #vars를 통해 특정 변수만 지정 가능"
   ]
  },
  {
   "cell_type": "markdown",
   "metadata": {},
   "source": [
    "### 3. Pandas"
   ]
  },
  {
   "cell_type": "code",
   "execution_count": null,
   "metadata": {},
   "outputs": [],
   "source": [
    "# 기본\n",
    "df.plot(*args, **kwargs)\n",
    "  - x : DataFrame일 경우 사용됨\n",
    "  - y : DataFrame일 경우 사용됨\n",
    "  - kind : 'line', 'bar', 'barh', 'hist', 'box', 'kde', 'density', 'area', 'pie', 'scatter'(DataFrame only)\n",
    "  - rot : int, Rotation for ticks\n",
    "  - layout: (row, column)의 튜플로 subplot의 shape 지정\n",
    "  - subplots : bool, default False, 각 컬럼을 subplots로 분리함\n",
    "  - figsize : tuple, (width, height) in inches\n",
    "  - use_index : bool, default True (index를 x축의 ticks로 사용)\n",
    "  - title : 제목\n",
    "  - grid : bool, default None, 눈금선\n",
    "  - legend : bool\n",
    "  - xticks : sequence (xticks로 사용할 값들)\n",
    "  - yticks : sequence (yticks로 사용할 값들)\n",
    "  - xlim, ylim : x, y에 대한 limitation \n",
    "  - xlabel, ylable : x, y축에 대한 이름 \n",
    "  - fontsize : int, xticks, yticks에 대한 폰트 크기\n",
    "  - stacked : bool, default False in line and bar plots, True in area plot\n",
    "  - sort_columns : bool, column names 정렬\n",
    "\n",
    "# 예시\n",
    "df.plot(kind='box', rot=0, figsize=(6,5), ylim=(40,140))"
   ]
  }
 ],
 "metadata": {
  "kernelspec": {
   "display_name": "Python 3.10.8 64-bit",
   "language": "python",
   "name": "python3"
  },
  "language_info": {
   "codemirror_mode": {
    "name": "ipython",
    "version": 3
   },
   "file_extension": ".py",
   "mimetype": "text/x-python",
   "name": "python",
   "nbconvert_exporter": "python",
   "pygments_lexer": "ipython3",
   "version": "3.10.8"
  },
  "orig_nbformat": 4,
  "vscode": {
   "interpreter": {
    "hash": "a42ccb73e7d9bfdf27e036f1d2b8b681e55fc0743cc5586bc2474d4a60f4b886"
   }
  }
 },
 "nbformat": 4,
 "nbformat_minor": 2
}
