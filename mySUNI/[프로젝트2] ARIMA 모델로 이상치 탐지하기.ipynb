{
 "cells": [
  {
   "cell_type": "markdown",
   "metadata": {
    "id": "-rxt9bMf3orJ"
   },
   "source": [
    "# [프로젝트2] ARIMA 모델로 이상치 탐지하기"
   ]
  },
  {
   "cell_type": "markdown",
   "metadata": {},
   "source": [
    "---"
   ]
  },
  {
   "cell_type": "markdown",
   "metadata": {},
   "source": [
    "## 프로젝트 목표\n",
    "---\n",
    "\n",
    "1. MME 데이터가 정상성을 만족하는지 확인 \n",
    "2. ARIMA 모델의 최적의 파라미터를 찾기\n",
    "3. ARIMA 모델을 이용하여 MME 장비의 이상치 탐지"
   ]
  },
  {
   "cell_type": "markdown",
   "metadata": {
    "id": "pS7RvUWi5vJe"
   },
   "source": [
    "## 프로젝트 목차\n",
    "\n",
    "--- \n",
    "\n",
    "<div class=\"toc\"><ul class=\"toc-item\"><li><span><a href=\"#프로젝트-목표\" data-toc-modified-id=\"프로젝트-목표-1\"><span class=\"toc-item-num\">1&nbsp;&nbsp;</span>프로젝트 목표</a></span></li><li><span><a href=\"#데이터-읽기\" data-toc-modified-id=\"데이터-읽기-2\"><span class=\"toc-item-num\">2&nbsp;&nbsp;</span>데이터 읽기</a></span><ul class=\"toc-item\"><li><span><a href=\"#라이브러리-불러오기\" data-toc-modified-id=\"라이브러리-불러오기-2.1\"><span class=\"toc-item-num\">2.1&nbsp;&nbsp;</span>라이브러리 불러오기</a></span></li><li><span><a href=\"#데이터-불러오기\" data-toc-modified-id=\"데이터-불러오기-2.2\"><span class=\"toc-item-num\">2.2&nbsp;&nbsp;</span>데이터 불러오기</a></span></li></ul></li><li><span><a href=\"#정상성-확인\" data-toc-modified-id=\"정상성-확인-3\"><span class=\"toc-item-num\">3&nbsp;&nbsp;</span>정상성 확인</a></span><ul class=\"toc-item\"><li><span><a href=\"#[TODO]--전체-데이터에서--MME017의-컬럼에-대해-정상성-확인해보기\" data-toc-modified-id=\"[TODO]--전체-데이터에서--MME017의-컬럼에-대해-정상성-확인해보기-3.1\"><span class=\"toc-item-num\">3.1&nbsp;&nbsp;</span>[TODO]  전체 데이터에서  MME017의 컬럼에 대해 정상성 확인해보기</a></span></li><li><span><a href=\"#전체-데이터-정상성-확인\" data-toc-modified-id=\"전체-데이터-정상성-확인-3.2\"><span class=\"toc-item-num\">3.2&nbsp;&nbsp;</span>전체 데이터 정상성 확인</a></span></li></ul></li><li><span><a href=\"#ARIMA-파라미터-찾기\" data-toc-modified-id=\"ARIMA-파라미터-찾기-4\"><span class=\"toc-item-num\">4&nbsp;&nbsp;</span>ARIMA 파라미터 찾기</a></span><ul class=\"toc-item\"><li><span><a href=\"#TODO-최적의-파라미터-찾기\" data-toc-modified-id=\"TODO-최적의-파라미터-찾기-4.1\"><span class=\"toc-item-num\">4.1&nbsp;&nbsp;</span>[TODO] 최적의 파라미터 찾기</a></span></li></ul></li><li><span><a href=\"#이상치-찾기\" data-toc-modified-id=\"이상치-찾기-5\"><span class=\"toc-item-num\">5&nbsp;&nbsp;</span>이상치 찾기</a></span><ul class=\"toc-item\"><li><span><a href=\"#최적의-파라미터로-ARIMA-모델-학습\" data-toc-modified-id=\"최적의-파라미터로-ARIMA-모델-학습-5.1\"><span class=\"toc-item-num\">5.1&nbsp;&nbsp;</span>최적의 파라미터로 ARIMA 모델 학습</a></span></li><li><span><a href=\"#임계값-구하기\" data-toc-modified-id=\"임계값-구하기-5.2\"><span class=\"toc-item-num\">5.2&nbsp;&nbsp;</span>임계값 구하기</a></span></li><li><span><a href=\"#이상치-표시하기\" data-toc-modified-id=\"이상치-표시하기-5.3\"><span class=\"toc-item-num\">5.3&nbsp;&nbsp;</span>이상치 표시하기</a></span></li></ul></li><li><span><a href=\"#전체-데이터-이상치-탐지-하기\" data-toc-modified-id=\"전체-데이터-이상치-탐지-하기-6\"><span class=\"toc-item-num\">6&nbsp;&nbsp;</span>전체 데이터 이상치 탐지 하기</a></span></li></ul></div>"
   ]
  },
  {
   "cell_type": "markdown",
   "metadata": {
    "id": "K-rxhtJI5_D2"
   },
   "source": [
    "## 프로젝트 개요\n",
    "---\n",
    "\n",
    "앞서 전처리를 끝내고 저장한 `MME_data.p`를 불러오고, 데이터의 정상성을 확인해봅니다.\n",
    "또한, 정상성이 확인된 데이터에 대해 `ARIMA`로 예측해보고, 최적 성능을 내는 파라미터를 찾습니다.\n",
    "그 후 학습된 ARIMA 모델로 이상치를 탐지해보도록 합니다.\n",
    "\n",
    "\n"
   ]
  },
  {
   "cell_type": "markdown",
   "metadata": {
    "id": "0kOsIuLd6EA9"
   },
   "source": [
    "## 데이터 읽기\n"
   ]
  },
  {
   "cell_type": "markdown",
   "metadata": {},
   "source": [
    "### 라이브러리 설치\n",
    "\n",
    "본 프로젝트를 시행하기 앞서서 라이브러리 설치 및 버전을 맞추어 줍니다. "
   ]
  },
  {
   "cell_type": "code",
   "execution_count": null,
   "metadata": {
    "scrolled": true
   },
   "outputs": [],
   "source": [
    "%pip install pickle5"
   ]
  },
  {
   "cell_type": "markdown",
   "metadata": {
    "id": "471BvUaaTr5Z"
   },
   "source": [
    "### 라이브러리 불러오기\n",
    "---\n",
    "프로젝트에 필요한 다양한 라이브러리, 파일을 불러옵니다."
   ]
  },
  {
   "cell_type": "code",
   "execution_count": null,
   "metadata": {
    "ExecuteTime": {
     "end_time": "2022-06-05T14:28:11.106876Z",
     "start_time": "2022-06-05T14:28:08.853542Z"
    }
   },
   "outputs": [],
   "source": [
    "from statsmodels.tsa.stattools import adfuller # Augmented Dickey-Fuller test.\n",
    "from statsmodels.tsa.arima.model import ARIMA\n",
    "\n",
    "import numpy as np\n",
    "import pandas as pd\n",
    "import seaborn as sns\n",
    "import matplotlib.pyplot as plt\n",
    "\n",
    "import pickle5 as pickle\n",
    "import warnings\n",
    "import itertools\n",
    "\n",
    "warnings.filterwarnings(action='ignore') # warning ignore \n",
    "\n",
    "pd.options.display.max_rows = 80\n",
    "pd.options.display.max_columns = 80\n",
    "sns.set_style(\"whitegrid\")\n",
    "\n",
    "%matplotlib inline"
   ]
  },
  {
   "cell_type": "markdown",
   "metadata": {
    "id": "iLgWa_5zUJ6p"
   },
   "source": [
    "### 데이터 불러오기\n",
    "---\n",
    "\n",
    "프로젝트 1에서 전처리가 끝난 데이터(`MME_data.p`) 를 불러옵니다. 또한 기기별로 이상치 탐지를 하기 위하여 기기 정보를 devices로 저장해 놓도록 합니다. \n",
    " \n"
   ]
  },
  {
   "cell_type": "code",
   "execution_count": null,
   "metadata": {
    "ExecuteTime": {
     "end_time": "2022-06-05T14:28:31.679940Z",
     "start_time": "2022-06-05T14:28:31.662986Z"
    }
   },
   "outputs": [],
   "source": [
    "# load \n",
    "with open('MME_data.p', 'rb') as fp:\n",
    "    total_df = pickle.load(fp)"
   ]
  },
  {
   "cell_type": "code",
   "execution_count": null,
   "metadata": {
    "ExecuteTime": {
     "end_time": "2022-06-05T14:28:32.025379Z",
     "start_time": "2022-06-05T14:28:32.020393Z"
    }
   },
   "outputs": [],
   "source": [
    "# 데이터를 쉽게 불러오기 위하여 기기를 정의\n",
    "devices = [\n",
    "    \"MME017\",\n",
    "    \"MME018\",\n",
    "    \"MME071\",\n",
    "    \"MME072\",\n",
    "    \"MME073\",\n",
    "    \"MME074\",\n",
    "    \"MME091\",\n",
    "    \"MME092\",\n",
    "    \"MME093\",\n",
    "]"
   ]
  },
  {
   "cell_type": "markdown",
   "metadata": {},
   "source": [
    "## 정상성 확인 \n",
    "\n",
    "ARIMA 모델을 사용하기 위해선 `정상성`이 보장 되어야됩니다. 이를 위해 주어진 데이터가 정상성을 만족하는지 확인해봅니다. "
   ]
  },
  {
   "cell_type": "markdown",
   "metadata": {},
   "source": [
    "### [TODO]  전체 데이터에서  MME017의 컬럼에 대해 정상성 확인해보기  \n",
    "\n",
    "- 전체 데이터는 total_df로 dictionary 형태입니다. \n",
    "- 해당 기기 이름은 MME017 입니다. \n",
    "- .plot()는 판다스의 그래프를 그려주는 내장함수입니다. "
   ]
  },
  {
   "cell_type": "code",
   "execution_count": null,
   "metadata": {
    "ExecuteTime": {
     "end_time": "2022-06-05T14:28:32.716652Z",
     "start_time": "2022-06-05T14:28:32.701589Z"
    },
    "scrolled": false
   },
   "outputs": [],
   "source": [
    "data = 'code'\n",
    "\n",
    "result = 'code'\n",
    "\n",
    "# 각각의 출력값 프린트\n",
    "our_result = dict(\n",
    "    zip([\"adf\", \"pvalue\", \"usedlag\", \"nobs\", \"critical\" \"values\", \"icbest\"], result)\n",
    ")\n",
    "print(our_result)\n",
    "\n",
    "# 0.05 보다 작으면 정상성 만족\n",
    "if our_result[\"pvalue\"] < 0.05:\n",
    "    print(f\"본 컬럼은 정상성을 만족합니다.\")\n",
    "else:\n",
    "    print(f\"본 컬럼은 정상성을 만족하지 않습니다.\")"
   ]
  },
  {
   "cell_type": "markdown",
   "metadata": {},
   "source": [
    "### 전체 데이터 정상성 확인 "
   ]
  },
  {
   "cell_type": "code",
   "execution_count": null,
   "metadata": {
    "ExecuteTime": {
     "end_time": "2022-06-05T14:28:33.349942Z",
     "start_time": "2022-06-05T14:28:33.335769Z"
    }
   },
   "outputs": [],
   "source": [
    "def adfuller_test(data):\n",
    "    \"\"\"\n",
    "        Summary: Augmented Dickey-Fuller test.를 이용한 정상성 확인\n",
    "    Args: \n",
    "        기기별 데이터프레임\n",
    "    return \n",
    "        정상성을 만족하지 못하는 컬럼 리스트\n",
    "    \"\"\"\n",
    "    non_stationary_col = []\n",
    "\n",
    "    # p-value가 0.05보다 작으면 null hypothesis를 기각.\n",
    "    # null hypothesis 기각은 stationary 하다는 것\n",
    "    reject_null = lambda pvalue: pvalue < 0.05\n",
    "\n",
    "    # 모든 컬럼에 대해 조사하기\n",
    "    for column in data:\n",
    "        result = adfuller(data[column].values)  # Fuller test\n",
    "        pvalue = result[1]\n",
    "\n",
    "        if not reject_null(pvalue):\n",
    "            print(f\"{column:<30s} 컬럼은 정상성을 만족하지 않습니다.\")\n",
    "            non_stationary_col.append(column)\n",
    "\n",
    "    return non_stationary_col"
   ]
  },
  {
   "cell_type": "code",
   "execution_count": null,
   "metadata": {
    "ExecuteTime": {
     "end_time": "2022-06-05T14:28:34.591595Z",
     "start_time": "2022-06-05T14:28:33.556364Z"
    }
   },
   "outputs": [],
   "source": [
    "for device in devices:\n",
    "    print(f\"[정상성 테스트] | 기기: {device}\")\n",
    "    data = total_df[device]\n",
    "    adfuller_test(data)\n",
    "    print()"
   ]
  },
  {
   "cell_type": "markdown",
   "metadata": {},
   "source": [
    "## ARIMA 파라미터 찾기\n",
    "\n",
    "전체 데이터에 대해 ACF 와 PACF를 확인하면서 파라미터를 찾기보다 가능한 모든 조합을 실행(Grid_Search)하도록합니다. \n",
    "모든 조합에 대해 시행 한 후 이에 따른 AIC 값이 제일 작은 파라미터를 최적의 파라미터로 간주하도록 합니다. \n"
   ]
  },
  {
   "cell_type": "markdown",
   "metadata": {},
   "source": [
    "### [TODO] 최적의 파라미터 찾기 \n",
    "\n",
    "ARIMA모델에는 p,d,q 세개의 파라미터가 있습니다. 각각의 값의 따라 모델의 성능이 좌우 됩니다.\n",
    "\n",
    "따라서 이번에는 각각의 모델을 학습시킬때 필요한 최적의 파라미터를 찾아보도록 하겠습니다.\n",
    "\n",
    "- 전체 데이터 중 MME017 기기를 선택합니다. \n",
    "- 기기의 컬럼 중 `comb_atch_att_45005` 컬럼을 선택합니다. 이는 위에서 정상성 테스트를 통과한 컬럼 중 하나이기 때문입니다.\n",
    "- 가능한 모든 조합에 대해 AIC 값을 출력합니다. (이때, p,d,q 는 0과 1 둘 중의 하나의 값을 갖습니다. 이에 따라 총 경우의 수는 $2^3$ 입니다.)\n",
    "- 각각의 조합에 대해 ARIMA를 학습하고 파라미터와 AIC 값을 저장합니다. \n",
    "- 가장 작은 AIC값을 가지는 파라미터를 확인하고 `best_param`로 저장합니다 "
   ]
  },
  {
   "cell_type": "code",
   "execution_count": null,
   "metadata": {
    "ExecuteTime": {
     "end_time": "2022-06-05T14:28:34.794056Z",
     "start_time": "2022-06-05T14:28:34.780091Z"
    }
   },
   "outputs": [],
   "source": [
    "# 데이터 한 개 선택 \n",
    "data  = 'code'\n",
    "\n",
    "# 데이터 중 하나의 컬럼 선택 \n",
    "data_col = 'code'\n",
    "\n",
    "# 최적의 파라미터를 찾기 위한 Grid-Search 작업\n",
    "p = range(0, 2)  # p - 며칠전 시점\n",
    "d = range(0, 2)  # d - 차분\n",
    "q = range(0, 2)  #\n",
    "\n",
    "pdq = list(itertools.product(p, d, q))  # 모든 조합 만들기\n",
    "for i in pdq:\n",
    "    print(f\"ARIMA pdq: {i}\")"
   ]
  },
  {
   "cell_type": "code",
   "execution_count": null,
   "metadata": {
    "ExecuteTime": {
     "end_time": "2022-06-05T14:28:36.397810Z",
     "start_time": "2022-06-05T14:28:35.001569Z"
    }
   },
   "outputs": [],
   "source": [
    "# 결과값 저장 \n",
    "params = []\n",
    "results_AIC = []\n",
    "\n",
    "# 모든 조합에 대해 최적의 파라미터 찾기 \n",
    "for param in pdq: \n",
    "    # ARIMA 주어진 데이터로 학습 \n",
    "    model = 'code'\n",
    "    model_fit = model.fit()\n",
    "    \n",
    "    params.append(param) # 각각의 파라미터 값 저장 \n",
    "    results_AIC.append('code') # AIC  값 저장 \n",
    "            "
   ]
  },
  {
   "cell_type": "code",
   "execution_count": null,
   "metadata": {
    "ExecuteTime": {
     "end_time": "2022-06-05T14:28:36.666237Z",
     "start_time": "2022-06-05T14:28:36.651217Z"
    }
   },
   "outputs": [],
   "source": [
    "# 저장된 파라미터 값과 AIC 값 dataframe으로 표현\n",
    "result_df = pd.DataFrame(\n",
    "    [params, results_AIC], dtype=\"object\", index=[\"params\", \"AIC\"]\n",
    ").T"
   ]
  },
  {
   "cell_type": "code",
   "execution_count": null,
   "metadata": {
    "ExecuteTime": {
     "end_time": "2022-06-05T14:28:36.888638Z",
     "start_time": "2022-06-05T14:28:36.873654Z"
    }
   },
   "outputs": [],
   "source": [
    "# 통계적 모델의 성능을 따질때에는 보통 AIC 가 낮은 값이 성능이 좋다고 볼수있다. \n",
    "result_df = result_df.sort_values(by='AIC', ascending=True)\n",
    "result_df"
   ]
  },
  {
   "cell_type": "code",
   "execution_count": null,
   "metadata": {
    "ExecuteTime": {
     "end_time": "2022-06-05T14:28:37.109115Z",
     "start_time": "2022-06-05T14:28:37.096128Z"
    }
   },
   "outputs": [],
   "source": [
    "# 최적의 파라미터 추출\n",
    "best_param = 'code'\n",
    "best_param"
   ]
  },
  {
   "cell_type": "markdown",
   "metadata": {},
   "source": [
    "## 이상치 찾기 \n",
    "\n",
    "이번에는 학습 된 모델에서 `MSE(Mean Squared Error)`를 구하고, `MSE`가 일정 범위를 벗어난다면 이상치라고 판단하여 주어진 데이터에서 이상치를 표시해 보도록 하겠습니다. "
   ]
  },
  {
   "cell_type": "markdown",
   "metadata": {},
   "source": [
    "### 최적의 파라미터로 ARIMA 모델 학습 \n",
    "\n",
    "앞서 찾은 최적의 파라미터`best_param`을 이용하여 ARIMA 모델을 학습합니다"
   ]
  },
  {
   "cell_type": "code",
   "execution_count": null,
   "metadata": {
    "ExecuteTime": {
     "end_time": "2022-06-05T14:30:04.357823Z",
     "start_time": "2022-06-05T14:30:04.342839Z"
    }
   },
   "outputs": [],
   "source": [
    "def ARIMA_forecast(data, best_param):\n",
    "    \"\"\"\n",
    "    Summary:\n",
    "        ARIMA 모델을 사용하여 데이터를 예측 \n",
    "    Args:\n",
    "        data\n",
    "        best_param\n",
    "    \"\"\"\n",
    "    #########################################\n",
    "    # 1. Model Fitting\n",
    "    #########################################\n",
    "    model = ARIMA(\n",
    "        data.values,\n",
    "        order=best_param[\"params\"],\n",
    "        seasonal_order=(*best_param[\"params\"], 12),\n",
    "        enforce_stationarity=False,\n",
    "        enforce_invertibility=False,\n",
    "    )\n",
    "    model_fit = model.fit()\n",
    "\n",
    "    return model_fit"
   ]
  },
  {
   "cell_type": "code",
   "execution_count": null,
   "metadata": {
    "ExecuteTime": {
     "end_time": "2022-06-05T14:30:04.784658Z",
     "start_time": "2022-06-05T14:30:04.594167Z"
    }
   },
   "outputs": [],
   "source": [
    "model_fit = ARIMA_forecast(data_col, best_param)"
   ]
  },
  {
   "cell_type": "markdown",
   "metadata": {},
   "source": [
    "### 임계값 구하기 \n",
    "\n",
    "ARIMA 모델은 학습 후 `residual`(실제값과 예측값의 오차)를 기본 제공합니다. 이 값을 받아 제곱을하여 `MSE`값을 만듭니다. \n",
    "그 다음 `Threshold = MSE + standard deviation`로 설정을 하여 이 임계값을 넘는 값에 대해 이상치라고 판단합니다. "
   ]
  },
  {
   "cell_type": "code",
   "execution_count": null,
   "metadata": {
    "ExecuteTime": {
     "end_time": "2022-06-05T14:28:37.440143Z",
     "start_time": "2022-06-05T14:28:37.427179Z"
    }
   },
   "outputs": [],
   "source": [
    "# 학습된 모델에서  residual 을 구합니다.\n",
    "squared_errors = model_fit.resid ** 2\n",
    "\n",
    "# residual의 평균 + z * residual의 편차 보다 크면 오차라고 판단합니다.\n",
    "threshold = np.mean(squared_errors) + np.std(squared_errors)"
   ]
  },
  {
   "cell_type": "markdown",
   "metadata": {},
   "source": [
    "### 이상치 표시하기 \n",
    "\n",
    "임계값 보다 높은 데이터에 대해 이상치 데이터로 판단하고 그래프로 표시합니다"
   ]
  },
  {
   "cell_type": "code",
   "execution_count": null,
   "metadata": {
    "ExecuteTime": {
     "end_time": "2022-06-05T14:28:46.343308Z",
     "start_time": "2022-06-05T14:28:46.331363Z"
    }
   },
   "outputs": [],
   "source": [
    "# 임계치보다 큰 데이터에 대해 이상치로 판단합니다.   \n",
    "data_indices = np.where(squared_errors >= threshold) # 인덱스를 저장 합니다. \n",
    "\n",
    "# 이상치를 넘는 인덱스를 가지고 abnorma_data_col을 만듭니다.  \n",
    "abnorma_data_col = data_col.iloc[data_indices]"
   ]
  },
  {
   "cell_type": "code",
   "execution_count": null,
   "metadata": {
    "ExecuteTime": {
     "end_time": "2022-06-05T14:28:46.876347Z",
     "start_time": "2022-06-05T14:28:46.753154Z"
    },
    "scrolled": true
   },
   "outputs": [],
   "source": [
    "# 그림 그리기\n",
    "plt.plot(list(range(len(data_col.index.values))), data_col.values, color=\"green\")\n",
    "plt.scatter(data_indices[0], abnorma_data_col.values, color=\"r\")\n",
    "plt.show()"
   ]
  },
  {
   "cell_type": "markdown",
   "metadata": {},
   "source": [
    "## 전체 데이터 이상치 탐지 하기 \n",
    "\n",
    "위 과정을 모아 전체 데이터와 전체 컬럼에 대한 이상치 탐지를 합니다.\n",
    "\n",
    "이를 위해 사용할 기기는 `MME017`로 고정하고, 사용할 컬럼은 정상성 테스트를 통과한 것들로 하겠습니다.\n",
    "\n",
    "이후에 전체 기간에서 앞선 70%의 기간을 모델 학습용으로, 뒤의 30%는 테스트용으로 분리하겠습니다."
   ]
  },
  {
   "cell_type": "code",
   "execution_count": null,
   "metadata": {},
   "outputs": [],
   "source": [
    "device_df = total_df[\"MME017\"]\n",
    "\n",
    "non_stationary_col = adfuller_test(device_df)\n",
    "\n",
    "# 정상성을 만족하지 않은 column들은 제외합니다.\n",
    "device_df = device_df.drop(non_stationary_col, axis=1)\n",
    "\n",
    "# 훈련 데이터를 70%, 테스트 데이터를 30%로 분리합니다.\n",
    "train_size = int(len(device_df) * 0.7)\n",
    "\n",
    "train_df = device_df.iloc[:train_size, :]\n",
    "test_df = device_df.iloc[train_size:, :]\n",
    "\n",
    "print(f\"Train 데이터: {train_df.shape}, Test 데이터: {test_df.shape}\")"
   ]
  },
  {
   "cell_type": "code",
   "execution_count": null,
   "metadata": {
    "ExecuteTime": {
     "end_time": "2022-06-05T14:28:48.763311Z",
     "start_time": "2022-06-05T14:28:48.744363Z"
    }
   },
   "outputs": [],
   "source": [
    "def find_best_param(data_col):\n",
    "    best_param = None\n",
    "    criteria = 1e9\n",
    "\n",
    "    # 각각의 파라미터로 어떤 모델이 가장 성능이 좋은지 결과를 도출하는 것\n",
    "    for param in pdq:\n",
    "        model = ARIMA(\n",
    "            data_col.values,\n",
    "            order=param,\n",
    "            seasonal_order=(*param, 12),\n",
    "            enforce_stationarity=False,\n",
    "            enforce_invertibility=False,\n",
    "        )\n",
    "        results = model.fit()\n",
    "\n",
    "        # 통계적 모델의 성능을 따질때에는 보통 AIC 가 낮은 값이 성능이 좋다고 볼수있다.\n",
    "        if criteria > results.aic:\n",
    "            criteria = results.aic\n",
    "            best_param = {\"params\": param}\n",
    "            print(\n",
    "                \"| FIND BEST PARAMS | AIC: {:.2f} | p:{}, d:{}, q:{}\".format(\n",
    "                    criteria, *param\n",
    "                ),\n",
    "                end=\"\\r\",\n",
    "            )\n",
    "\n",
    "    return best_param"
   ]
  },
  {
   "cell_type": "code",
   "execution_count": null,
   "metadata": {
    "ExecuteTime": {
     "end_time": "2022-06-05T14:28:48.337422Z",
     "start_time": "2022-06-05T14:28:48.330416Z"
    }
   },
   "outputs": [],
   "source": [
    "def detect_anomalies(test_df, model_fit, z=0.7):\n",
    "    pred = model_fit.forecast(steps=len(test_df))\n",
    "\n",
    "    squared_errors = (test_df.values - pred) ** 2\n",
    "    threshold = np.mean(squared_errors) + z * np.std(squared_errors)\n",
    "    predictions = (squared_errors >= threshold).astype(int)\n",
    "\n",
    "    results_df = test_df.reset_index()\n",
    "    results_df.columns = [\"ds\", \"y\"]\n",
    "    results_df[\"anomaly\"] = predictions\n",
    "    results_df[\"yhat_upper\"] = results_df[\"y\"]\n",
    "    results_df[\"yhat_lower\"] = results_df[\"y\"]\n",
    "\n",
    "    return results_df"
   ]
  },
  {
   "cell_type": "code",
   "execution_count": null,
   "metadata": {
    "ExecuteTime": {
     "end_time": "2022-06-05T14:28:50.020412Z",
     "start_time": "2022-06-05T14:28:50.015425Z"
    }
   },
   "outputs": [],
   "source": [
    "def dependency_plot(pred):\n",
    "    total_indices = list(range(len(pred)))\n",
    "    total_values = pred[\"y\"].values\n",
    "\n",
    "    abnormal_indices = pred[pred[\"anomaly\"] != 0].index.values\n",
    "    abnormal_values = pred[pred[\"anomaly\"] != 0][\"y\"].values\n",
    "\n",
    "    # 그림 그리기\n",
    "    plt.plot(total_indices, total_values, color=\"green\")\n",
    "    plt.scatter(abnormal_indices, abnormal_values, color=\"r\")\n",
    "    plt.show()"
   ]
  },
  {
   "cell_type": "code",
   "execution_count": null,
   "metadata": {
    "ExecuteTime": {
     "end_time": "2022-06-05T14:30:04.119437Z",
     "start_time": "2022-06-05T14:28:50.526511Z"
    },
    "scrolled": true
   },
   "outputs": [],
   "source": [
    "for idx, column in enumerate(device_df.columns, start=1):\n",
    "    print(f\"COLUMN {idx}: {column}\")\n",
    "\n",
    "    # ARIMA 학습\n",
    "    best_param = find_best_param(train_df[column])  # 파라미터 찾기\n",
    "    model_fit = ARIMA_forecast(train_df[column], best_param)  # ARIMA 모델 학습\n",
    "\n",
    "    # ARIMA 예측 후 이상치 확인\n",
    "    pred = detect_anomalies(test_df[column], model_fit)\n",
    "    dependency_plot(pred)\n",
    "\n",
    "print(\"--------------------------------------------------------\")"
   ]
  },
  {
   "cell_type": "markdown",
   "metadata": {},
   "source": [
    "---"
   ]
  }
 ],
 "metadata": {
  "colab": {
   "name": "인공지능 프로젝트 템플릿",
   "provenance": [],
   "toc_visible": true
  },
  "kernelspec": {
   "display_name": "Python 3",
   "language": "python",
   "name": "python3"
  },
  "language_info": {
   "codemirror_mode": {
    "name": "ipython",
    "version": 3
   },
   "file_extension": ".py",
   "mimetype": "text/x-python",
   "name": "python",
   "nbconvert_exporter": "python",
   "pygments_lexer": "ipython3",
   "version": "3.8.6"
  },
  "toc": {
   "base_numbering": 1,
   "nav_menu": {},
   "number_sections": true,
   "sideBar": true,
   "skip_h1_title": true,
   "title_cell": "Table of Contents",
   "title_sidebar": "Contents",
   "toc_cell": false,
   "toc_position": {},
   "toc_section_display": true,
   "toc_window_display": false
  },
  "varInspector": {
   "cols": {
    "lenName": 16,
    "lenType": 16,
    "lenVar": 40
   },
   "kernels_config": {
    "python": {
     "delete_cmd_postfix": "",
     "delete_cmd_prefix": "del ",
     "library": "var_list.py",
     "varRefreshCmd": "print(var_dic_list())"
    },
    "r": {
     "delete_cmd_postfix": ") ",
     "delete_cmd_prefix": "rm(",
     "library": "var_list.r",
     "varRefreshCmd": "cat(var_dic_list()) "
    }
   },
   "types_to_exclude": [
    "module",
    "function",
    "builtin_function_or_method",
    "instance",
    "_Feature"
   ],
   "window_display": false
  },
  "vscode": {
   "interpreter": {
    "hash": "32f10e2d61982974a32f37d9004161d41c8a050f1292033df4b7675e858b97a4"
   }
  }
 },
 "nbformat": 4,
 "nbformat_minor": 1
}
