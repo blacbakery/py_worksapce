{
  "cells": [
    {
      "cell_type": "markdown",
      "id": "4_ltgvsoM4tO",
      "metadata": {
        "id": "4_ltgvsoM4tO"
      },
      "source": [
        "## Ensemble"
      ]
    },
    {
      "cell_type": "code",
      "execution_count": null,
      "id": "D2KsoGdqyH_J",
      "metadata": {
        "id": "D2KsoGdqyH_J"
      },
      "outputs": [],
      "source": [
        "Voting - 서로 다른 모델 여러 개, 학습 데이터는 동일\n",
        "         여러 모델의 결과를 집계 (hard voting - 개수, soft voting - 확률값의 평균)\n",
        "         모델별로 가중치(weight)를 사용해서 서로 다른 권리를 부여할 수 있다\n",
        "\n",
        "Bagging - 같은 모델 여러 개, 학습 데이터가 다름\n",
        "          데이터 셋에서 - 일부 데이터를 sampling해서 학습데이터로 사용함\n",
        "          데이터를 sampling을 부트스트랩(bootstrap)방식으로 함\n",
        "           - 단순 임의 복원 추출 방식(중복 허용, 선택되지 않을 수 있음)\n",
        "          모델간 서로 영향을 주지 않는 sampling과 학습이 이루어짐\n",
        "          결과를 집계해서 최종 결과를 산출\n",
        "          \n",
        "Boosting - 순차적 학습\n",
        "           데이터 셋에서 데이터를 sampling할  때 이전 모델의 학습결과를 사용해서 sampling을 함\n",
        "           학습결과가 좋지 않은 sample에 대해 다시 학습 대상으로 사용될 확률을 높임\n",
        "\n",
        "Stacking - 여러 개의 서로 다른 모델이 데이터셋에 대해 학습을 하여 결과를 만들어냄\n",
        "           학습 결과를 가지고 다시 학습하는 모델 - 최종결과를 만들어냄 "
      ]
    },
    {
      "cell_type": "markdown",
      "id": "9rK9eyfZKhRA",
      "metadata": {
        "id": "9rK9eyfZKhRA"
      },
      "source": [
        "## 1.함수 생성"
      ]
    },
    {
      "cell_type": "code",
      "execution_count": 19,
      "id": "BiOLvH7xIwez",
      "metadata": {
        "id": "BiOLvH7xIwez"
      },
      "outputs": [],
      "source": [
        "# [1] get_classification_scores 함수 만들기\n",
        "# accuracy, precision, recall, f1\n",
        "from sklearn.metrics import confusion_matrix, precision_score, recall_score, accuracy_score, f1_score\n",
        "\n",
        "def get_classification_scores(model, x_test, y_test):\n",
        "    y_pred = model.predict(x_test)\n",
        "    A = accuracy_score(y_test, y_pred)\n",
        "    B = precision_score(y_test, y_pred)\n",
        "    C = recall_score(y_test, y_pred)\n",
        "    D = f1_score(y_test, y_pred)\n",
        "    return [round(x, 4) for x in [A, B, C, D]]"
      ]
    },
    {
      "cell_type": "code",
      "execution_count": 18,
      "id": "XyM0dr4zCVrA",
      "metadata": {
        "id": "XyM0dr4zCVrA"
      },
      "outputs": [],
      "source": [
        "# [2] get_regression_scores 함수 만들기\n",
        "# r2_score, mae, mse, msle\n",
        "from sklearn.metrics import r2_score\n",
        "from sklearn.metrics import mean_absolute_error as mae\n",
        "from sklearn.metrics import mean_squared_error as mse\n",
        "from sklearn.metrics import mean_squared_log_error as msle\n",
        "\n",
        "def get_regression_scores(model, x_test, y_test):\n",
        "    y_pred = model.predict(x_test)\n",
        "    A = r2_score(y_test, y_pred)\n",
        "    B = mae(y_test, y_pred)\n",
        "    C = mse(y_test, y_pred)\n",
        "    D = msle(y_test, y_pred)\n",
        "    return [round(x, 4) for x in [A, B, C, D]]"
      ]
    },
    {
      "cell_type": "code",
      "execution_count": 17,
      "id": "fR_o4MXtH98a",
      "metadata": {
        "id": "fR_o4MXtH98a"
      },
      "outputs": [],
      "source": [
        "# [3] make_data 함수 만들기\n",
        "from sklearn.model_selection import train_test_split\n",
        "from sklearn.preprocessing import StandardScaler\n",
        "import pandas as pd\n",
        "\n",
        "def make_data(data, kind='classification'):\n",
        "\n",
        "    # 데이터를 X, y로 분리한다\n",
        "    X = data.iloc[:, :-1]\n",
        "    y = data.iloc[:, -1]\n",
        "\n",
        "    # 스케일링 처리\n",
        "    X_scaled = StandardScaler().fit_transform(X)\n",
        "\n",
        "    # train test 분리 (7.5:2.5), 층화추출, random_state=0\n",
        "    stratify = y if kind=='classification' else None\n",
        "    result = train_test_split(X_scaled,\n",
        "                              y,\n",
        "                              stratify=stratify,\n",
        "                              random_state=0) \n",
        "    return result\n"
      ]
    },
    {
      "cell_type": "code",
      "execution_count": 16,
      "id": "Z0OT161lCdMJ",
      "metadata": {
        "id": "Z0OT161lCdMJ"
      },
      "outputs": [],
      "source": [
        "# [4] make_classification_model 함수 만들기\n",
        "def make_classification_model(name, model, data):\n",
        "    # data 분리\n",
        "    x_train, x_test, y_train, y_test = data\n",
        "\n",
        "    # 모델 학습  \n",
        "    model.fit(x_train, y_train)\n",
        "\n",
        "    # train_scores, test_score 구하기\n",
        "    train_scores = get_classification_scores(model, x_train, y_train)\n",
        "    test_scores = get_classification_scores(model, x_test, y_test)\n",
        "\n",
        "    # DataFrame으로 만들어 x_test, y_test 와 함께 반환하기\n",
        "    index = ['name', 'model',\n",
        "             'accuracy1', 'precision1', 'recall1', 'f1_1',\n",
        "             'accuracy2', 'precision2', 'recall2', 'f1_2']\n",
        "    data = [name, model] + train_scores + test_scores\n",
        "    return pd.Series(data, index=index).to_frame().T"
      ]
    },
    {
      "cell_type": "code",
      "execution_count": 20,
      "id": "60WJJBjrB5r_",
      "metadata": {
        "id": "60WJJBjrB5r_"
      },
      "outputs": [],
      "source": [
        "# [5] make_regression_model 함수 만들기\n",
        "from sklearn.model_selection import train_test_split\n",
        "from sklearn.preprocessing import StandardScaler\n",
        "import pandas as pd\n",
        "\n",
        "def make_regression_model(name, model, data):\n",
        "    # 데이터 나누기\n",
        "    x_train, x_test, y_train, y_test = data\n",
        "\n",
        "    # 모델 학습  \n",
        "    model.fit(x_train, y_train)\n",
        "\n",
        "    # train_scores, test_score 구하기\n",
        "    train_scores = get_regression_scores(model, x_train, y_train)\n",
        "    test_scores = get_regression_scores(model, x_test, y_test)\n",
        "\n",
        "    # DataFrame으로 만들어 x_test, y_test 와 함께 반환하기\n",
        "    index = ['name', 'model',\n",
        "             'r2_score1', 'mae1', 'mse1', 'msle1',\n",
        "             'r2_score2', 'mae2', 'mse2', 'msle2']\n",
        "    data = [name, model] + train_scores + test_scores\n",
        "    return pd.Series(data, index=index).to_frame().T"
      ]
    },
    {
      "cell_type": "markdown",
      "id": "T6e2-INOM4tS",
      "metadata": {
        "id": "T6e2-INOM4tS"
      },
      "source": [
        "## 2.위스콘신 유방암 진단(이진 분류)"
      ]
    },
    {
      "cell_type": "markdown",
      "id": "RIVpiozkCtWc",
      "metadata": {
        "id": "RIVpiozkCtWc"
      },
      "source": [
        "### 2-1) 데이터 가져오기"
      ]
    },
    {
      "cell_type": "code",
      "execution_count": null,
      "id": "lGGrZQInwD0P",
      "metadata": {
        "colab": {
          "base_uri": "https://localhost:8080/"
        },
        "id": "lGGrZQInwD0P",
        "outputId": "31a0872d-918f-463f-e782-66c045ce0118"
      },
      "outputs": [
        {
          "name": "stdout",
          "output_type": "stream",
          "text": [
            "Cloning into 'data_05'...\n",
            "remote: Enumerating objects: 8, done.\u001b[K\n",
            "remote: Counting objects: 100% (8/8), done.\u001b[K\n",
            "remote: Compressing objects: 100% (8/8), done.\u001b[K\n",
            "remote: Total 8 (delta 0), reused 0 (delta 0), pack-reused 0\u001b[K\n",
            "Unpacking objects: 100% (8/8), done.\n"
          ]
        }
      ],
      "source": [
        "!git clone https://github.com/Soyoung-Yoon/data_05"
      ]
    },
    {
      "cell_type": "code",
      "execution_count": 50,
      "id": "_wGf1DyXGA5m",
      "metadata": {
        "id": "_wGf1DyXGA5m"
      },
      "outputs": [
        {
          "data": {
            "text/html": [
              "<div>\n",
              "<style scoped>\n",
              "    .dataframe tbody tr th:only-of-type {\n",
              "        vertical-align: middle;\n",
              "    }\n",
              "\n",
              "    .dataframe tbody tr th {\n",
              "        vertical-align: top;\n",
              "    }\n",
              "\n",
              "    .dataframe thead th {\n",
              "        text-align: right;\n",
              "    }\n",
              "</style>\n",
              "<table border=\"1\" class=\"dataframe\">\n",
              "  <thead>\n",
              "    <tr style=\"text-align: right;\">\n",
              "      <th></th>\n",
              "      <th>mean radius</th>\n",
              "      <th>mean texture</th>\n",
              "      <th>mean perimeter</th>\n",
              "      <th>mean area</th>\n",
              "      <th>mean smoothness</th>\n",
              "      <th>mean compactness</th>\n",
              "      <th>mean concavity</th>\n",
              "      <th>mean concave points</th>\n",
              "      <th>mean symmetry</th>\n",
              "      <th>mean fractal dimension</th>\n",
              "      <th>...</th>\n",
              "      <th>worst texture</th>\n",
              "      <th>worst perimeter</th>\n",
              "      <th>worst area</th>\n",
              "      <th>worst smoothness</th>\n",
              "      <th>worst compactness</th>\n",
              "      <th>worst concavity</th>\n",
              "      <th>worst concave points</th>\n",
              "      <th>worst symmetry</th>\n",
              "      <th>worst fractal dimension</th>\n",
              "      <th>class</th>\n",
              "    </tr>\n",
              "  </thead>\n",
              "  <tbody>\n",
              "    <tr>\n",
              "      <th>0</th>\n",
              "      <td>17.99</td>\n",
              "      <td>10.38</td>\n",
              "      <td>122.80</td>\n",
              "      <td>1001.0</td>\n",
              "      <td>0.11840</td>\n",
              "      <td>0.27760</td>\n",
              "      <td>0.30010</td>\n",
              "      <td>0.14710</td>\n",
              "      <td>0.2419</td>\n",
              "      <td>0.07871</td>\n",
              "      <td>...</td>\n",
              "      <td>17.33</td>\n",
              "      <td>184.60</td>\n",
              "      <td>2019.0</td>\n",
              "      <td>0.16220</td>\n",
              "      <td>0.66560</td>\n",
              "      <td>0.7119</td>\n",
              "      <td>0.2654</td>\n",
              "      <td>0.4601</td>\n",
              "      <td>0.11890</td>\n",
              "      <td>0</td>\n",
              "    </tr>\n",
              "    <tr>\n",
              "      <th>1</th>\n",
              "      <td>20.57</td>\n",
              "      <td>17.77</td>\n",
              "      <td>132.90</td>\n",
              "      <td>1326.0</td>\n",
              "      <td>0.08474</td>\n",
              "      <td>0.07864</td>\n",
              "      <td>0.08690</td>\n",
              "      <td>0.07017</td>\n",
              "      <td>0.1812</td>\n",
              "      <td>0.05667</td>\n",
              "      <td>...</td>\n",
              "      <td>23.41</td>\n",
              "      <td>158.80</td>\n",
              "      <td>1956.0</td>\n",
              "      <td>0.12380</td>\n",
              "      <td>0.18660</td>\n",
              "      <td>0.2416</td>\n",
              "      <td>0.1860</td>\n",
              "      <td>0.2750</td>\n",
              "      <td>0.08902</td>\n",
              "      <td>0</td>\n",
              "    </tr>\n",
              "    <tr>\n",
              "      <th>2</th>\n",
              "      <td>19.69</td>\n",
              "      <td>21.25</td>\n",
              "      <td>130.00</td>\n",
              "      <td>1203.0</td>\n",
              "      <td>0.10960</td>\n",
              "      <td>0.15990</td>\n",
              "      <td>0.19740</td>\n",
              "      <td>0.12790</td>\n",
              "      <td>0.2069</td>\n",
              "      <td>0.05999</td>\n",
              "      <td>...</td>\n",
              "      <td>25.53</td>\n",
              "      <td>152.50</td>\n",
              "      <td>1709.0</td>\n",
              "      <td>0.14440</td>\n",
              "      <td>0.42450</td>\n",
              "      <td>0.4504</td>\n",
              "      <td>0.2430</td>\n",
              "      <td>0.3613</td>\n",
              "      <td>0.08758</td>\n",
              "      <td>0</td>\n",
              "    </tr>\n",
              "    <tr>\n",
              "      <th>3</th>\n",
              "      <td>11.42</td>\n",
              "      <td>20.38</td>\n",
              "      <td>77.58</td>\n",
              "      <td>386.1</td>\n",
              "      <td>0.14250</td>\n",
              "      <td>0.28390</td>\n",
              "      <td>0.24140</td>\n",
              "      <td>0.10520</td>\n",
              "      <td>0.2597</td>\n",
              "      <td>0.09744</td>\n",
              "      <td>...</td>\n",
              "      <td>26.50</td>\n",
              "      <td>98.87</td>\n",
              "      <td>567.7</td>\n",
              "      <td>0.20980</td>\n",
              "      <td>0.86630</td>\n",
              "      <td>0.6869</td>\n",
              "      <td>0.2575</td>\n",
              "      <td>0.6638</td>\n",
              "      <td>0.17300</td>\n",
              "      <td>0</td>\n",
              "    </tr>\n",
              "    <tr>\n",
              "      <th>4</th>\n",
              "      <td>20.29</td>\n",
              "      <td>14.34</td>\n",
              "      <td>135.10</td>\n",
              "      <td>1297.0</td>\n",
              "      <td>0.10030</td>\n",
              "      <td>0.13280</td>\n",
              "      <td>0.19800</td>\n",
              "      <td>0.10430</td>\n",
              "      <td>0.1809</td>\n",
              "      <td>0.05883</td>\n",
              "      <td>...</td>\n",
              "      <td>16.67</td>\n",
              "      <td>152.20</td>\n",
              "      <td>1575.0</td>\n",
              "      <td>0.13740</td>\n",
              "      <td>0.20500</td>\n",
              "      <td>0.4000</td>\n",
              "      <td>0.1625</td>\n",
              "      <td>0.2364</td>\n",
              "      <td>0.07678</td>\n",
              "      <td>0</td>\n",
              "    </tr>\n",
              "    <tr>\n",
              "      <th>...</th>\n",
              "      <td>...</td>\n",
              "      <td>...</td>\n",
              "      <td>...</td>\n",
              "      <td>...</td>\n",
              "      <td>...</td>\n",
              "      <td>...</td>\n",
              "      <td>...</td>\n",
              "      <td>...</td>\n",
              "      <td>...</td>\n",
              "      <td>...</td>\n",
              "      <td>...</td>\n",
              "      <td>...</td>\n",
              "      <td>...</td>\n",
              "      <td>...</td>\n",
              "      <td>...</td>\n",
              "      <td>...</td>\n",
              "      <td>...</td>\n",
              "      <td>...</td>\n",
              "      <td>...</td>\n",
              "      <td>...</td>\n",
              "      <td>...</td>\n",
              "    </tr>\n",
              "    <tr>\n",
              "      <th>564</th>\n",
              "      <td>21.56</td>\n",
              "      <td>22.39</td>\n",
              "      <td>142.00</td>\n",
              "      <td>1479.0</td>\n",
              "      <td>0.11100</td>\n",
              "      <td>0.11590</td>\n",
              "      <td>0.24390</td>\n",
              "      <td>0.13890</td>\n",
              "      <td>0.1726</td>\n",
              "      <td>0.05623</td>\n",
              "      <td>...</td>\n",
              "      <td>26.40</td>\n",
              "      <td>166.10</td>\n",
              "      <td>2027.0</td>\n",
              "      <td>0.14100</td>\n",
              "      <td>0.21130</td>\n",
              "      <td>0.4107</td>\n",
              "      <td>0.2216</td>\n",
              "      <td>0.2060</td>\n",
              "      <td>0.07115</td>\n",
              "      <td>0</td>\n",
              "    </tr>\n",
              "    <tr>\n",
              "      <th>565</th>\n",
              "      <td>20.13</td>\n",
              "      <td>28.25</td>\n",
              "      <td>131.20</td>\n",
              "      <td>1261.0</td>\n",
              "      <td>0.09780</td>\n",
              "      <td>0.10340</td>\n",
              "      <td>0.14400</td>\n",
              "      <td>0.09791</td>\n",
              "      <td>0.1752</td>\n",
              "      <td>0.05533</td>\n",
              "      <td>...</td>\n",
              "      <td>38.25</td>\n",
              "      <td>155.00</td>\n",
              "      <td>1731.0</td>\n",
              "      <td>0.11660</td>\n",
              "      <td>0.19220</td>\n",
              "      <td>0.3215</td>\n",
              "      <td>0.1628</td>\n",
              "      <td>0.2572</td>\n",
              "      <td>0.06637</td>\n",
              "      <td>0</td>\n",
              "    </tr>\n",
              "    <tr>\n",
              "      <th>566</th>\n",
              "      <td>16.60</td>\n",
              "      <td>28.08</td>\n",
              "      <td>108.30</td>\n",
              "      <td>858.1</td>\n",
              "      <td>0.08455</td>\n",
              "      <td>0.10230</td>\n",
              "      <td>0.09251</td>\n",
              "      <td>0.05302</td>\n",
              "      <td>0.1590</td>\n",
              "      <td>0.05648</td>\n",
              "      <td>...</td>\n",
              "      <td>34.12</td>\n",
              "      <td>126.70</td>\n",
              "      <td>1124.0</td>\n",
              "      <td>0.11390</td>\n",
              "      <td>0.30940</td>\n",
              "      <td>0.3403</td>\n",
              "      <td>0.1418</td>\n",
              "      <td>0.2218</td>\n",
              "      <td>0.07820</td>\n",
              "      <td>0</td>\n",
              "    </tr>\n",
              "    <tr>\n",
              "      <th>567</th>\n",
              "      <td>20.60</td>\n",
              "      <td>29.33</td>\n",
              "      <td>140.10</td>\n",
              "      <td>1265.0</td>\n",
              "      <td>0.11780</td>\n",
              "      <td>0.27700</td>\n",
              "      <td>0.35140</td>\n",
              "      <td>0.15200</td>\n",
              "      <td>0.2397</td>\n",
              "      <td>0.07016</td>\n",
              "      <td>...</td>\n",
              "      <td>39.42</td>\n",
              "      <td>184.60</td>\n",
              "      <td>1821.0</td>\n",
              "      <td>0.16500</td>\n",
              "      <td>0.86810</td>\n",
              "      <td>0.9387</td>\n",
              "      <td>0.2650</td>\n",
              "      <td>0.4087</td>\n",
              "      <td>0.12400</td>\n",
              "      <td>0</td>\n",
              "    </tr>\n",
              "    <tr>\n",
              "      <th>568</th>\n",
              "      <td>7.76</td>\n",
              "      <td>24.54</td>\n",
              "      <td>47.92</td>\n",
              "      <td>181.0</td>\n",
              "      <td>0.05263</td>\n",
              "      <td>0.04362</td>\n",
              "      <td>0.00000</td>\n",
              "      <td>0.00000</td>\n",
              "      <td>0.1587</td>\n",
              "      <td>0.05884</td>\n",
              "      <td>...</td>\n",
              "      <td>30.37</td>\n",
              "      <td>59.16</td>\n",
              "      <td>268.6</td>\n",
              "      <td>0.08996</td>\n",
              "      <td>0.06444</td>\n",
              "      <td>0.0000</td>\n",
              "      <td>0.0000</td>\n",
              "      <td>0.2871</td>\n",
              "      <td>0.07039</td>\n",
              "      <td>1</td>\n",
              "    </tr>\n",
              "  </tbody>\n",
              "</table>\n",
              "<p>569 rows × 31 columns</p>\n",
              "</div>"
            ],
            "text/plain": [
              "     mean radius  mean texture  mean perimeter  mean area  mean smoothness  \\\n",
              "0          17.99         10.38          122.80     1001.0          0.11840   \n",
              "1          20.57         17.77          132.90     1326.0          0.08474   \n",
              "2          19.69         21.25          130.00     1203.0          0.10960   \n",
              "3          11.42         20.38           77.58      386.1          0.14250   \n",
              "4          20.29         14.34          135.10     1297.0          0.10030   \n",
              "..           ...           ...             ...        ...              ...   \n",
              "564        21.56         22.39          142.00     1479.0          0.11100   \n",
              "565        20.13         28.25          131.20     1261.0          0.09780   \n",
              "566        16.60         28.08          108.30      858.1          0.08455   \n",
              "567        20.60         29.33          140.10     1265.0          0.11780   \n",
              "568         7.76         24.54           47.92      181.0          0.05263   \n",
              "\n",
              "     mean compactness  mean concavity  mean concave points  mean symmetry  \\\n",
              "0             0.27760         0.30010              0.14710         0.2419   \n",
              "1             0.07864         0.08690              0.07017         0.1812   \n",
              "2             0.15990         0.19740              0.12790         0.2069   \n",
              "3             0.28390         0.24140              0.10520         0.2597   \n",
              "4             0.13280         0.19800              0.10430         0.1809   \n",
              "..                ...             ...                  ...            ...   \n",
              "564           0.11590         0.24390              0.13890         0.1726   \n",
              "565           0.10340         0.14400              0.09791         0.1752   \n",
              "566           0.10230         0.09251              0.05302         0.1590   \n",
              "567           0.27700         0.35140              0.15200         0.2397   \n",
              "568           0.04362         0.00000              0.00000         0.1587   \n",
              "\n",
              "     mean fractal dimension  ...  worst texture  worst perimeter  worst area  \\\n",
              "0                   0.07871  ...          17.33           184.60      2019.0   \n",
              "1                   0.05667  ...          23.41           158.80      1956.0   \n",
              "2                   0.05999  ...          25.53           152.50      1709.0   \n",
              "3                   0.09744  ...          26.50            98.87       567.7   \n",
              "4                   0.05883  ...          16.67           152.20      1575.0   \n",
              "..                      ...  ...            ...              ...         ...   \n",
              "564                 0.05623  ...          26.40           166.10      2027.0   \n",
              "565                 0.05533  ...          38.25           155.00      1731.0   \n",
              "566                 0.05648  ...          34.12           126.70      1124.0   \n",
              "567                 0.07016  ...          39.42           184.60      1821.0   \n",
              "568                 0.05884  ...          30.37            59.16       268.6   \n",
              "\n",
              "     worst smoothness  worst compactness  worst concavity  \\\n",
              "0             0.16220            0.66560           0.7119   \n",
              "1             0.12380            0.18660           0.2416   \n",
              "2             0.14440            0.42450           0.4504   \n",
              "3             0.20980            0.86630           0.6869   \n",
              "4             0.13740            0.20500           0.4000   \n",
              "..                ...                ...              ...   \n",
              "564           0.14100            0.21130           0.4107   \n",
              "565           0.11660            0.19220           0.3215   \n",
              "566           0.11390            0.30940           0.3403   \n",
              "567           0.16500            0.86810           0.9387   \n",
              "568           0.08996            0.06444           0.0000   \n",
              "\n",
              "     worst concave points  worst symmetry  worst fractal dimension  class  \n",
              "0                  0.2654          0.4601                  0.11890      0  \n",
              "1                  0.1860          0.2750                  0.08902      0  \n",
              "2                  0.2430          0.3613                  0.08758      0  \n",
              "3                  0.2575          0.6638                  0.17300      0  \n",
              "4                  0.1625          0.2364                  0.07678      0  \n",
              "..                    ...             ...                      ...    ...  \n",
              "564                0.2216          0.2060                  0.07115      0  \n",
              "565                0.1628          0.2572                  0.06637      0  \n",
              "566                0.1418          0.2218                  0.07820      0  \n",
              "567                0.2650          0.4087                  0.12400      0  \n",
              "568                0.0000          0.2871                  0.07039      1  \n",
              "\n",
              "[569 rows x 31 columns]"
            ]
          },
          "execution_count": 50,
          "metadata": {},
          "output_type": "execute_result"
        }
      ],
      "source": [
        "# [1] 암 데이터 가져오기\n",
        "# 암 데이터를 가져와 cancer로 이름 지정\n",
        "# make_data 를 사용한 data 분리 후 data_cancer 이름 지정\n",
        "# target : ['malignant' 'benign']  : 악성(0), 양성(1)\n",
        "\n",
        "import pandas as pd\n",
        "\n",
        "cancer = pd.read_csv('./data_05/breast_cancer.csv')\n",
        "cancer"
      ]
    },
    {
      "cell_type": "code",
      "execution_count": 52,
      "id": "48547223",
      "metadata": {},
      "outputs": [
        {
          "data": {
            "text/plain": [
              "[(142, 30), (427, 30), (142,), (427,)]"
            ]
          },
          "execution_count": 52,
          "metadata": {},
          "output_type": "execute_result"
        }
      ],
      "source": [
        "X= cancer.drop(columns='class')\n",
        "Y=cancer['class']\n",
        "\n",
        "from sklearn.preprocessing import StandardScaler\n",
        "scaler = StandardScaler()\n",
        "X_scaled = scaler.fit_transform(X)\n",
        "\n",
        "from sklearn.model_selection import train_test_split\n",
        "A = train_test_split(X_scaled, Y, train_size=0.25, random_state=0, stratify=Y)\n",
        "x_train, x_test, y_train, y_test = A\n",
        "[x.shape for x in A]"
      ]
    },
    {
      "cell_type": "markdown",
      "id": "uBq16L3eM4tW",
      "metadata": {
        "id": "uBq16L3eM4tW"
      },
      "source": [
        "### 2-2) voting 참여 분류기 생성\n",
        "- https://scikit-learn.org/stable/modules/generated/sklearn.ensemble.VotingClassifier.html"
      ]
    },
    {
      "cell_type": "code",
      "execution_count": null,
      "id": "3Wrj9ABPM4tX",
      "metadata": {
        "id": "3Wrj9ABPM4tX"
      },
      "outputs": [],
      "source": [
        "# VotingClassifier의 사용법 확인\n",
        "from sklearn.ensemble import VotingClassifier\n",
        "VotingClassifier?"
      ]
    },
    {
      "cell_type": "code",
      "execution_count": null,
      "id": "cpiRGRdAM4tY",
      "metadata": {
        "id": "cpiRGRdAM4tY"
      },
      "outputs": [],
      "source": [
        "# VotingRegressor의 사용법 확인\n",
        "from sklearn.ensemble import VotingRegressor\n",
        "VotingRegressor?"
      ]
    },
    {
      "cell_type": "code",
      "execution_count": null,
      "id": "RkslZ27d54c9",
      "metadata": {
        "id": "RkslZ27d54c9"
      },
      "outputs": [],
      "source": [
        "from sklearn.neighbors import KNeighborsClassifier\n",
        "from sklearn.linear_model import LogisticRegression\n",
        "from sklearn.tree import DecisionTreeClassifier\n",
        "from sklearn.ensemble import VotingClassifier\n",
        "LogisticRegression?"
      ]
    },
    {
      "cell_type": "code",
      "execution_count": 37,
      "id": "PPguL46FKVrD",
      "metadata": {
        "id": "PPguL46FKVrD"
      },
      "outputs": [],
      "source": [
        "# [2] Voting을 위한 다양한 모델 생성\n",
        "\n",
        "import pandas as pd\n",
        "\n",
        "# Voting을 위한 다양한 모델 생성\n",
        "from sklearn.neighbors import KNeighborsClassifier\n",
        "from sklearn.linear_model import LogisticRegression\n",
        "from sklearn.tree import DecisionTreeClassifier\n",
        "from sklearn.ensemble import VotingClassifier\n",
        "\n",
        "# 1. n_neighbors 를 각각 3, 5로 갖는 KNN 모델 두 개 만들기\n",
        "# 2. max_iter=10000 인 LogisticRegression 모델 만들기\n",
        "# 3. max_depth 를 각각 3, 5로 갖는 DecisionTree 모델 두 개 만들기\n",
        "knn3 = KNeighborsClassifier(n_neighbors=3)\n",
        "knn5 = KNeighborsClassifier(n_neighbors=5)\n",
        "lr = LogisticRegression(max_iter=10000)\n",
        "dt3 = DecisionTreeClassifier(max_depth=3)\n",
        "dt5 = DecisionTreeClassifier(max_depth=5)\n",
        "\n",
        "# estimators = [('knn3', knn3), ('knn5', knn5), ...]  와 같이 \n",
        "# estimator의 목록 생성\n",
        "names = ['knn3', 'knn5', 'lr', 'dt3', 'dt5']\n",
        "estimator = [knn3, knn5, lr, dt3, dt5]\n",
        "estimators = list(zip(names,estimator))\n",
        "#print(estimators)\n",
        "\n",
        "# Hard Voting 모델 생성\n",
        "hard = VotingClassifier(estimators, voting='hard')\n",
        "\n",
        "# Soft Voting 모델 생성\n",
        "soft = VotingClassifier(estimators, voting='soft')"
      ]
    },
    {
      "cell_type": "code",
      "execution_count": 53,
      "id": "70626a64",
      "metadata": {},
      "outputs": [
        {
          "data": {
            "text/html": [
              "<div>\n",
              "<style scoped>\n",
              "    .dataframe tbody tr th:only-of-type {\n",
              "        vertical-align: middle;\n",
              "    }\n",
              "\n",
              "    .dataframe tbody tr th {\n",
              "        vertical-align: top;\n",
              "    }\n",
              "\n",
              "    .dataframe thead th {\n",
              "        text-align: right;\n",
              "    }\n",
              "</style>\n",
              "<table border=\"1\" class=\"dataframe\">\n",
              "  <thead>\n",
              "    <tr style=\"text-align: right;\">\n",
              "      <th></th>\n",
              "      <th>train</th>\n",
              "      <th>test</th>\n",
              "      <th>diff</th>\n",
              "    </tr>\n",
              "  </thead>\n",
              "  <tbody>\n",
              "    <tr>\n",
              "      <th>lr</th>\n",
              "      <td>99.295775</td>\n",
              "      <td>97.423888</td>\n",
              "      <td>1.871887</td>\n",
              "    </tr>\n",
              "    <tr>\n",
              "      <th>knn5</th>\n",
              "      <td>97.183099</td>\n",
              "      <td>94.145199</td>\n",
              "      <td>3.037900</td>\n",
              "    </tr>\n",
              "    <tr>\n",
              "      <th>hard</th>\n",
              "      <td>99.295775</td>\n",
              "      <td>96.018735</td>\n",
              "      <td>3.277039</td>\n",
              "    </tr>\n",
              "    <tr>\n",
              "      <th>knn3</th>\n",
              "      <td>98.591549</td>\n",
              "      <td>94.847775</td>\n",
              "      <td>3.743774</td>\n",
              "    </tr>\n",
              "    <tr>\n",
              "      <th>soft</th>\n",
              "      <td>100.000000</td>\n",
              "      <td>92.974239</td>\n",
              "      <td>7.025761</td>\n",
              "    </tr>\n",
              "    <tr>\n",
              "      <th>dt3</th>\n",
              "      <td>100.000000</td>\n",
              "      <td>91.334895</td>\n",
              "      <td>8.665105</td>\n",
              "    </tr>\n",
              "    <tr>\n",
              "      <th>dt5</th>\n",
              "      <td>100.000000</td>\n",
              "      <td>90.632319</td>\n",
              "      <td>9.367681</td>\n",
              "    </tr>\n",
              "  </tbody>\n",
              "</table>\n",
              "</div>"
            ],
            "text/plain": [
              "           train       test      diff\n",
              "lr     99.295775  97.423888  1.871887\n",
              "knn5   97.183099  94.145199  3.037900\n",
              "hard   99.295775  96.018735  3.277039\n",
              "knn3   98.591549  94.847775  3.743774\n",
              "soft  100.000000  92.974239  7.025761\n",
              "dt3   100.000000  91.334895  8.665105\n",
              "dt5   100.000000  90.632319  9.367681"
            ]
          },
          "execution_count": 53,
          "metadata": {},
          "output_type": "execute_result"
        }
      ],
      "source": [
        "Tnames = names + ['hard', 'soft']\n",
        "Testimator = estimator + [hard, soft]\n",
        "\n",
        "train_score = []\n",
        "test_score = []\n",
        "for model in Testimator:\n",
        "    model.fit(x_train, y_train)\n",
        "    train_score.append(model.score(x_train, y_train)*100)\n",
        "    test_score.append(model.score(x_test, y_test)*100)\n",
        "#display(train_score, test_score)\n",
        "temp = pd.DataFrame()\n",
        "temp['train']=train_score\n",
        "temp['test']=test_score\n",
        "temp['diff']=temp['train']-temp['test']\n",
        "temp.index = Tnames\n",
        "temp.sort_values('diff')"
      ]
    },
    {
      "cell_type": "code",
      "execution_count": 54,
      "id": "a2e7e626",
      "metadata": {},
      "outputs": [
        {
          "data": {
            "image/png": "[encoded data removed]",
            "text/plain": [
              "<Figure size 640x480 with 1 Axes>"
            ]
          },
          "metadata": {},
          "output_type": "display_data"
        }
      ],
      "source": [
        "import matplotlib.pyplot as plt\n",
        "temp.plot()\n",
        "plt.grid(True)\n",
        "plt.show()"
      ]
    },
    {
      "cell_type": "code",
      "execution_count": null,
      "id": "r_TWFoPzM4tb",
      "metadata": {
        "colab": {
          "base_uri": "https://localhost:8080/",
          "height": 402
        },
        "id": "r_TWFoPzM4tb",
        "outputId": "2edb786b-d7cc-4cda-d13c-389d130a65b3"
      },
      "outputs": [],
      "source": [
        "# [3] 각 모델을 make_classification_model 을 사용하여 학습 \n",
        "Tnames = ['hard', 'soft'] + names\n",
        "Testimators = [hard, soft] + estimator\n",
        "\n",
        "# 반복문을 사용한 ensemble 및 단독 모델 성능 비교\n",
        "result = []\n",
        "for a, b in zip(Tnames, Testimators):\n",
        "    r = make_classification_model(a, b, data_cancer)\n",
        "    #display(r)\n",
        "    result.append(r)\n",
        "    \n",
        "df = pd.concat(result, ignore_index=True)\n",
        "df"
      ]
    },
    {
      "cell_type": "code",
      "execution_count": null,
      "id": "Fnk5lhsQvbOT",
      "metadata": {
        "colab": {
          "base_uri": "https://localhost:8080/",
          "height": 269
        },
        "id": "Fnk5lhsQvbOT",
        "outputId": "6c56b96f-f063-49f0-a12e-839537cf97b2"
      },
      "outputs": [
        {
          "data": {
            "text/html": [
              "\n",
              "  <div id=\"df-3e865ad0-a4c8-4c04-ae8e-dfab6dadd77f\">\n",
              "    <div class=\"colab-df-container\">\n",
              "      <div>\n",
              "<style scoped>\n",
              "    .dataframe tbody tr th:only-of-type {\n",
              "        vertical-align: middle;\n",
              "    }\n",
              "\n",
              "    .dataframe tbody tr th {\n",
              "        vertical-align: top;\n",
              "    }\n",
              "\n",
              "    .dataframe thead th {\n",
              "        text-align: right;\n",
              "    }\n",
              "</style>\n",
              "<table border=\"1\" class=\"dataframe\">\n",
              "  <thead>\n",
              "    <tr style=\"text-align: right;\">\n",
              "      <th></th>\n",
              "      <th>name</th>\n",
              "      <th>accuracy1</th>\n",
              "      <th>accuracy2</th>\n",
              "      <th>diff</th>\n",
              "    </tr>\n",
              "  </thead>\n",
              "  <tbody>\n",
              "    <tr>\n",
              "      <th>3</th>\n",
              "      <td>knn5</td>\n",
              "      <td>0.9836</td>\n",
              "      <td>0.951</td>\n",
              "      <td>0.0247</td>\n",
              "    </tr>\n",
              "    <tr>\n",
              "      <th>4</th>\n",
              "      <td>lr</td>\n",
              "      <td>0.9906</td>\n",
              "      <td>0.958</td>\n",
              "      <td>0.0258</td>\n",
              "    </tr>\n",
              "    <tr>\n",
              "      <th>0</th>\n",
              "      <td>hard</td>\n",
              "      <td>0.993</td>\n",
              "      <td>0.958</td>\n",
              "      <td>0.027</td>\n",
              "    </tr>\n",
              "    <tr>\n",
              "      <th>2</th>\n",
              "      <td>knn3</td>\n",
              "      <td>0.9883</td>\n",
              "      <td>0.951</td>\n",
              "      <td>0.0285</td>\n",
              "    </tr>\n",
              "    <tr>\n",
              "      <th>1</th>\n",
              "      <td>soft</td>\n",
              "      <td>0.9977</td>\n",
              "      <td>0.9441</td>\n",
              "      <td>0.0421</td>\n",
              "    </tr>\n",
              "    <tr>\n",
              "      <th>5</th>\n",
              "      <td>dt3</td>\n",
              "      <td>0.9765</td>\n",
              "      <td>0.9161</td>\n",
              "      <td>0.0487</td>\n",
              "    </tr>\n",
              "    <tr>\n",
              "      <th>6</th>\n",
              "      <td>dt5</td>\n",
              "      <td>1.0</td>\n",
              "      <td>0.9021</td>\n",
              "      <td>0.0795</td>\n",
              "    </tr>\n",
              "  </tbody>\n",
              "</table>\n",
              "</div>\n",
              "      <button class=\"colab-df-convert\" onclick=\"convertToInteractive('df-3e865ad0-a4c8-4c04-ae8e-dfab6dadd77f')\"\n",
              "              title=\"Convert this dataframe to an interactive table.\"\n",
              "              style=\"display:none;\">\n",
              "        \n",
              "  <svg xmlns=\"http://www.w3.org/2000/svg\" height=\"24px\"viewBox=\"0 0 24 24\"\n",
              "       width=\"24px\">\n",
              "    <path d=\"M0 0h24v24H0V0z\" fill=\"none\"/>\n",
              "    <path d=\"M18.56 5.44l.94 2.06.94-2.06 2.06-.94-2.06-.94-.94-2.06-.94 2.06-2.06.94zm-11 1L8.5 8.5l.94-2.06 2.06-.94-2.06-.94L8.5 2.5l-.94 2.06-2.06.94zm10 10l.94 2.06.94-2.06 2.06-.94-2.06-.94-.94-2.06-.94 2.06-2.06.94z\"/><path d=\"M17.41 7.96l-1.37-1.37c-.4-.4-.92-.59-1.43-.59-.52 0-1.04.2-1.43.59L10.3 9.45l-7.72 7.72c-.78.78-.78 2.05 0 2.83L4 21.41c.39.39.9.59 1.41.59.51 0 1.02-.2 1.41-.59l7.78-7.78 2.81-2.81c.8-.78.8-2.07 0-2.86zM5.41 20L4 18.59l7.72-7.72 1.47 1.35L5.41 20z\"/>\n",
              "  </svg>\n",
              "      </button>\n",
              "      \n",
              "  <style>\n",
              "    .colab-df-container {\n",
              "      display:flex;\n",
              "      flex-wrap:wrap;\n",
              "      gap: 12px;\n",
              "    }\n",
              "\n",
              "    .colab-df-convert {\n",
              "      background-color: #E8F0FE;\n",
              "      border: none;\n",
              "      border-radius: 50%;\n",
              "      cursor: pointer;\n",
              "      display: none;\n",
              "      fill: #1967D2;\n",
              "      height: 32px;\n",
              "      padding: 0 0 0 0;\n",
              "      width: 32px;\n",
              "    }\n",
              "\n",
              "    .colab-df-convert:hover {\n",
              "      background-color: #E2EBFA;\n",
              "      box-shadow: 0px 1px 2px rgba(60, 64, 67, 0.3), 0px 1px 3px 1px rgba(60, 64, 67, 0.15);\n",
              "      fill: #174EA6;\n",
              "    }\n",
              "\n",
              "    [theme=dark] .colab-df-convert {\n",
              "      background-color: #3B4455;\n",
              "      fill: #D2E3FC;\n",
              "    }\n",
              "\n",
              "    [theme=dark] .colab-df-convert:hover {\n",
              "      background-color: #434B5C;\n",
              "      box-shadow: 0px 1px 3px 1px rgba(0, 0, 0, 0.15);\n",
              "      filter: drop-shadow(0px 1px 2px rgba(0, 0, 0, 0.3));\n",
              "      fill: #FFFFFF;\n",
              "    }\n",
              "  </style>\n",
              "\n",
              "      <script>\n",
              "        const buttonEl =\n",
              "          document.querySelector('#df-3e865ad0-a4c8-4c04-ae8e-dfab6dadd77f button.colab-df-convert');\n",
              "        buttonEl.style.display =\n",
              "          google.colab.kernel.accessAllowed ? 'block' : 'none';\n",
              "\n",
              "        async function convertToInteractive(key) {\n",
              "          const element = document.querySelector('#df-3e865ad0-a4c8-4c04-ae8e-dfab6dadd77f');\n",
              "          const dataTable =\n",
              "            await google.colab.kernel.invokeFunction('convertToInteractive',\n",
              "                                                     [key], {});\n",
              "          if (!dataTable) return;\n",
              "\n",
              "          const docLinkHtml = 'Like what you see? Visit the ' +\n",
              "            '<a target=\"_blank\" href=https://colab.research.google.com/notebooks/data_table.ipynb>data table notebook</a>'\n",
              "            + ' to learn more about interactive tables.';\n",
              "          element.innerHTML = '';\n",
              "          dataTable['output_type'] = 'display_data';\n",
              "          await google.colab.output.renderOutput(dataTable, element);\n",
              "          const docLink = document.createElement('div');\n",
              "          docLink.innerHTML = docLinkHtml;\n",
              "          element.appendChild(docLink);\n",
              "        }\n",
              "      </script>\n",
              "    </div>\n",
              "  </div>\n",
              "  "
            ],
            "text/plain": [
              "   name accuracy1 accuracy2    diff\n",
              "3  knn5    0.9836     0.951  0.0247\n",
              "4    lr    0.9906     0.958  0.0258\n",
              "0  hard     0.993     0.958   0.027\n",
              "2  knn3    0.9883     0.951  0.0285\n",
              "1  soft    0.9977    0.9441  0.0421\n",
              "5   dt3    0.9765    0.9161  0.0487\n",
              "6   dt5       1.0    0.9021  0.0795"
            ]
          },
          "execution_count": 17,
          "metadata": {},
          "output_type": "execute_result"
        }
      ],
      "source": [
        "# [4] accuracy1, accuracy2, diff 구하기\n",
        "df['diff'] = \n",
        "\n",
        "temp = df[['name', 'accuracy1', 'accuracy2', 'diff']]\n",
        "# temp를 diff를 기준으로 오름차순 정렬\n"
      ]
    },
    {
      "cell_type": "code",
      "execution_count": null,
      "id": "Ixvm79ubk73J",
      "metadata": {
        "colab": {
          "base_uri": "https://localhost:8080/",
          "height": 279
        },
        "id": "Ixvm79ubk73J",
        "outputId": "a85bee83-0a95-45ca-c9fa-1d7b3fc7a6d4"
      },
      "outputs": [
        {
          "data": {
            "image/png": "[encoded data removed]",
            "text/plain": [
              "<Figure size 432x288 with 1 Axes>"
            ]
          },
          "metadata": {
            "needs_background": "light"
          },
          "output_type": "display_data"
        }
      ],
      "source": [
        "# [5] accuracy 에 대한 선 그래프 그리기\n",
        "import matplotlib.pyplot as plt\n",
        "\n",
        "plt.grid()\n",
        "plt.show()"
      ]
    },
    {
      "cell_type": "markdown",
      "id": "qN7p958HM4tb",
      "metadata": {
        "id": "qN7p958HM4tb"
      },
      "source": [
        "### 2-3) 배깅(Bagging) 방식 - RandomForest\n",
        "- https://scikit-learn.org/stable/modules/generated/sklearn.ensemble.RandomForestClassifier.html"
      ]
    },
    {
      "cell_type": "code",
      "execution_count": 57,
      "id": "MREM1fvhM4tc",
      "metadata": {
        "colab": {
          "base_uri": "https://localhost:8080/",
          "height": 162
        },
        "id": "MREM1fvhM4tc",
        "outputId": "ef83b3ee-4d88-46d5-d90d-6bfb5c1871f2"
      },
      "outputs": [
        {
          "data": {
            "text/plain": [
              "(1.0, 0.9250585480093677)"
            ]
          },
          "execution_count": 57,
          "metadata": {},
          "output_type": "execute_result"
        }
      ],
      "source": [
        "from sklearn.ensemble import RandomForestClassifier\n",
        "# [6] cancer 데이터, RandomForestClassifier를 사용하여 학습하고 성능을 확인한다\n",
        "# RandomForestClassifier의 경우 max_depth=4, random_state=0 사용\n",
        "\n",
        "\n",
        "model = RandomForestClassifier(max_depth=4, random_state=0)\n",
        "model.fit(x_train, y_train)\n",
        "model.score(x_train, y_train), model.score(x_test, y_test)"
      ]
    },
    {
      "cell_type": "markdown",
      "id": "XeVf0fqaM4td",
      "metadata": {
        "id": "XeVf0fqaM4td"
      },
      "source": [
        "### 2-4) 부스팅(Boosting) 방식 : GradientBoosting"
      ]
    },
    {
      "cell_type": "code",
      "execution_count": 56,
      "id": "KgVc8MSbM4td",
      "metadata": {
        "colab": {
          "base_uri": "https://localhost:8080/",
          "height": 145
        },
        "id": "KgVc8MSbM4td",
        "outputId": "84267b86-481b-44f6-a7e2-6ac79e2c9dad"
      },
      "outputs": [
        {
          "data": {
            "text/plain": [
              "(1.0, 0.9414519906323185)"
            ]
          },
          "execution_count": 56,
          "metadata": {},
          "output_type": "execute_result"
        }
      ],
      "source": [
        "# [7] cancer 데이터, GradientBoostingClassifier를 사용하여 학습하고 성능을 확인한다\n",
        "from sklearn.ensemble import GradientBoostingClassifier\n",
        "\n",
        "model = GradientBoostingClassifier(n_estimators=100, learning_rate=0.2, subsample=0.7, random_state=0)\n",
        "model.fit(x_train, y_train)\n",
        "model.score(x_train, y_train), model.score(x_test, y_test)"
      ]
    },
    {
      "cell_type": "markdown",
      "id": "0t9AvJcLM4td",
      "metadata": {
        "id": "0t9AvJcLM4td"
      },
      "source": [
        "### 2-5) Stacking 방식 : StackingClassifier"
      ]
    },
    {
      "cell_type": "code",
      "execution_count": null,
      "id": "9t3TfNTQM4te",
      "metadata": {
        "id": "9t3TfNTQM4te"
      },
      "outputs": [],
      "source": [
        "from sklearn.ensemble import StackingClassifier\n",
        "StackingClassifier?"
      ]
    },
    {
      "cell_type": "code",
      "execution_count": 63,
      "id": "0p2kjh7pM4te",
      "metadata": {
        "colab": {
          "base_uri": "https://localhost:8080/",
          "height": 162
        },
        "id": "0p2kjh7pM4te",
        "outputId": "b9902f7c-d08b-4fd0-9280-7fc9a6d61c82"
      },
      "outputs": [
        {
          "data": {
            "text/plain": [
              "(1.0, 0.9227166276346604)"
            ]
          },
          "execution_count": 63,
          "metadata": {},
          "output_type": "execute_result"
        }
      ],
      "source": [
        "from sklearn.ensemble import StackingClassifier\n",
        "\n",
        "# [8] RandomForestClassifier, GradientBoostingClassifier 를 estimators로 사용하고\n",
        "# LogisticRegression을 final_estimator로 사용한다\n",
        "# 이때, estimator 각각에 이름은 'rf', 'gb'로 사용한다\n",
        "name = ['rf', 'gb']\n",
        "estimator = [RandomForestClassifier(), GradientBoostingClassifier()]\n",
        "estimators = list(zip(name, estimator))\n",
        "\n",
        "model = StackingClassifier(estimators, LogisticRegression())\n",
        "model.fit(x_train, y_train)\n",
        "model.score(x_train, y_train), model.score(x_test, y_test)"
      ]
    },
    {
      "cell_type": "markdown",
      "id": "7CkHw_8gM4te",
      "metadata": {
        "id": "7CkHw_8gM4te"
      },
      "source": [
        "### 2-6) XGBOOST(Extream Gradient Boost)"
      ]
    },
    {
      "cell_type": "code",
      "execution_count": null,
      "id": "9mcYtDvTM4te",
      "metadata": {
        "colab": {
          "base_uri": "https://localhost:8080/"
        },
        "id": "9mcYtDvTM4te",
        "outputId": "73f07659-7cd6-4c3c-df11-46c420f9b2a2"
      },
      "outputs": [
        {
          "name": "stdout",
          "output_type": "stream",
          "text": [
            "Looking in indexes: https://pypi.org/simple, https://us-python.pkg.dev/colab-wheels/public/simple/\n",
            "Requirement already satisfied: xgboost in /usr/local/lib/python3.7/dist-packages (0.90)\n",
            "Requirement already satisfied: numpy in /usr/local/lib/python3.7/dist-packages (from xgboost) (1.21.6)\n",
            "Requirement already satisfied: scipy in /usr/local/lib/python3.7/dist-packages (from xgboost) (1.4.1)\n"
          ]
        }
      ],
      "source": [
        "!pip install xgboost"
      ]
    },
    {
      "cell_type": "markdown",
      "id": "iInVQv5fM4tf",
      "metadata": {
        "id": "iInVQv5fM4tf"
      },
      "source": [
        "#### XGBOOST 분류\n",
        "- https://xgboost.readthedocs.io/en/latest/index.html\n",
        "- https://xgboost.readthedocs.io/en/latest/python/python_api.html"
      ]
    },
    {
      "cell_type": "code",
      "execution_count": null,
      "id": "BdWCeacnM4tf",
      "metadata": {
        "id": "BdWCeacnM4tf"
      },
      "outputs": [],
      "source": [
        "from xgboost import XGBClassifier\n",
        "XGBClassifier?"
      ]
    },
    {
      "cell_type": "code",
      "execution_count": 66,
      "id": "h1nfclSgM4tf",
      "metadata": {
        "colab": {
          "base_uri": "https://localhost:8080/",
          "height": 162
        },
        "id": "h1nfclSgM4tf",
        "outputId": "44240bd4-1cd2-485b-e10b-2895e27ac442"
      },
      "outputs": [
        {
          "data": {
            "text/plain": [
              "(1.0, 0.9227166276346604)"
            ]
          },
          "execution_count": 66,
          "metadata": {},
          "output_type": "execute_result"
        }
      ],
      "source": [
        "from xgboost import XGBClassifier\n",
        "\n",
        "# [9] XGBClassifier 를 사용하여 model을 만들고 학습시킨 뒤 성능을 확인한다\n",
        "#   n_estimators=400, learning_rate=0.1, max_depth=3, \n",
        "#   use_label_encoder=False (Deprecated) eval_metric='logloss' 을 사용한다\n",
        "model = XGBClassifier(n_estimators=400, learning_rate=0.1, max_depth=3)\n",
        "model.fit(x_train, y_train)\n",
        "model.score(x_train, y_train), model.score(x_test, y_test)"
      ]
    },
    {
      "cell_type": "markdown",
      "id": "pNSOh_eYIYQj",
      "metadata": {
        "id": "pNSOh_eYIYQj"
      },
      "source": [
        "- https://hwi-doc.tistory.com/entry/%EC%9D%B4%ED%95%B4%ED%95%98%EA%B3%A0-%EC%82%AC%EC%9A%A9%ED%95%98%EC%9E%90-XGBoost"
      ]
    },
    {
      "cell_type": "markdown",
      "id": "xepoBAWPM4tg",
      "metadata": {
        "id": "xepoBAWPM4tg"
      },
      "source": [
        "#### XGBOOST 회귀 "
      ]
    },
    {
      "cell_type": "code",
      "execution_count": 71,
      "id": "QLMzxseSM4th",
      "metadata": {
        "colab": {
          "base_uri": "https://localhost:8080/",
          "height": 142
        },
        "id": "QLMzxseSM4th",
        "outputId": "a4e64633-6446-42d4-b683-bfdc76f34020"
      },
      "outputs": [
        {
          "data": {
            "text/plain": [
              "(0.9999998554190542, 0.7788699827725095)"
            ]
          },
          "execution_count": 71,
          "metadata": {},
          "output_type": "execute_result"
        }
      ],
      "source": [
        "from xgboost import XGBRegressor\n",
        "import pandas as pd\n",
        "\n",
        "# [10] 보스톤 데이터 준비, 데이터 분리하여 data_boston 생성\n",
        "boston = pd.read_csv('data_05/boston.csv')\n",
        "X= boston.drop(columns='PRICE')\n",
        "Y=boston['PRICE']\n",
        "scaler = StandardScaler()\n",
        "X_scaled=scaler.fit_transform(X)\n",
        "A=train_test_split(X_scaled, Y, test_size=0.25, random_state=0)\n",
        "x_train, x_test, y_train, y_test = A\n",
        "\n",
        "# [11] XGBRegressor 를 사용하여 model을 만들고 학습시킨 뒤 성능을 확인한다\n",
        "#   다음 값을 사용한다\n",
        "#   n_estimators=1000, learning_rate=0.2, max_depth=3,\n",
        "#   objective ='reg:squarederror'\n",
        "\n",
        "model = XGBRegressor(n_estimators=1000, learning_rate=0.2, max_depth=3)\n",
        "model.fit(x_train, y_train)\n",
        "model.score(x_train, y_train), model.score(x_test, y_test)"
      ]
    },
    {
      "cell_type": "markdown",
      "id": "0RruED9SM4th",
      "metadata": {
        "id": "0RruED9SM4th"
      },
      "source": [
        "### 2-7) lightGBM"
      ]
    },
    {
      "cell_type": "code",
      "execution_count": 67,
      "id": "jHNTyx1MM4tj",
      "metadata": {
        "colab": {
          "base_uri": "https://localhost:8080/"
        },
        "id": "jHNTyx1MM4tj",
        "outputId": "19f23a8f-f5ba-4979-9cfe-bb24330590ba"
      },
      "outputs": [
        {
          "name": "stdout",
          "output_type": "stream",
          "text": [
            "Requirement already satisfied: lightgbm in c:\\users\\admin\\appdata\\local\\programs\\python\\python310\\lib\\site-packages (3.3.3)\n",
            "Requirement already satisfied: wheel in c:\\users\\admin\\appdata\\local\\programs\\python\\python310\\lib\\site-packages (from lightgbm) (0.37.1)\n",
            "Requirement already satisfied: scipy in c:\\users\\admin\\appdata\\local\\programs\\python\\python310\\lib\\site-packages (from lightgbm) (1.9.2)\n",
            "Requirement already satisfied: scikit-learn!=0.22.0 in c:\\users\\admin\\appdata\\local\\programs\\python\\python310\\lib\\site-packages (from lightgbm) (1.1.2)\n",
            "Requirement already satisfied: numpy in c:\\users\\admin\\appdata\\local\\programs\\python\\python310\\lib\\site-packages (from lightgbm) (1.23.4)\n",
            "Requirement already satisfied: joblib>=1.0.0 in c:\\users\\admin\\appdata\\local\\programs\\python\\python310\\lib\\site-packages (from scikit-learn!=0.22.0->lightgbm) (1.2.0)\n",
            "Requirement already satisfied: threadpoolctl>=2.0.0 in c:\\users\\admin\\appdata\\local\\programs\\python\\python310\\lib\\site-packages (from scikit-learn!=0.22.0->lightgbm) (3.1.0)\n"
          ]
        }
      ],
      "source": [
        "!pip install lightgbm"
      ]
    },
    {
      "cell_type": "markdown",
      "id": "X-EPOtorM4tl",
      "metadata": {
        "id": "X-EPOtorM4tl"
      },
      "source": [
        "#### ligthGBM  분류\n",
        "- https://lightgbm.readthedocs.io/en/latest/\n",
        "- https://lightgbm.readthedocs.io/en/latest/pythonapi/lightgbm.LGBMClassifier.html#lightgbm.LGBMClassifier"
      ]
    },
    {
      "cell_type": "code",
      "execution_count": 69,
      "id": "ZBN9x58yM4tl",
      "metadata": {
        "colab": {
          "base_uri": "https://localhost:8080/",
          "height": 145
        },
        "id": "ZBN9x58yM4tl",
        "outputId": "64bc174a-3201-4cf6-f585-73c988f1f6d2"
      },
      "outputs": [
        {
          "data": {
            "text/plain": [
              "(1.0, 0.9414519906323185)"
            ]
          },
          "execution_count": 69,
          "metadata": {},
          "output_type": "execute_result"
        }
      ],
      "source": [
        "from lightgbm import LGBMClassifier\n",
        "# [12] data_cancer, LGBMClassifier를 사용하여 학습 후 성능 출력\n",
        "# n_estimators=100으로 사용한다 (여러 가지로 변경해 볼 것)\n",
        "model = LGBMClassifier(n_estimators=100)\n",
        "model.fit(x_train, y_train)\n",
        "model.score(x_train, y_train), model.score(x_test, y_test)"
      ]
    },
    {
      "cell_type": "markdown",
      "id": "jMQNRqXkHk6V",
      "metadata": {
        "id": "jMQNRqXkHk6V"
      },
      "source": [
        "#### ligthGBM  회귀"
      ]
    },
    {
      "cell_type": "code",
      "execution_count": 74,
      "id": "ofSbQpsuM4tm",
      "metadata": {
        "colab": {
          "base_uri": "https://localhost:8080/",
          "height": 81
        },
        "id": "ofSbQpsuM4tm",
        "outputId": "35f424b7-6feb-4bcb-85e3-82713a746c96"
      },
      "outputs": [
        {
          "data": {
            "text/plain": [
              "(0.9976126018855925, 0.7713717904317868)"
            ]
          },
          "execution_count": 74,
          "metadata": {},
          "output_type": "execute_result"
        }
      ],
      "source": [
        "from lightgbm import LGBMRegressor\n",
        "\n",
        "boston = pd.read_csv('data_05/boston.csv')\n",
        "X= boston.drop(columns='PRICE')\n",
        "Y=boston['PRICE']\n",
        "scaler = StandardScaler()\n",
        "X_scaled=scaler.fit_transform(X)\n",
        "A=train_test_split(X_scaled, Y, test_size=0.25, random_state=0)\n",
        "x_train, x_test, y_train, y_test = A\n",
        "\n",
        "# [13] LGBMRegressor를 사용하여 학습 후 성능 출력\n",
        "# n_estimators=100로 사용한다 (여러 가지로 변경해 볼 것, 개수, max_depth)\n",
        "\n",
        "model = LGBMRegressor(n_estimators=1000, max_depth=3)\n",
        "model.fit(x_train, y_train)\n",
        "model.score(x_train, y_train), model.score(x_test, y_test)"
      ]
    },
    {
      "cell_type": "code",
      "execution_count": null,
      "id": "dV4BlrLEM4tn",
      "metadata": {
        "id": "dV4BlrLEM4tn"
      },
      "outputs": [],
      "source": [
        "# GridSearchCV를 사용한 hyper parameter 최적화 (ML_01에서 학습)"
      ]
    },
    {
      "cell_type": "code",
      "execution_count": null,
      "id": "POzCQilkxqaO",
      "metadata": {
        "id": "POzCQilkxqaO"
      },
      "outputs": [],
      "source": [
        "# 3개\n",
        "#n_estimators= 100, 200, 300, 500, 1000  (5가지)\n",
        "#leaning_rate = 0.01, 0.05, 0.1, 1, 10 (5가지)\n",
        "#max_depth = 3, 4, 5, 6 (4가지)\n",
        "#5 * 5 * 4 만큼 실행해야 가장 좋은 hyper parameter를 찾을 수 있음\n"
      ]
    },
    {
      "cell_type": "code",
      "execution_count": null,
      "id": "ba503483",
      "metadata": {},
      "outputs": [],
      "source": [
        "# GridSearch는 모든 조합에 대해 실행해봄'\n",
        "# CV(Cross Validation)\n",
        "from sklearn.model_selection import GridSearchCV\n",
        "\n"
      ]
    }
  ],
  "metadata": {
    "colab": {
      "collapsed_sections": [],
      "provenance": [],
      "toc_visible": true
    },
    "kernelspec": {
      "display_name": "Python 3.10.8 64-bit",
      "language": "python",
      "name": "python3"
    },
    "language_info": {
      "codemirror_mode": {
        "name": "ipython",
        "version": 3
      },
      "file_extension": ".py",
      "mimetype": "text/x-python",
      "name": "python",
      "nbconvert_exporter": "python",
      "pygments_lexer": "ipython3",
      "version": "3.10.8"
    },
    "vscode": {
      "interpreter": {
        "hash": "a42ccb73e7d9bfdf27e036f1d2b8b681e55fc0743cc5586bc2474d4a60f4b886"
      }
    }
  },
  "nbformat": 4,
  "nbformat_minor": 5
}
