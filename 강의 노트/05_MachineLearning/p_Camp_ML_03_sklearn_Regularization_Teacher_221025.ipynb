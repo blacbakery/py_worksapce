{
 "cells": [
  {
   "cell_type": "markdown",
   "id": "BHAcoIc430vz",
   "metadata": {
    "id": "BHAcoIc430vz"
   },
   "source": [
    "### 0.회귀모델 : 보스턴 주택가격 예측\n",
    "- 다중 회귀 (Feature가 여러 개)\n",
    "- Linear Regression은 숫자로된 데이터를 예측하는 것으로 target이 연속형 이어야 함\n",
    "- 예) 엄마, 아빠의 키로 자녀의 키 예측"
   ]
  },
  {
   "cell_type": "markdown",
   "id": "i74rmo-U30v3",
   "metadata": {
    "id": "i74rmo-U30v3"
   },
   "source": [
    "#### 0-1.데이터 가져오기"
   ]
  },
  {
   "cell_type": "code",
   "execution_count": 1,
   "id": "0k3rHfyVoi0t",
   "metadata": {
    "id": "0k3rHfyVoi0t"
   },
   "outputs": [],
   "source": [
    "from sklearn.datasets import load_boston\n",
    "from sklearn.preprocessing import StandardScaler\n",
    "from sklearn.model_selection import train_test_split\n",
    "from sklearn.linear_model import LinearRegression\n",
    "import pandas as pd"
   ]
  },
  {
   "cell_type": "code",
   "execution_count": 2,
   "id": "HxAsZkx-30v-",
   "metadata": {
    "id": "HxAsZkx-30v-"
   },
   "outputs": [],
   "source": [
    "# [1] 보스턴 데이터 가져와서 DataFrame 만들기\n",
    "df = pd.read_csv('data_05/boston.csv')"
   ]
  },
  {
   "cell_type": "code",
   "execution_count": 3,
   "id": "pweEWcI7pKUm",
   "metadata": {
    "colab": {
     "base_uri": "https://localhost:8080/",
     "height": 270
    },
    "id": "pweEWcI7pKUm",
    "outputId": "28d38f7f-79c3-46da-80f0-22fbcb6b890d"
   },
   "outputs": [
    {
     "data": {
      "text/html": [
       "<div>\n",
       "<style scoped>\n",
       "    .dataframe tbody tr th:only-of-type {\n",
       "        vertical-align: middle;\n",
       "    }\n",
       "\n",
       "    .dataframe tbody tr th {\n",
       "        vertical-align: top;\n",
       "    }\n",
       "\n",
       "    .dataframe thead th {\n",
       "        text-align: right;\n",
       "    }\n",
       "</style>\n",
       "<table border=\"1\" class=\"dataframe\">\n",
       "  <thead>\n",
       "    <tr style=\"text-align: right;\">\n",
       "      <th></th>\n",
       "      <th>CRIM</th>\n",
       "      <th>ZN</th>\n",
       "      <th>INDUS</th>\n",
       "      <th>CHAS</th>\n",
       "      <th>NOX</th>\n",
       "      <th>RM</th>\n",
       "      <th>AGE</th>\n",
       "      <th>DIS</th>\n",
       "      <th>RAD</th>\n",
       "      <th>TAX</th>\n",
       "      <th>PTRATIO</th>\n",
       "      <th>B</th>\n",
       "      <th>LSTAT</th>\n",
       "      <th>PRICE</th>\n",
       "    </tr>\n",
       "  </thead>\n",
       "  <tbody>\n",
       "    <tr>\n",
       "      <th>0</th>\n",
       "      <td>0.00632</td>\n",
       "      <td>18.0</td>\n",
       "      <td>2.31</td>\n",
       "      <td>0.0</td>\n",
       "      <td>0.538</td>\n",
       "      <td>6.575</td>\n",
       "      <td>65.2</td>\n",
       "      <td>4.0900</td>\n",
       "      <td>1.0</td>\n",
       "      <td>296.0</td>\n",
       "      <td>15.3</td>\n",
       "      <td>396.90</td>\n",
       "      <td>4.98</td>\n",
       "      <td>24.0</td>\n",
       "    </tr>\n",
       "    <tr>\n",
       "      <th>1</th>\n",
       "      <td>0.02731</td>\n",
       "      <td>0.0</td>\n",
       "      <td>7.07</td>\n",
       "      <td>0.0</td>\n",
       "      <td>0.469</td>\n",
       "      <td>6.421</td>\n",
       "      <td>78.9</td>\n",
       "      <td>4.9671</td>\n",
       "      <td>2.0</td>\n",
       "      <td>242.0</td>\n",
       "      <td>17.8</td>\n",
       "      <td>396.90</td>\n",
       "      <td>9.14</td>\n",
       "      <td>21.6</td>\n",
       "    </tr>\n",
       "    <tr>\n",
       "      <th>2</th>\n",
       "      <td>0.02729</td>\n",
       "      <td>0.0</td>\n",
       "      <td>7.07</td>\n",
       "      <td>0.0</td>\n",
       "      <td>0.469</td>\n",
       "      <td>7.185</td>\n",
       "      <td>61.1</td>\n",
       "      <td>4.9671</td>\n",
       "      <td>2.0</td>\n",
       "      <td>242.0</td>\n",
       "      <td>17.8</td>\n",
       "      <td>392.83</td>\n",
       "      <td>4.03</td>\n",
       "      <td>34.7</td>\n",
       "    </tr>\n",
       "    <tr>\n",
       "      <th>3</th>\n",
       "      <td>0.03237</td>\n",
       "      <td>0.0</td>\n",
       "      <td>2.18</td>\n",
       "      <td>0.0</td>\n",
       "      <td>0.458</td>\n",
       "      <td>6.998</td>\n",
       "      <td>45.8</td>\n",
       "      <td>6.0622</td>\n",
       "      <td>3.0</td>\n",
       "      <td>222.0</td>\n",
       "      <td>18.7</td>\n",
       "      <td>394.63</td>\n",
       "      <td>2.94</td>\n",
       "      <td>33.4</td>\n",
       "    </tr>\n",
       "    <tr>\n",
       "      <th>4</th>\n",
       "      <td>0.06905</td>\n",
       "      <td>0.0</td>\n",
       "      <td>2.18</td>\n",
       "      <td>0.0</td>\n",
       "      <td>0.458</td>\n",
       "      <td>7.147</td>\n",
       "      <td>54.2</td>\n",
       "      <td>6.0622</td>\n",
       "      <td>3.0</td>\n",
       "      <td>222.0</td>\n",
       "      <td>18.7</td>\n",
       "      <td>396.90</td>\n",
       "      <td>5.33</td>\n",
       "      <td>36.2</td>\n",
       "    </tr>\n",
       "  </tbody>\n",
       "</table>\n",
       "</div>"
      ],
      "text/plain": [
       "      CRIM    ZN  INDUS  CHAS    NOX     RM   AGE     DIS  RAD    TAX  \\\n",
       "0  0.00632  18.0   2.31   0.0  0.538  6.575  65.2  4.0900  1.0  296.0   \n",
       "1  0.02731   0.0   7.07   0.0  0.469  6.421  78.9  4.9671  2.0  242.0   \n",
       "2  0.02729   0.0   7.07   0.0  0.469  7.185  61.1  4.9671  2.0  242.0   \n",
       "3  0.03237   0.0   2.18   0.0  0.458  6.998  45.8  6.0622  3.0  222.0   \n",
       "4  0.06905   0.0   2.18   0.0  0.458  7.147  54.2  6.0622  3.0  222.0   \n",
       "\n",
       "   PTRATIO       B  LSTAT  PRICE  \n",
       "0     15.3  396.90   4.98   24.0  \n",
       "1     17.8  396.90   9.14   21.6  \n",
       "2     17.8  392.83   4.03   34.7  \n",
       "3     18.7  394.63   2.94   33.4  \n",
       "4     18.7  396.90   5.33   36.2  "
      ]
     },
     "execution_count": 3,
     "metadata": {},
     "output_type": "execute_result"
    }
   ],
   "source": [
    "# [2] DataFrame의 첫 5개 행을 출력해 본다\n",
    "df.head()"
   ]
  },
  {
   "cell_type": "code",
   "execution_count": 4,
   "id": "PD7yovkB30v_",
   "metadata": {
    "colab": {
     "base_uri": "https://localhost:8080/"
    },
    "id": "PD7yovkB30v_",
    "outputId": "ae3c5999-c5b2-40e2-b3f9-fe77a2c3f050"
   },
   "outputs": [
    {
     "name": "stdout",
     "output_type": "stream",
     "text": [
      "<class 'pandas.core.frame.DataFrame'>\n",
      "RangeIndex: 506 entries, 0 to 505\n",
      "Data columns (total 14 columns):\n",
      " #   Column   Non-Null Count  Dtype  \n",
      "---  ------   --------------  -----  \n",
      " 0   CRIM     506 non-null    float64\n",
      " 1   ZN       506 non-null    float64\n",
      " 2   INDUS    506 non-null    float64\n",
      " 3   CHAS     506 non-null    float64\n",
      " 4   NOX      506 non-null    float64\n",
      " 5   RM       506 non-null    float64\n",
      " 6   AGE      506 non-null    float64\n",
      " 7   DIS      506 non-null    float64\n",
      " 8   RAD      506 non-null    float64\n",
      " 9   TAX      506 non-null    float64\n",
      " 10  PTRATIO  506 non-null    float64\n",
      " 11  B        506 non-null    float64\n",
      " 12  LSTAT    506 non-null    float64\n",
      " 13  PRICE    506 non-null    float64\n",
      "dtypes: float64(14)\n",
      "memory usage: 55.5 KB\n"
     ]
    }
   ],
   "source": [
    "# [3] df의 column 별 Name, Non-Null Count, dtype을 알아본다\n",
    "df.info(memory_usage='deep')"
   ]
  },
  {
   "cell_type": "code",
   "execution_count": 6,
   "id": "-OYtvG96-YOz",
   "metadata": {
    "colab": {
     "base_uri": "https://localhost:8080/"
    },
    "id": "-OYtvG96-YOz",
    "outputId": "d32b1970-d63a-405a-9460-d8b5b5a90589"
   },
   "outputs": [
    {
     "data": {
      "text/plain": [
       "CRIM      -0.388305\n",
       "ZN         0.360445\n",
       "INDUS     -0.483725\n",
       "CHAS       0.175260\n",
       "NOX       -0.427321\n",
       "RM         0.695360\n",
       "AGE       -0.376955\n",
       "DIS        0.249929\n",
       "RAD       -0.381626\n",
       "TAX       -0.468536\n",
       "PTRATIO   -0.507787\n",
       "B          0.333461\n",
       "LSTAT     -0.737663\n",
       "PRICE      1.000000\n",
       "Name: PRICE, dtype: float64"
      ]
     },
     "execution_count": 6,
     "metadata": {},
     "output_type": "execute_result"
    }
   ],
   "source": [
    "df.corr()['PRICE']"
   ]
  },
  {
   "cell_type": "code",
   "execution_count": 7,
   "id": "Qqd1vbdV-17T",
   "metadata": {
    "id": "Qqd1vbdV-17T"
   },
   "outputs": [
    {
     "data": {
      "text/html": [
       "<div>\n",
       "<style scoped>\n",
       "    .dataframe tbody tr th:only-of-type {\n",
       "        vertical-align: middle;\n",
       "    }\n",
       "\n",
       "    .dataframe tbody tr th {\n",
       "        vertical-align: top;\n",
       "    }\n",
       "\n",
       "    .dataframe thead th {\n",
       "        text-align: right;\n",
       "    }\n",
       "</style>\n",
       "<table border=\"1\" class=\"dataframe\">\n",
       "  <thead>\n",
       "    <tr style=\"text-align: right;\">\n",
       "      <th></th>\n",
       "      <th>CRIM</th>\n",
       "      <th>ZN</th>\n",
       "      <th>INDUS</th>\n",
       "      <th>CHAS</th>\n",
       "      <th>NOX</th>\n",
       "      <th>RM</th>\n",
       "      <th>AGE</th>\n",
       "      <th>DIS</th>\n",
       "      <th>RAD</th>\n",
       "      <th>TAX</th>\n",
       "      <th>PTRATIO</th>\n",
       "      <th>B</th>\n",
       "      <th>LSTAT</th>\n",
       "      <th>PRICE</th>\n",
       "    </tr>\n",
       "  </thead>\n",
       "  <tbody>\n",
       "    <tr>\n",
       "      <th>CRIM</th>\n",
       "      <td>1.000000</td>\n",
       "      <td>-0.200469</td>\n",
       "      <td>0.406583</td>\n",
       "      <td>-0.055892</td>\n",
       "      <td>0.420972</td>\n",
       "      <td>-0.219247</td>\n",
       "      <td>0.352734</td>\n",
       "      <td>-0.379670</td>\n",
       "      <td>0.625505</td>\n",
       "      <td>0.582764</td>\n",
       "      <td>0.289946</td>\n",
       "      <td>-0.385064</td>\n",
       "      <td>0.455621</td>\n",
       "      <td>-0.388305</td>\n",
       "    </tr>\n",
       "    <tr>\n",
       "      <th>ZN</th>\n",
       "      <td>-0.200469</td>\n",
       "      <td>1.000000</td>\n",
       "      <td>-0.533828</td>\n",
       "      <td>-0.042697</td>\n",
       "      <td>-0.516604</td>\n",
       "      <td>0.311991</td>\n",
       "      <td>-0.569537</td>\n",
       "      <td>0.664408</td>\n",
       "      <td>-0.311948</td>\n",
       "      <td>-0.314563</td>\n",
       "      <td>-0.391679</td>\n",
       "      <td>0.175520</td>\n",
       "      <td>-0.412995</td>\n",
       "      <td>0.360445</td>\n",
       "    </tr>\n",
       "    <tr>\n",
       "      <th>INDUS</th>\n",
       "      <td>0.406583</td>\n",
       "      <td>-0.533828</td>\n",
       "      <td>1.000000</td>\n",
       "      <td>0.062938</td>\n",
       "      <td>0.763651</td>\n",
       "      <td>-0.391676</td>\n",
       "      <td>0.644779</td>\n",
       "      <td>-0.708027</td>\n",
       "      <td>0.595129</td>\n",
       "      <td>0.720760</td>\n",
       "      <td>0.383248</td>\n",
       "      <td>-0.356977</td>\n",
       "      <td>0.603800</td>\n",
       "      <td>-0.483725</td>\n",
       "    </tr>\n",
       "    <tr>\n",
       "      <th>CHAS</th>\n",
       "      <td>-0.055892</td>\n",
       "      <td>-0.042697</td>\n",
       "      <td>0.062938</td>\n",
       "      <td>1.000000</td>\n",
       "      <td>0.091203</td>\n",
       "      <td>0.091251</td>\n",
       "      <td>0.086518</td>\n",
       "      <td>-0.099176</td>\n",
       "      <td>-0.007368</td>\n",
       "      <td>-0.035587</td>\n",
       "      <td>-0.121515</td>\n",
       "      <td>0.048788</td>\n",
       "      <td>-0.053929</td>\n",
       "      <td>0.175260</td>\n",
       "    </tr>\n",
       "    <tr>\n",
       "      <th>NOX</th>\n",
       "      <td>0.420972</td>\n",
       "      <td>-0.516604</td>\n",
       "      <td>0.763651</td>\n",
       "      <td>0.091203</td>\n",
       "      <td>1.000000</td>\n",
       "      <td>-0.302188</td>\n",
       "      <td>0.731470</td>\n",
       "      <td>-0.769230</td>\n",
       "      <td>0.611441</td>\n",
       "      <td>0.668023</td>\n",
       "      <td>0.188933</td>\n",
       "      <td>-0.380051</td>\n",
       "      <td>0.590879</td>\n",
       "      <td>-0.427321</td>\n",
       "    </tr>\n",
       "    <tr>\n",
       "      <th>RM</th>\n",
       "      <td>-0.219247</td>\n",
       "      <td>0.311991</td>\n",
       "      <td>-0.391676</td>\n",
       "      <td>0.091251</td>\n",
       "      <td>-0.302188</td>\n",
       "      <td>1.000000</td>\n",
       "      <td>-0.240265</td>\n",
       "      <td>0.205246</td>\n",
       "      <td>-0.209847</td>\n",
       "      <td>-0.292048</td>\n",
       "      <td>-0.355501</td>\n",
       "      <td>0.128069</td>\n",
       "      <td>-0.613808</td>\n",
       "      <td>0.695360</td>\n",
       "    </tr>\n",
       "    <tr>\n",
       "      <th>AGE</th>\n",
       "      <td>0.352734</td>\n",
       "      <td>-0.569537</td>\n",
       "      <td>0.644779</td>\n",
       "      <td>0.086518</td>\n",
       "      <td>0.731470</td>\n",
       "      <td>-0.240265</td>\n",
       "      <td>1.000000</td>\n",
       "      <td>-0.747881</td>\n",
       "      <td>0.456022</td>\n",
       "      <td>0.506456</td>\n",
       "      <td>0.261515</td>\n",
       "      <td>-0.273534</td>\n",
       "      <td>0.602339</td>\n",
       "      <td>-0.376955</td>\n",
       "    </tr>\n",
       "    <tr>\n",
       "      <th>DIS</th>\n",
       "      <td>-0.379670</td>\n",
       "      <td>0.664408</td>\n",
       "      <td>-0.708027</td>\n",
       "      <td>-0.099176</td>\n",
       "      <td>-0.769230</td>\n",
       "      <td>0.205246</td>\n",
       "      <td>-0.747881</td>\n",
       "      <td>1.000000</td>\n",
       "      <td>-0.494588</td>\n",
       "      <td>-0.534432</td>\n",
       "      <td>-0.232471</td>\n",
       "      <td>0.291512</td>\n",
       "      <td>-0.496996</td>\n",
       "      <td>0.249929</td>\n",
       "    </tr>\n",
       "    <tr>\n",
       "      <th>RAD</th>\n",
       "      <td>0.625505</td>\n",
       "      <td>-0.311948</td>\n",
       "      <td>0.595129</td>\n",
       "      <td>-0.007368</td>\n",
       "      <td>0.611441</td>\n",
       "      <td>-0.209847</td>\n",
       "      <td>0.456022</td>\n",
       "      <td>-0.494588</td>\n",
       "      <td>1.000000</td>\n",
       "      <td>0.910228</td>\n",
       "      <td>0.464741</td>\n",
       "      <td>-0.444413</td>\n",
       "      <td>0.488676</td>\n",
       "      <td>-0.381626</td>\n",
       "    </tr>\n",
       "    <tr>\n",
       "      <th>TAX</th>\n",
       "      <td>0.582764</td>\n",
       "      <td>-0.314563</td>\n",
       "      <td>0.720760</td>\n",
       "      <td>-0.035587</td>\n",
       "      <td>0.668023</td>\n",
       "      <td>-0.292048</td>\n",
       "      <td>0.506456</td>\n",
       "      <td>-0.534432</td>\n",
       "      <td>0.910228</td>\n",
       "      <td>1.000000</td>\n",
       "      <td>0.460853</td>\n",
       "      <td>-0.441808</td>\n",
       "      <td>0.543993</td>\n",
       "      <td>-0.468536</td>\n",
       "    </tr>\n",
       "    <tr>\n",
       "      <th>PTRATIO</th>\n",
       "      <td>0.289946</td>\n",
       "      <td>-0.391679</td>\n",
       "      <td>0.383248</td>\n",
       "      <td>-0.121515</td>\n",
       "      <td>0.188933</td>\n",
       "      <td>-0.355501</td>\n",
       "      <td>0.261515</td>\n",
       "      <td>-0.232471</td>\n",
       "      <td>0.464741</td>\n",
       "      <td>0.460853</td>\n",
       "      <td>1.000000</td>\n",
       "      <td>-0.177383</td>\n",
       "      <td>0.374044</td>\n",
       "      <td>-0.507787</td>\n",
       "    </tr>\n",
       "    <tr>\n",
       "      <th>B</th>\n",
       "      <td>-0.385064</td>\n",
       "      <td>0.175520</td>\n",
       "      <td>-0.356977</td>\n",
       "      <td>0.048788</td>\n",
       "      <td>-0.380051</td>\n",
       "      <td>0.128069</td>\n",
       "      <td>-0.273534</td>\n",
       "      <td>0.291512</td>\n",
       "      <td>-0.444413</td>\n",
       "      <td>-0.441808</td>\n",
       "      <td>-0.177383</td>\n",
       "      <td>1.000000</td>\n",
       "      <td>-0.366087</td>\n",
       "      <td>0.333461</td>\n",
       "    </tr>\n",
       "    <tr>\n",
       "      <th>LSTAT</th>\n",
       "      <td>0.455621</td>\n",
       "      <td>-0.412995</td>\n",
       "      <td>0.603800</td>\n",
       "      <td>-0.053929</td>\n",
       "      <td>0.590879</td>\n",
       "      <td>-0.613808</td>\n",
       "      <td>0.602339</td>\n",
       "      <td>-0.496996</td>\n",
       "      <td>0.488676</td>\n",
       "      <td>0.543993</td>\n",
       "      <td>0.374044</td>\n",
       "      <td>-0.366087</td>\n",
       "      <td>1.000000</td>\n",
       "      <td>-0.737663</td>\n",
       "    </tr>\n",
       "    <tr>\n",
       "      <th>PRICE</th>\n",
       "      <td>-0.388305</td>\n",
       "      <td>0.360445</td>\n",
       "      <td>-0.483725</td>\n",
       "      <td>0.175260</td>\n",
       "      <td>-0.427321</td>\n",
       "      <td>0.695360</td>\n",
       "      <td>-0.376955</td>\n",
       "      <td>0.249929</td>\n",
       "      <td>-0.381626</td>\n",
       "      <td>-0.468536</td>\n",
       "      <td>-0.507787</td>\n",
       "      <td>0.333461</td>\n",
       "      <td>-0.737663</td>\n",
       "      <td>1.000000</td>\n",
       "    </tr>\n",
       "  </tbody>\n",
       "</table>\n",
       "</div>"
      ],
      "text/plain": [
       "             CRIM        ZN     INDUS      CHAS       NOX        RM       AGE  \\\n",
       "CRIM     1.000000 -0.200469  0.406583 -0.055892  0.420972 -0.219247  0.352734   \n",
       "ZN      -0.200469  1.000000 -0.533828 -0.042697 -0.516604  0.311991 -0.569537   \n",
       "INDUS    0.406583 -0.533828  1.000000  0.062938  0.763651 -0.391676  0.644779   \n",
       "CHAS    -0.055892 -0.042697  0.062938  1.000000  0.091203  0.091251  0.086518   \n",
       "NOX      0.420972 -0.516604  0.763651  0.091203  1.000000 -0.302188  0.731470   \n",
       "RM      -0.219247  0.311991 -0.391676  0.091251 -0.302188  1.000000 -0.240265   \n",
       "AGE      0.352734 -0.569537  0.644779  0.086518  0.731470 -0.240265  1.000000   \n",
       "DIS     -0.379670  0.664408 -0.708027 -0.099176 -0.769230  0.205246 -0.747881   \n",
       "RAD      0.625505 -0.311948  0.595129 -0.007368  0.611441 -0.209847  0.456022   \n",
       "TAX      0.582764 -0.314563  0.720760 -0.035587  0.668023 -0.292048  0.506456   \n",
       "PTRATIO  0.289946 -0.391679  0.383248 -0.121515  0.188933 -0.355501  0.261515   \n",
       "B       -0.385064  0.175520 -0.356977  0.048788 -0.380051  0.128069 -0.273534   \n",
       "LSTAT    0.455621 -0.412995  0.603800 -0.053929  0.590879 -0.613808  0.602339   \n",
       "PRICE   -0.388305  0.360445 -0.483725  0.175260 -0.427321  0.695360 -0.376955   \n",
       "\n",
       "              DIS       RAD       TAX   PTRATIO         B     LSTAT     PRICE  \n",
       "CRIM    -0.379670  0.625505  0.582764  0.289946 -0.385064  0.455621 -0.388305  \n",
       "ZN       0.664408 -0.311948 -0.314563 -0.391679  0.175520 -0.412995  0.360445  \n",
       "INDUS   -0.708027  0.595129  0.720760  0.383248 -0.356977  0.603800 -0.483725  \n",
       "CHAS    -0.099176 -0.007368 -0.035587 -0.121515  0.048788 -0.053929  0.175260  \n",
       "NOX     -0.769230  0.611441  0.668023  0.188933 -0.380051  0.590879 -0.427321  \n",
       "RM       0.205246 -0.209847 -0.292048 -0.355501  0.128069 -0.613808  0.695360  \n",
       "AGE     -0.747881  0.456022  0.506456  0.261515 -0.273534  0.602339 -0.376955  \n",
       "DIS      1.000000 -0.494588 -0.534432 -0.232471  0.291512 -0.496996  0.249929  \n",
       "RAD     -0.494588  1.000000  0.910228  0.464741 -0.444413  0.488676 -0.381626  \n",
       "TAX     -0.534432  0.910228  1.000000  0.460853 -0.441808  0.543993 -0.468536  \n",
       "PTRATIO -0.232471  0.464741  0.460853  1.000000 -0.177383  0.374044 -0.507787  \n",
       "B        0.291512 -0.444413 -0.441808 -0.177383  1.000000 -0.366087  0.333461  \n",
       "LSTAT   -0.496996  0.488676  0.543993  0.374044 -0.366087  1.000000 -0.737663  \n",
       "PRICE    0.249929 -0.381626 -0.468536 -0.507787  0.333461 -0.737663  1.000000  "
      ]
     },
     "execution_count": 7,
     "metadata": {},
     "output_type": "execute_result"
    }
   ],
   "source": [
    "# 독립변수들끼리의 상관계수를 알아봄 ( 0.99 0.97 과 같이 \n",
    "# 큰 상관계수가 나오면 주성분분석을 통해 새로운 변수 생성)\n",
    "df.corr()"
   ]
  },
  {
   "cell_type": "code",
   "execution_count": 11,
   "id": "84a5e7e5",
   "metadata": {},
   "outputs": [],
   "source": [
    "sns.heatmap?"
   ]
  },
  {
   "cell_type": "code",
   "execution_count": 13,
   "id": "8619096e",
   "metadata": {},
   "outputs": [
    {
     "data": {
      "image/png": "[encoded data removed]",
      "text/plain": [
       "<Figure size 936x360 with 2 Axes>"
      ]
     },
     "metadata": {
      "needs_background": "light"
     },
     "output_type": "display_data"
    }
   ],
   "source": [
    "import seaborn as sns\n",
    "import matplotlib.pyplot as plt\n",
    "plt.figure(figsize=(13, 5))\n",
    "sns.heatmap(df.corr().round(2), vmin=-1.0, annot=True)\n",
    "plt.show()"
   ]
  },
  {
   "cell_type": "code",
   "execution_count": 14,
   "id": "Zxc1wRFZ-OSj",
   "metadata": {
    "colab": {
     "base_uri": "https://localhost:8080/"
    },
    "id": "Zxc1wRFZ-OSj",
    "outputId": "05c5a7ef-e954-413c-bbae-8213bf0d8484"
   },
   "outputs": [
    {
     "data": {
      "text/plain": [
       "CRIM       504\n",
       "ZN          26\n",
       "INDUS       76\n",
       "CHAS         2\n",
       "NOX         81\n",
       "RM         446\n",
       "AGE        356\n",
       "DIS        412\n",
       "RAD          9\n",
       "TAX         66\n",
       "PTRATIO     46\n",
       "B          357\n",
       "LSTAT      455\n",
       "PRICE      229\n",
       "dtype: int64"
      ]
     },
     "execution_count": 14,
     "metadata": {},
     "output_type": "execute_result"
    }
   ],
   "source": [
    "# 1개의 종류를 갖는 것은 제외\n",
    "df.nunique()"
   ]
  },
  {
   "cell_type": "code",
   "execution_count": 15,
   "id": "BsPXtP-230v_",
   "metadata": {
    "colab": {
     "base_uri": "https://localhost:8080/"
    },
    "id": "BsPXtP-230v_",
    "outputId": "f0209267-2c0a-4178-8aa3-9537e6987f2c"
   },
   "outputs": [
    {
     "data": {
      "text/plain": [
       "count    506.000000\n",
       "mean      22.532806\n",
       "std        9.197104\n",
       "min        5.000000\n",
       "25%       17.025000\n",
       "50%       21.200000\n",
       "75%       25.000000\n",
       "max       50.000000\n",
       "Name: PRICE, dtype: float64"
      ]
     },
     "execution_count": 15,
     "metadata": {},
     "output_type": "execute_result"
    }
   ],
   "source": [
    "# [4] df에 대한 통계량을 확인한다 (describe())\n",
    "df['PRICE'].describe()"
   ]
  },
  {
   "cell_type": "code",
   "execution_count": 16,
   "id": "HPa4XjVY_iiB",
   "metadata": {
    "colab": {
     "base_uri": "https://localhost:8080/",
     "height": 283
    },
    "id": "HPa4XjVY_iiB",
    "outputId": "cd472334-668b-4049-b260-67b97108a7d2"
   },
   "outputs": [
    {
     "data": {
      "image/png": "[encoded data removed]",
      "text/plain": [
       "<Figure size 432x288 with 1 Axes>"
      ]
     },
     "metadata": {
      "needs_background": "light"
     },
     "output_type": "display_data"
    }
   ],
   "source": [
    "df['PRICE'].plot.hist(bins=50)\n",
    "plt.show()"
   ]
  },
  {
   "cell_type": "code",
   "execution_count": 17,
   "id": "34qZ57mTAWly",
   "metadata": {
    "colab": {
     "base_uri": "https://localhost:8080/",
     "height": 283
    },
    "id": "34qZ57mTAWly",
    "outputId": "99022717-9d0c-4801-80e3-64f93f3647b3"
   },
   "outputs": [
    {
     "data": {
      "image/png": "[encoded data removed]",
      "text/plain": [
       "<Figure size 432x288 with 1 Axes>"
      ]
     },
     "metadata": {
      "needs_background": "light"
     },
     "output_type": "display_data"
    }
   ],
   "source": [
    "# [TIP] Boxcox 변환\n",
    "# https://docs.scipy.org/doc/scipy/reference/generated/scipy.stats.boxcox.html?highlight=boxcox#scipy.stats.boxcox\n",
    "# \n",
    "from scipy import stats\n",
    "price, optimal_lambda = stats.boxcox(df['PRICE'])\n",
    "pd.Series(price).plot.hist(bins=50)\n",
    "plt.show()"
   ]
  },
  {
   "cell_type": "code",
   "execution_count": null,
   "id": "11b88a95",
   "metadata": {},
   "outputs": [],
   "source": [
    "# y 값을 boxcox를 사용해 정규분포로 만든 경우\n",
    "# 모델링에서는 'price' 를 사용한다\n",
    "# y_pred = model.predict(new_data) -> inverse (역변환) -> PRICE"
   ]
  },
  {
   "cell_type": "code",
   "execution_count": 19,
   "id": "_3X2Z6ZXDXvB",
   "metadata": {
    "colab": {
     "base_uri": "https://localhost:8080/",
     "height": 283
    },
    "id": "_3X2Z6ZXDXvB",
    "outputId": "b24be873-7d21-48a2-868a-67ed5b3359ba"
   },
   "outputs": [
    {
     "data": {
      "image/png": "[encoded data removed]",
      "text/plain": [
       "<Figure size 432x288 with 1 Axes>"
      ]
     },
     "metadata": {
      "needs_background": "light"
     },
     "output_type": "display_data"
    }
   ],
   "source": [
    "# https://docs.scipy.org/doc/scipy/reference/generated/scipy.special.inv_boxcox.html\n",
    "import scipy\n",
    "org_price = scipy.special.inv_boxcox(price, optimal_lambda)\n",
    "pd.Series(org_price).plot.hist(bins=50)\n",
    "plt.show()"
   ]
  },
  {
   "cell_type": "code",
   "execution_count": 21,
   "id": "26e75f97",
   "metadata": {},
   "outputs": [
    {
     "data": {
      "text/html": [
       "<div>\n",
       "<style scoped>\n",
       "    .dataframe tbody tr th:only-of-type {\n",
       "        vertical-align: middle;\n",
       "    }\n",
       "\n",
       "    .dataframe tbody tr th {\n",
       "        vertical-align: top;\n",
       "    }\n",
       "\n",
       "    .dataframe thead th {\n",
       "        text-align: right;\n",
       "    }\n",
       "</style>\n",
       "<table border=\"1\" class=\"dataframe\">\n",
       "  <thead>\n",
       "    <tr style=\"text-align: right;\">\n",
       "      <th></th>\n",
       "      <th>PRICE</th>\n",
       "      <th>price_boxcox</th>\n",
       "      <th>INV_PRICE</th>\n",
       "    </tr>\n",
       "  </thead>\n",
       "  <tbody>\n",
       "    <tr>\n",
       "      <th>0</th>\n",
       "      <td>24.0</td>\n",
       "      <td>4.572936</td>\n",
       "      <td>24.0</td>\n",
       "    </tr>\n",
       "    <tr>\n",
       "      <th>1</th>\n",
       "      <td>21.6</td>\n",
       "      <td>4.365582</td>\n",
       "      <td>21.6</td>\n",
       "    </tr>\n",
       "    <tr>\n",
       "      <th>2</th>\n",
       "      <td>34.7</td>\n",
       "      <td>5.336943</td>\n",
       "      <td>34.7</td>\n",
       "    </tr>\n",
       "    <tr>\n",
       "      <th>3</th>\n",
       "      <td>33.4</td>\n",
       "      <td>5.254954</td>\n",
       "      <td>33.4</td>\n",
       "    </tr>\n",
       "    <tr>\n",
       "      <th>4</th>\n",
       "      <td>36.2</td>\n",
       "      <td>5.428607</td>\n",
       "      <td>36.2</td>\n",
       "    </tr>\n",
       "  </tbody>\n",
       "</table>\n",
       "</div>"
      ],
      "text/plain": [
       "   PRICE  price_boxcox  INV_PRICE\n",
       "0   24.0      4.572936       24.0\n",
       "1   21.6      4.365582       21.6\n",
       "2   34.7      5.336943       34.7\n",
       "3   33.4      5.254954       33.4\n",
       "4   36.2      5.428607       36.2"
      ]
     },
     "execution_count": 21,
     "metadata": {},
     "output_type": "execute_result"
    }
   ],
   "source": [
    "temp = pd.DataFrame()\n",
    "temp['PRICE'] = df.PRICE\n",
    "temp['price_boxcox'] = price\n",
    "temp['INV_PRICE'] = org_price\n",
    "temp.head(5)"
   ]
  },
  {
   "cell_type": "markdown",
   "id": "0XcI9Xmm30wA",
   "metadata": {
    "id": "0XcI9Xmm30wA"
   },
   "source": [
    "#### 0-2.스케일링, 데이터 분할\n",
    "\n"
   ]
  },
  {
   "cell_type": "code",
   "execution_count": 22,
   "id": "35M6ZfnE30wA",
   "metadata": {
    "colab": {
     "base_uri": "https://localhost:8080/"
    },
    "id": "35M6ZfnE30wA",
    "outputId": "6e2d50bf-f1f5-49f5-da91-218e0fc652fa"
   },
   "outputs": [
    {
     "data": {
      "text/plain": [
       "[(379, 13), (127, 13), (379,), (127,)]"
      ]
     },
     "execution_count": 22,
     "metadata": {},
     "output_type": "execute_result"
    }
   ],
   "source": [
    "# [5] 다음의 순서로 스케일링과 데이터 분할을 수행한다\n",
    "# x,y 데이터를 만들어, training, test용 데이터로 분할 한다\n",
    "# 1. df(보스턴 데이터의 DataFrame) 의 'CRIM':'LSTAT' 열을 X로 지정한다\n",
    "# 2. df의 'PRICE' 열을 y로 지정한다\n",
    "# 3. 스케일링 - StandardScaler\n",
    "# 4. X, y를 75%:25%의 비율로 random_state=1을 사용해 분할하여 X_train, X_test, y_train, y_test로 저장한다\n",
    "# 5. x_train, x_test, y_train, y_test 각각의 shape을 확인한다\n",
    "\n",
    "X = df.loc[:, 'CRIM':'LSTAT']\n",
    "y = df['PRICE']\n",
    "scaler = StandardScaler()\n",
    "X_scaled = scaler.fit_transform(X)\n",
    "x_train, x_test, y_train, y_test = train_test_split(X_scaled, y,\n",
    "                                                    test_size=0.25,\n",
    "                                                    random_state=1)\n",
    "[x.shape for x in [x_train, x_test, y_train, y_test]]"
   ]
  },
  {
   "cell_type": "markdown",
   "id": "CU_0qPGI30wB",
   "metadata": {
    "id": "CU_0qPGI30wB"
   },
   "source": [
    "#### 0-3. 모델 학습 및 평가\n",
    "최소 제곱법 in sklearn\n",
    "- ```sklearn.linear_model.LinearRegression(fit_intercept, normalize)```\n",
    "    - OLS(Ordinary Least Sqaures) 최소 제곱 추정 방식 구현\n",
    "    - `fit_intercept=True` : bias 사용 여부\n",
    "    - `normalize = False` : 수행 전에 입력 데이터 정규화, `fit_inercept=False`인 경우 무시\n",
    "- fit(X, y)를 사용하여 학습 실시    \n",
    "- fit() 수행 후 결과 확인    \n",
    "    - `coef_` :  W 계수\n",
    "    - `intercept_` : bias 절편\n",
    "    - ```y = Wx + bias```"
   ]
  },
  {
   "cell_type": "code",
   "execution_count": 23,
   "id": "oCGKTTZk30wB",
   "metadata": {
    "colab": {
     "base_uri": "https://localhost:8080/"
    },
    "id": "oCGKTTZk30wB",
    "outputId": "fa4ce9fd-3442-4d3e-aaf4-222701f77c3b"
   },
   "outputs": [
    {
     "name": "stdout",
     "output_type": "stream",
     "text": [
      "학습 데이터 성능 : 0.7168\n",
      "평가 데이터 성능 : 0.7789\n"
     ]
    }
   ],
   "source": [
    "# [6] train 데이터와 LinearRegression()을 사용하여 model을 생성, 학습한다\n",
    "model = LinearRegression().fit(x_train, y_train)\n",
    "\n",
    "# [7] train 및 test 데이터를 사용하여 model의 성능을 평가한다 \n",
    "print('학습 데이터 성능 : %.4f' % model.score(x_train, y_train))\n",
    "print('평가 데이터 성능 : %.4f' % model.score(x_test, y_test))"
   ]
  },
  {
   "cell_type": "code",
   "execution_count": null,
   "id": "bQqxvzOIWmAI",
   "metadata": {
    "id": "bQqxvzOIWmAI"
   },
   "outputs": [],
   "source": [
    "# train score:0.717    test score :0.779"
   ]
  },
  {
   "cell_type": "code",
   "execution_count": null,
   "id": "xPtNVrYbiOzN",
   "metadata": {
    "id": "xPtNVrYbiOzN"
   },
   "outputs": [],
   "source": [
    "# y = w0*CRIM + w1*ZN + w2*INDUS .... + wn-1*LSTAT + intercept"
   ]
  },
  {
   "cell_type": "code",
   "execution_count": null,
   "id": "U55RAS9wiXsh",
   "metadata": {
    "id": "U55RAS9wiXsh"
   },
   "outputs": [],
   "source": [
    "# CRIM\t     ZN\t INDUS\tCHAS\tNOX\tRM\tAGE\tDIS\tRAD\tTAX\tPTRATIO\tB\tLSTAT\tPRICE\n",
    "# -0.983\t1.331\t0.262\t0.616\t-2.458\t2.02\t0.194\t-3.096\t2.66\t-1.797\t-2.154\t0.573\t-3.977\t24.0"
   ]
  },
  {
   "cell_type": "code",
   "execution_count": 27,
   "id": "0kkhlXjK9FHS",
   "metadata": {
    "colab": {
     "base_uri": "https://localhost:8080/",
     "height": 145
    },
    "id": "0kkhlXjK9FHS",
    "outputId": "8348d55d-80a5-443f-fcac-a4eca8a44e67"
   },
   "outputs": [
    {
     "data": {
      "text/html": [
       "<div>\n",
       "<style scoped>\n",
       "    .dataframe tbody tr th:only-of-type {\n",
       "        vertical-align: middle;\n",
       "    }\n",
       "\n",
       "    .dataframe tbody tr th {\n",
       "        vertical-align: top;\n",
       "    }\n",
       "\n",
       "    .dataframe thead th {\n",
       "        text-align: right;\n",
       "    }\n",
       "</style>\n",
       "<table border=\"1\" class=\"dataframe\">\n",
       "  <thead>\n",
       "    <tr style=\"text-align: right;\">\n",
       "      <th></th>\n",
       "      <th>CRIM</th>\n",
       "      <th>ZN</th>\n",
       "      <th>INDUS</th>\n",
       "      <th>CHAS</th>\n",
       "      <th>NOX</th>\n",
       "      <th>RM</th>\n",
       "      <th>AGE</th>\n",
       "      <th>DIS</th>\n",
       "      <th>RAD</th>\n",
       "      <th>TAX</th>\n",
       "      <th>PTRATIO</th>\n",
       "      <th>B</th>\n",
       "      <th>LSTAT</th>\n",
       "    </tr>\n",
       "  </thead>\n",
       "  <tbody>\n",
       "    <tr>\n",
       "      <th>0</th>\n",
       "      <td>-0.983</td>\n",
       "      <td>1.331</td>\n",
       "      <td>0.262</td>\n",
       "      <td>0.616</td>\n",
       "      <td>-2.458</td>\n",
       "      <td>2.02</td>\n",
       "      <td>0.194</td>\n",
       "      <td>-3.096</td>\n",
       "      <td>2.66</td>\n",
       "      <td>-1.797</td>\n",
       "      <td>-2.154</td>\n",
       "      <td>0.573</td>\n",
       "      <td>-3.977</td>\n",
       "    </tr>\n",
       "  </tbody>\n",
       "</table>\n",
       "</div>"
      ],
      "text/plain": [
       "    CRIM     ZN  INDUS   CHAS    NOX    RM    AGE    DIS   RAD    TAX  \\\n",
       "0 -0.983  1.331  0.262  0.616 -2.458  2.02  0.194 -3.096  2.66 -1.797   \n",
       "\n",
       "   PTRATIO      B  LSTAT  \n",
       "0   -2.154  0.573 -3.977  "
      ]
     },
     "execution_count": 27,
     "metadata": {},
     "output_type": "execute_result"
    }
   ],
   "source": [
    "# [8] 회귀계수(=기울기)를 확인한다\n",
    "\n",
    "A = pd.Series(model.coef_, index=X.columns).round(3).to_frame().T\n",
    "A"
   ]
  },
  {
   "cell_type": "code",
   "execution_count": 25,
   "id": "ukEde7kooemR",
   "metadata": {
    "colab": {
     "base_uri": "https://localhost:8080/"
    },
    "id": "ukEde7kooemR",
    "outputId": "adb0f8e4-be74-499b-e7ea-f88adb6dccd2"
   },
   "outputs": [
    {
     "data": {
      "text/plain": [
       "22.580556185498054"
      ]
     },
     "execution_count": 25,
     "metadata": {},
     "output_type": "execute_result"
    }
   ],
   "source": [
    "# [9] 절편을 확인한다\n",
    "model.intercept_"
   ]
  },
  {
   "cell_type": "markdown",
   "id": "8l1-p-PjuOva",
   "metadata": {
    "id": "8l1-p-PjuOva"
   },
   "source": [
    "#### 0-4.성능평가"
   ]
  },
  {
   "cell_type": "markdown",
   "id": "F0A-vgUxbYdL",
   "metadata": {
    "id": "F0A-vgUxbYdL"
   },
   "source": [
    "![image.png](data:image/png;base64,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)"
   ]
  },
  {
   "cell_type": "markdown",
   "id": "hTNEvea8b7_t",
   "metadata": {
    "id": "hTNEvea8b7_t"
   },
   "source": [
    "sklearn.matrics API 사용\n",
    "\n",
    "- ```sklearn.metrics.r2_score(y_ture, y_pred)```\n",
    "- ```sklearn.metrics.mean_absolute_error(y_ture, y_pred)```\n",
    "- ```sklearn.metrics.mean_squared_error(y_ture, y_pred)```\n",
    "- rmse는 mse를 구해서 np.sqrt() 또는 mse ** 0.5를 사용해 구함"
   ]
  },
  {
   "cell_type": "code",
   "execution_count": 49,
   "id": "4404f56d",
   "metadata": {},
   "outputs": [
    {
     "data": {
      "text/plain": [
       "(array([-0.9832923 ,  1.33109396,  0.26249369,  0.61622649, -2.45795465,\n",
       "         2.01959543,  0.19434954, -3.09566301,  2.65991005, -1.79736111,\n",
       "        -2.15445302,  0.57253349, -3.97659543]),\n",
       " 22.580556185498054)"
      ]
     },
     "execution_count": 49,
     "metadata": {},
     "output_type": "execute_result"
    }
   ],
   "source": [
    "A, B = model.coef_, model.intercept_\n",
    "A, B "
   ]
  },
  {
   "cell_type": "code",
   "execution_count": 50,
   "id": "6d1114cd",
   "metadata": {},
   "outputs": [
    {
     "data": {
      "text/plain": [
       "array([6.320e-03, 1.800e+01, 2.310e+00, 0.000e+00, 5.380e-01, 6.575e+00,\n",
       "       6.520e+01, 4.090e+00, 1.000e+00, 2.960e+02, 1.530e+01, 3.969e+02,\n",
       "       4.980e+00])"
      ]
     },
     "execution_count": 50,
     "metadata": {},
     "output_type": "execute_result"
    }
   ],
   "source": [
    "D = df.iloc[0, :-1].to_numpy()\n",
    "D"
   ]
  },
  {
   "cell_type": "code",
   "execution_count": 52,
   "id": "bc410ffe",
   "metadata": {},
   "outputs": [
    {
     "data": {
      "text/plain": [
       "-295.7798305649969"
      ]
     },
     "execution_count": 52,
     "metadata": {},
     "output_type": "execute_result"
    }
   ],
   "source": [
    "sum(A * D) + B   # 확인 요망"
   ]
  },
  {
   "cell_type": "code",
   "execution_count": 54,
   "id": "DKQbcAd2v7yr",
   "metadata": {
    "colab": {
     "base_uri": "https://localhost:8080/"
    },
    "id": "DKQbcAd2v7yr",
    "outputId": "e3f29213-c998-4e01-a5fa-3fc31403674f"
   },
   "outputs": [
    {
     "name": "stdout",
     "output_type": "stream",
     "text": [
      "MAE:3.251, MSE:22.478, RMSE:4.741, R2:0.717, MAPE:0.162\n",
      "MAE:3.575, MSE:21.898, RMSE:4.680, R2:0.779, MAPE:0.175\n"
     ]
    }
   ],
   "source": [
    "from sklearn.metrics import mean_absolute_error, mean_squared_error, r2_score, mean_absolute_percentage_error\n",
    "\n",
    "import numpy as np\n",
    "\n",
    "def print_lr_errors(model, X_test, y_test):\n",
    "    y_pred = model.predict(X_test)\n",
    "    #print(y_pred)\n",
    "    mae = mean_absolute_error(y_test, y_pred)\n",
    "    mse = mean_squared_error(y_test, y_pred)\n",
    "    rmse = mse ** 0.5  # np.sqrt(mse)\n",
    "    r2 = r2_score(y_test, y_pred)\n",
    "    mape = mean_absolute_percentage_error(y_test, y_pred)\n",
    "    print(f'MAE:{mae:.3f}, MSE:{mse:.3f}, RMSE:{rmse:.3f}, R2:{r2:.3f}, MAPE:{mape:.3f}')\n",
    "\n",
    "print_lr_errors(model, x_train, y_train)\n",
    "print_lr_errors(model, x_test, y_test)"
   ]
  },
  {
   "cell_type": "markdown",
   "id": "Ugx3aNs3JIVu",
   "metadata": {
    "id": "Ugx3aNs3JIVu"
   },
   "source": [
    "회귀평가지표 : https://mizykk.tistory.com/102\n",
    "- https://aliencoder.tistory.com/43\n",
    "- https://ahnjg.tistory.com/90 - (rmsle - 더 작게 예측되는 것이 있으면 패널티 부여)\n",
    "- (mse - 이상치(큰 차이가 있는 예측)에 패널티 부여)"
   ]
  },
  {
   "cell_type": "code",
   "execution_count": 55,
   "id": "F1rBO7Uob1zq",
   "metadata": {
    "colab": {
     "base_uri": "https://localhost:8080/"
    },
    "id": "F1rBO7Uob1zq",
    "outputId": "43625fe2-3584-47d1-cec6-4ac82e2db074"
   },
   "outputs": [
    {
     "data": {
      "text/plain": [
       "array([22.15327703, 23.46260627, 28.23582938, 20.49886493, 23.95879634])"
      ]
     },
     "execution_count": 55,
     "metadata": {},
     "output_type": "execute_result"
    }
   ],
   "source": [
    "# 예측값 구하기\n",
    "model.predict(x_train[:5])"
   ]
  },
  {
   "cell_type": "code",
   "execution_count": 56,
   "id": "i1x_Q1qfL6od",
   "metadata": {
    "colab": {
     "base_uri": "https://localhost:8080/"
    },
    "id": "i1x_Q1qfL6od",
    "outputId": "74156afd-119c-4615-eb9f-4908246eae50"
   },
   "outputs": [
    {
     "data": {
      "text/plain": [
       "array([-2.76179304])"
      ]
     },
     "execution_count": 56,
     "metadata": {},
     "output_type": "execute_result"
    }
   ],
   "source": [
    "# 집값은 0 보다 커야함! 그런데 음수가 나왔음\n",
    "# 정답과 비교해서 알아보면 좋겠다\n",
    "temp = model.predict(x_train)\n",
    "temp[temp<0]\n",
    "#(model.predict(x_train) < 0).sum()"
   ]
  },
  {
   "cell_type": "code",
   "execution_count": null,
   "id": "cmJzhu4RM98-",
   "metadata": {
    "colab": {
     "base_uri": "https://localhost:8080/",
     "height": 145
    },
    "id": "cmJzhu4RM98-",
    "outputId": "859f7ed2-05a1-4cb0-e2ee-d20867f3152a"
   },
   "outputs": [
    {
     "data": {
      "text/html": [
       "\n",
       "  <div id=\"df-3a7c08f5-8ce3-490e-a897-b90c994b37dd\">\n",
       "    <div class=\"colab-df-container\">\n",
       "      <div>\n",
       "<style scoped>\n",
       "    .dataframe tbody tr th:only-of-type {\n",
       "        vertical-align: middle;\n",
       "    }\n",
       "\n",
       "    .dataframe tbody tr th {\n",
       "        vertical-align: top;\n",
       "    }\n",
       "\n",
       "    .dataframe thead th {\n",
       "        text-align: right;\n",
       "    }\n",
       "</style>\n",
       "<table border=\"1\" class=\"dataframe\">\n",
       "  <thead>\n",
       "    <tr style=\"text-align: right;\">\n",
       "      <th></th>\n",
       "      <th>CRIM</th>\n",
       "      <th>ZN</th>\n",
       "      <th>INDUS</th>\n",
       "      <th>CHAS</th>\n",
       "      <th>NOX</th>\n",
       "      <th>RM</th>\n",
       "      <th>AGE</th>\n",
       "      <th>DIS</th>\n",
       "      <th>RAD</th>\n",
       "      <th>TAX</th>\n",
       "      <th>PTRATIO</th>\n",
       "      <th>B</th>\n",
       "      <th>LSTAT</th>\n",
       "    </tr>\n",
       "  </thead>\n",
       "  <tbody>\n",
       "    <tr>\n",
       "      <th>227</th>\n",
       "      <td>0.514104</td>\n",
       "      <td>0.0</td>\n",
       "      <td>0.646628</td>\n",
       "      <td>0.0</td>\n",
       "      <td>0.633745</td>\n",
       "      <td>0.18356</td>\n",
       "      <td>1.0</td>\n",
       "      <td>0.048068</td>\n",
       "      <td>1.0</td>\n",
       "      <td>0.914122</td>\n",
       "      <td>0.808511</td>\n",
       "      <td>0.221771</td>\n",
       "      <td>0.972682</td>\n",
       "    </tr>\n",
       "  </tbody>\n",
       "</table>\n",
       "</div>\n",
       "      <button class=\"colab-df-convert\" onclick=\"convertToInteractive('df-3a7c08f5-8ce3-490e-a897-b90c994b37dd')\"\n",
       "              title=\"Convert this dataframe to an interactive table.\"\n",
       "              style=\"display:none;\">\n",
       "        \n",
       "  <svg xmlns=\"http://www.w3.org/2000/svg\" height=\"24px\"viewBox=\"0 0 24 24\"\n",
       "       width=\"24px\">\n",
       "    <path d=\"M0 0h24v24H0V0z\" fill=\"none\"/>\n",
       "    <path d=\"M18.56 5.44l.94 2.06.94-2.06 2.06-.94-2.06-.94-.94-2.06-.94 2.06-2.06.94zm-11 1L8.5 8.5l.94-2.06 2.06-.94-2.06-.94L8.5 2.5l-.94 2.06-2.06.94zm10 10l.94 2.06.94-2.06 2.06-.94-2.06-.94-.94-2.06-.94 2.06-2.06.94z\"/><path d=\"M17.41 7.96l-1.37-1.37c-.4-.4-.92-.59-1.43-.59-.52 0-1.04.2-1.43.59L10.3 9.45l-7.72 7.72c-.78.78-.78 2.05 0 2.83L4 21.41c.39.39.9.59 1.41.59.51 0 1.02-.2 1.41-.59l7.78-7.78 2.81-2.81c.8-.78.8-2.07 0-2.86zM5.41 20L4 18.59l7.72-7.72 1.47 1.35L5.41 20z\"/>\n",
       "  </svg>\n",
       "      </button>\n",
       "      \n",
       "  <style>\n",
       "    .colab-df-container {\n",
       "      display:flex;\n",
       "      flex-wrap:wrap;\n",
       "      gap: 12px;\n",
       "    }\n",
       "\n",
       "    .colab-df-convert {\n",
       "      background-color: #E8F0FE;\n",
       "      border: none;\n",
       "      border-radius: 50%;\n",
       "      cursor: pointer;\n",
       "      display: none;\n",
       "      fill: #1967D2;\n",
       "      height: 32px;\n",
       "      padding: 0 0 0 0;\n",
       "      width: 32px;\n",
       "    }\n",
       "\n",
       "    .colab-df-convert:hover {\n",
       "      background-color: #E2EBFA;\n",
       "      box-shadow: 0px 1px 2px rgba(60, 64, 67, 0.3), 0px 1px 3px 1px rgba(60, 64, 67, 0.15);\n",
       "      fill: #174EA6;\n",
       "    }\n",
       "\n",
       "    [theme=dark] .colab-df-convert {\n",
       "      background-color: #3B4455;\n",
       "      fill: #D2E3FC;\n",
       "    }\n",
       "\n",
       "    [theme=dark] .colab-df-convert:hover {\n",
       "      background-color: #434B5C;\n",
       "      box-shadow: 0px 1px 3px 1px rgba(0, 0, 0, 0.15);\n",
       "      filter: drop-shadow(0px 1px 2px rgba(0, 0, 0, 0.3));\n",
       "      fill: #FFFFFF;\n",
       "    }\n",
       "  </style>\n",
       "\n",
       "      <script>\n",
       "        const buttonEl =\n",
       "          document.querySelector('#df-3a7c08f5-8ce3-490e-a897-b90c994b37dd button.colab-df-convert');\n",
       "        buttonEl.style.display =\n",
       "          google.colab.kernel.accessAllowed ? 'block' : 'none';\n",
       "\n",
       "        async function convertToInteractive(key) {\n",
       "          const element = document.querySelector('#df-3a7c08f5-8ce3-490e-a897-b90c994b37dd');\n",
       "          const dataTable =\n",
       "            await google.colab.kernel.invokeFunction('convertToInteractive',\n",
       "                                                     [key], {});\n",
       "          if (!dataTable) return;\n",
       "\n",
       "          const docLinkHtml = 'Like what you see? Visit the ' +\n",
       "            '<a target=\"_blank\" href=https://colab.research.google.com/notebooks/data_table.ipynb>data table notebook</a>'\n",
       "            + ' to learn more about interactive tables.';\n",
       "          element.innerHTML = '';\n",
       "          dataTable['output_type'] = 'display_data';\n",
       "          await google.colab.output.renderOutput(dataTable, element);\n",
       "          const docLink = document.createElement('div');\n",
       "          docLink.innerHTML = docLinkHtml;\n",
       "          element.appendChild(docLink);\n",
       "        }\n",
       "      </script>\n",
       "    </div>\n",
       "  </div>\n",
       "  "
      ],
      "text/plain": [
       "         CRIM   ZN     INDUS  CHAS       NOX       RM  AGE       DIS  RAD  \\\n",
       "227  0.514104  0.0  0.646628   0.0  0.633745  0.18356  1.0  0.048068  1.0   \n",
       "\n",
       "          TAX   PTRATIO         B     LSTAT  \n",
       "227  0.914122  0.808511  0.221771  0.972682  "
      ]
     },
     "execution_count": 46,
     "metadata": {},
     "output_type": "execute_result"
    }
   ],
   "source": [
    "pd.DataFrame(x_train, columns=X.columns)[temp<0]"
   ]
  },
  {
   "cell_type": "code",
   "execution_count": null,
   "id": "HZD4C8ZXNYRV",
   "metadata": {
    "colab": {
     "base_uri": "https://localhost:8080/"
    },
    "id": "HZD4C8ZXNYRV",
    "outputId": "8b9ef45d-f732-48c0-9a46-7f599a7f2245"
   },
   "outputs": [
    {
     "data": {
      "text/plain": [
       "31.6"
      ]
     },
     "execution_count": 47,
     "metadata": {},
     "output_type": "execute_result"
    }
   ],
   "source": [
    "y_train[227]"
   ]
  },
  {
   "cell_type": "code",
   "execution_count": 57,
   "id": "m5h8NJwHNhve",
   "metadata": {
    "colab": {
     "base_uri": "https://localhost:8080/",
     "height": 424
    },
    "id": "m5h8NJwHNhve",
    "outputId": "930af93e-1f52-4b01-fc62-8e8fcf40dca5"
   },
   "outputs": [
    {
     "data": {
      "text/html": [
       "<div>\n",
       "<style scoped>\n",
       "    .dataframe tbody tr th:only-of-type {\n",
       "        vertical-align: middle;\n",
       "    }\n",
       "\n",
       "    .dataframe tbody tr th {\n",
       "        vertical-align: top;\n",
       "    }\n",
       "\n",
       "    .dataframe thead th {\n",
       "        text-align: right;\n",
       "    }\n",
       "</style>\n",
       "<table border=\"1\" class=\"dataframe\">\n",
       "  <thead>\n",
       "    <tr style=\"text-align: right;\">\n",
       "      <th></th>\n",
       "      <th>y</th>\n",
       "      <th>y_pred</th>\n",
       "      <th>diff</th>\n",
       "    </tr>\n",
       "  </thead>\n",
       "  <tbody>\n",
       "    <tr>\n",
       "      <th>370</th>\n",
       "      <td>50.0</td>\n",
       "      <td>34.177758</td>\n",
       "      <td>15.822242</td>\n",
       "    </tr>\n",
       "    <tr>\n",
       "      <th>233</th>\n",
       "      <td>48.3</td>\n",
       "      <td>35.481421</td>\n",
       "      <td>12.818579</td>\n",
       "    </tr>\n",
       "    <tr>\n",
       "      <th>214</th>\n",
       "      <td>23.7</td>\n",
       "      <td>10.999026</td>\n",
       "      <td>12.700974</td>\n",
       "    </tr>\n",
       "    <tr>\n",
       "      <th>225</th>\n",
       "      <td>50.0</td>\n",
       "      <td>37.739979</td>\n",
       "      <td>12.260021</td>\n",
       "    </tr>\n",
       "    <tr>\n",
       "      <th>267</th>\n",
       "      <td>50.0</td>\n",
       "      <td>39.011792</td>\n",
       "      <td>10.988208</td>\n",
       "    </tr>\n",
       "    <tr>\n",
       "      <th>...</th>\n",
       "      <td>...</td>\n",
       "      <td>...</td>\n",
       "      <td>...</td>\n",
       "    </tr>\n",
       "    <tr>\n",
       "      <th>42</th>\n",
       "      <td>25.3</td>\n",
       "      <td>25.072464</td>\n",
       "      <td>0.227536</td>\n",
       "    </tr>\n",
       "    <tr>\n",
       "      <th>324</th>\n",
       "      <td>25.0</td>\n",
       "      <td>24.776588</td>\n",
       "      <td>0.223412</td>\n",
       "    </tr>\n",
       "    <tr>\n",
       "      <th>435</th>\n",
       "      <td>13.4</td>\n",
       "      <td>13.322647</td>\n",
       "      <td>0.077353</td>\n",
       "    </tr>\n",
       "    <tr>\n",
       "      <th>483</th>\n",
       "      <td>21.8</td>\n",
       "      <td>21.859183</td>\n",
       "      <td>0.059183</td>\n",
       "    </tr>\n",
       "    <tr>\n",
       "      <th>498</th>\n",
       "      <td>21.2</td>\n",
       "      <td>21.164023</td>\n",
       "      <td>0.035977</td>\n",
       "    </tr>\n",
       "  </tbody>\n",
       "</table>\n",
       "<p>127 rows × 3 columns</p>\n",
       "</div>"
      ],
      "text/plain": [
       "        y     y_pred       diff\n",
       "370  50.0  34.177758  15.822242\n",
       "233  48.3  35.481421  12.818579\n",
       "214  23.7  10.999026  12.700974\n",
       "225  50.0  37.739979  12.260021\n",
       "267  50.0  39.011792  10.988208\n",
       "..    ...        ...        ...\n",
       "42   25.3  25.072464   0.227536\n",
       "324  25.0  24.776588   0.223412\n",
       "435  13.4  13.322647   0.077353\n",
       "483  21.8  21.859183   0.059183\n",
       "498  21.2  21.164023   0.035977\n",
       "\n",
       "[127 rows x 3 columns]"
      ]
     },
     "execution_count": 57,
     "metadata": {},
     "output_type": "execute_result"
    }
   ],
   "source": [
    "# 실제값과 예측값의 차이값 구하기\n",
    "temp = pd.DataFrame()\n",
    "temp['y'] = y_test\n",
    "temp['y_pred'] = model.predict(x_test)\n",
    "temp['diff'] = (temp['y'] - temp['y_pred']).abs()\n",
    "temp.sort_values('diff', ascending=False)"
   ]
  },
  {
   "cell_type": "code",
   "execution_count": null,
   "id": "Kqi0fyj6nW4y",
   "metadata": {
    "id": "Kqi0fyj6nW4y"
   },
   "outputs": [],
   "source": [
    "import shelve\n",
    "# 만든 모델을 저장하는 방법\n",
    "\n",
    "with shelve.open('cj_data') as data:\n",
    "    data['boston_LR'] = model\n",
    "    data['boston_scaler'] = scaler"
   ]
  },
  {
   "cell_type": "code",
   "execution_count": null,
   "id": "ERzz0PBzn4N5",
   "metadata": {
    "id": "ERzz0PBzn4N5"
   },
   "outputs": [],
   "source": [
    "import shelve\n",
    "# 저장된 모델을 불러오는 방법\n",
    "with shelve.open('cj_data') as data:\n",
    "    model2 = data['boston_LR']\n",
    "    scaler = data['boston_scaler']"
   ]
  },
  {
   "cell_type": "code",
   "execution_count": null,
   "id": "BUc5ISWAfi4x",
   "metadata": {
    "id": "BUc5ISWAfi4x"
   },
   "outputs": [],
   "source": [
    "model2.predict(x_test)"
   ]
  },
  {
   "cell_type": "code",
   "execution_count": null,
   "id": "hZ55N3mlSZv6",
   "metadata": {
    "id": "hZ55N3mlSZv6"
   },
   "outputs": [],
   "source": []
  },
  {
   "cell_type": "markdown",
   "id": "QS7L0_cGsEpF",
   "metadata": {
    "id": "QS7L0_cGsEpF"
   },
   "source": [
    "## 1.Regularization 이해"
   ]
  },
  {
   "cell_type": "markdown",
   "id": "V4K9wMousEpF",
   "metadata": {
    "id": "V4K9wMousEpF"
   },
   "source": [
    "- 규제 모델\n",
    "    - Ridge Regression : L2 규제 가중치\n",
    "    - Lasso Regression : L1 규제 가중치 적용\n",
    "    - Elastic Net : L1 + L2 규제 가중치 적용"
   ]
  },
  {
   "cell_type": "markdown",
   "id": "_oQPaQ66u4cd",
   "metadata": {
    "id": "_oQPaQ66u4cd"
   },
   "source": [
    "![image.png](data:image/png;base64,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)"
   ]
  },
  {
   "cell_type": "code",
   "execution_count": null,
   "id": "42b53fd8",
   "metadata": {},
   "outputs": [],
   "source": [
    "X축 : feature, Y축 : coefficient(기울기)\n",
    "- Lasso : 0이 되는 것이 있다\n",
    "- Ridge : 0이 되지 않지만, coef 가 작아짐"
   ]
  },
  {
   "cell_type": "markdown",
   "id": "KsuCoc0PsEpG",
   "metadata": {
    "id": "KsuCoc0PsEpG"
   },
   "source": [
    "## 2.데이터 준비"
   ]
  },
  {
   "cell_type": "code",
   "execution_count": 58,
   "id": "9t06HtQ7sEpH",
   "metadata": {
    "id": "9t06HtQ7sEpH"
   },
   "outputs": [],
   "source": [
    "# sin 파형을 따르는 데이터를 1, 4, 15 차항으로 변환하여 결과 비교\n",
    "import numpy as np\n",
    "import matplotlib.pyplot as plt\n",
    "from sklearn.preprocessing import PolynomialFeatures\n",
    "from sklearn.linear_model import LinearRegression\n",
    "from sklearn.pipeline import Pipeline\n",
    "\n",
    "def sin(X):\n",
    "    return np.sin(1.5 * np.pi * X)\n",
    "\n",
    "m = 30\n",
    "X = np.sort(np.random.rand(m))\n",
    "y = sin(X) + np.random.randn(m) * 0.1"
   ]
  },
  {
   "cell_type": "markdown",
   "id": "RlG25LheTpv3",
   "metadata": {
    "id": "RlG25LheTpv3"
   },
   "source": [
    "### 2-1.다항 회귀"
   ]
  },
  {
   "cell_type": "code",
   "execution_count": 59,
   "id": "MglrA6Z1sEpH",
   "metadata": {
    "id": "MglrA6Z1sEpH",
    "outputId": "62c0ffb7-a1ac-45b8-a46d-8816165b8673"
   },
   "outputs": [
    {
     "data": {
      "image/png": "[encoded data removed]",
      "text/plain": [
       "<Figure size 1080x360 with 3 Axes>"
      ]
     },
     "metadata": {
      "needs_background": "light"
     },
     "output_type": "display_data"
    }
   ],
   "source": [
    "degrees = (1, 4, 15)\n",
    "plt.figure(figsize=(15, 5))\n",
    "for i, degree in enumerate(degrees):\n",
    "    polynomial = PolynomialFeatures(degree=degree)\n",
    "    lr = LinearRegression()\n",
    "    pipe = Pipeline([('polynomial', polynomial), ('linear_regression', lr)])\n",
    "    pipe.fit(X.reshape(-1, 1), y)\n",
    "    \n",
    "    X_test = np.linspace(0, 1, 100)\n",
    "    plt.subplot(1, len(degrees), i+1)\n",
    "    plt.plot(X_test, sin(X_test), 'g-', label='True Y')  # 정답\n",
    "    plt.plot(X_test, pipe.predict(X_test[:, np.newaxis]), 'r--', label='Predict')  # 다차식 - 예측값\n",
    "    \n",
    "    plt.plot(X, y, 'b.', label='Sample') # 샘플\n",
    "    plt.xlim((0, 1))\n",
    "    plt.ylim((-2, 2))\n",
    "    plt.legend()\n",
    "    plt.title(f'Degree:{degree}')\n",
    "plt.show()"
   ]
  },
  {
   "cell_type": "markdown",
   "id": "llVYs7FjsEpI",
   "metadata": {
    "id": "llVYs7FjsEpI"
   },
   "source": [
    "### 2-2.다항 + Ridge 사용\n",
    "- 15차항 변환된 데이터를 기반으로 Ridge Regression 모델 이용"
   ]
  },
  {
   "cell_type": "code",
   "execution_count": 64,
   "id": "m7SGZH0asEpI",
   "metadata": {
    "id": "m7SGZH0asEpI",
    "outputId": "dfd35652-7b7e-4c02-9e85-271df124ec3b"
   },
   "outputs": [
    {
     "data": {
      "image/png": "[encoded data removed]",
      "text/plain": [
       "<Figure size 1440x360 with 4 Axes>"
      ]
     },
     "metadata": {
      "needs_background": "light"
     },
     "output_type": "display_data"
    }
   ],
   "source": [
    "from sklearn.linear_model import Ridge\n",
    "\n",
    "alphas = (0, 0.0001, 0.0003, 0.001) #, 0.01, 0.1)#, 1, 10)\n",
    "plt.figure(figsize=((20, 5)))\n",
    "\n",
    "for i, alpha in enumerate(alphas):\n",
    "    polynomial = PolynomialFeatures(degree=15)\n",
    "    ridge = Ridge(alpha=alpha)\n",
    "    pipe = Pipeline([('polynomial', polynomial), ('ridge', ridge)])\n",
    "    pipe.fit(X.reshape(-1, 1), y)\n",
    "\n",
    "    X_test = np.linspace(0, 1, 100)\n",
    "    plt.subplot(1, len(alphas), i+1)\n",
    "    plt.plot(X_test, sin(X_test), 'g-', label='True Y')\n",
    "    plt.plot(X_test, pipe.predict(X_test[:, np.newaxis]),\n",
    "            'r--', label='Predict')\n",
    "    plt.plot(X, y, 'b.', label='Sample')\n",
    "    plt.xlim((0, 1))\n",
    "    plt.ylim((-2, 2))\n",
    "    plt.legend()\n",
    "    plt.title(f'Degree:15, Alpha:{alpha}')\n",
    "plt.show() "
   ]
  },
  {
   "cell_type": "markdown",
   "id": "UpFZxWfBsEpI",
   "metadata": {
    "id": "UpFZxWfBsEpI"
   },
   "source": [
    "## 3.Ridge Regression\n",
    "- 보스턴 주택 가격 예측\n",
    "- https://scikit-learn.org/stable/modules/generated/sklearn.linear_model.Ridge.html"
   ]
  },
  {
   "cell_type": "code",
   "execution_count": 65,
   "id": "fbGmlAI5sEpI",
   "metadata": {
    "id": "fbGmlAI5sEpI",
    "outputId": "e48e8cf2-619a-4f6c-ac38-7e698a1ec19c"
   },
   "outputs": [
    {
     "data": {
      "text/html": [
       "<div>\n",
       "<style scoped>\n",
       "    .dataframe tbody tr th:only-of-type {\n",
       "        vertical-align: middle;\n",
       "    }\n",
       "\n",
       "    .dataframe tbody tr th {\n",
       "        vertical-align: top;\n",
       "    }\n",
       "\n",
       "    .dataframe thead th {\n",
       "        text-align: right;\n",
       "    }\n",
       "</style>\n",
       "<table border=\"1\" class=\"dataframe\">\n",
       "  <thead>\n",
       "    <tr style=\"text-align: right;\">\n",
       "      <th></th>\n",
       "      <th>CRIM</th>\n",
       "      <th>ZN</th>\n",
       "      <th>INDUS</th>\n",
       "      <th>CHAS</th>\n",
       "      <th>NOX</th>\n",
       "      <th>RM</th>\n",
       "      <th>AGE</th>\n",
       "      <th>DIS</th>\n",
       "      <th>RAD</th>\n",
       "      <th>TAX</th>\n",
       "      <th>PTRATIO</th>\n",
       "      <th>B</th>\n",
       "      <th>LSTAT</th>\n",
       "      <th>PRICE</th>\n",
       "    </tr>\n",
       "  </thead>\n",
       "  <tbody>\n",
       "    <tr>\n",
       "      <th>0</th>\n",
       "      <td>0.00632</td>\n",
       "      <td>18.0</td>\n",
       "      <td>2.31</td>\n",
       "      <td>0.0</td>\n",
       "      <td>0.538</td>\n",
       "      <td>6.575</td>\n",
       "      <td>65.2</td>\n",
       "      <td>4.0900</td>\n",
       "      <td>1.0</td>\n",
       "      <td>296.0</td>\n",
       "      <td>15.3</td>\n",
       "      <td>396.90</td>\n",
       "      <td>4.98</td>\n",
       "      <td>24.0</td>\n",
       "    </tr>\n",
       "    <tr>\n",
       "      <th>1</th>\n",
       "      <td>0.02731</td>\n",
       "      <td>0.0</td>\n",
       "      <td>7.07</td>\n",
       "      <td>0.0</td>\n",
       "      <td>0.469</td>\n",
       "      <td>6.421</td>\n",
       "      <td>78.9</td>\n",
       "      <td>4.9671</td>\n",
       "      <td>2.0</td>\n",
       "      <td>242.0</td>\n",
       "      <td>17.8</td>\n",
       "      <td>396.90</td>\n",
       "      <td>9.14</td>\n",
       "      <td>21.6</td>\n",
       "    </tr>\n",
       "    <tr>\n",
       "      <th>2</th>\n",
       "      <td>0.02729</td>\n",
       "      <td>0.0</td>\n",
       "      <td>7.07</td>\n",
       "      <td>0.0</td>\n",
       "      <td>0.469</td>\n",
       "      <td>7.185</td>\n",
       "      <td>61.1</td>\n",
       "      <td>4.9671</td>\n",
       "      <td>2.0</td>\n",
       "      <td>242.0</td>\n",
       "      <td>17.8</td>\n",
       "      <td>392.83</td>\n",
       "      <td>4.03</td>\n",
       "      <td>34.7</td>\n",
       "    </tr>\n",
       "    <tr>\n",
       "      <th>3</th>\n",
       "      <td>0.03237</td>\n",
       "      <td>0.0</td>\n",
       "      <td>2.18</td>\n",
       "      <td>0.0</td>\n",
       "      <td>0.458</td>\n",
       "      <td>6.998</td>\n",
       "      <td>45.8</td>\n",
       "      <td>6.0622</td>\n",
       "      <td>3.0</td>\n",
       "      <td>222.0</td>\n",
       "      <td>18.7</td>\n",
       "      <td>394.63</td>\n",
       "      <td>2.94</td>\n",
       "      <td>33.4</td>\n",
       "    </tr>\n",
       "    <tr>\n",
       "      <th>4</th>\n",
       "      <td>0.06905</td>\n",
       "      <td>0.0</td>\n",
       "      <td>2.18</td>\n",
       "      <td>0.0</td>\n",
       "      <td>0.458</td>\n",
       "      <td>7.147</td>\n",
       "      <td>54.2</td>\n",
       "      <td>6.0622</td>\n",
       "      <td>3.0</td>\n",
       "      <td>222.0</td>\n",
       "      <td>18.7</td>\n",
       "      <td>396.90</td>\n",
       "      <td>5.33</td>\n",
       "      <td>36.2</td>\n",
       "    </tr>\n",
       "  </tbody>\n",
       "</table>\n",
       "</div>"
      ],
      "text/plain": [
       "      CRIM    ZN  INDUS  CHAS    NOX     RM   AGE     DIS  RAD    TAX  \\\n",
       "0  0.00632  18.0   2.31   0.0  0.538  6.575  65.2  4.0900  1.0  296.0   \n",
       "1  0.02731   0.0   7.07   0.0  0.469  6.421  78.9  4.9671  2.0  242.0   \n",
       "2  0.02729   0.0   7.07   0.0  0.469  7.185  61.1  4.9671  2.0  242.0   \n",
       "3  0.03237   0.0   2.18   0.0  0.458  6.998  45.8  6.0622  3.0  222.0   \n",
       "4  0.06905   0.0   2.18   0.0  0.458  7.147  54.2  6.0622  3.0  222.0   \n",
       "\n",
       "   PTRATIO       B  LSTAT  PRICE  \n",
       "0     15.3  396.90   4.98   24.0  \n",
       "1     17.8  396.90   9.14   21.6  \n",
       "2     17.8  392.83   4.03   34.7  \n",
       "3     18.7  394.63   2.94   33.4  \n",
       "4     18.7  396.90   5.33   36.2  "
      ]
     },
     "execution_count": 65,
     "metadata": {},
     "output_type": "execute_result"
    }
   ],
   "source": [
    "import pandas as pd\n",
    "\n",
    "# 보스턴 주택 데이터 불러오기\n",
    "df = pd.read_csv('data_05/boston.csv')\n",
    "\n",
    "# 앞에서 5개의 데이터를 출력해 확인한다\n",
    "df.head(5)"
   ]
  },
  {
   "cell_type": "code",
   "execution_count": 68,
   "id": "6c567256",
   "metadata": {},
   "outputs": [],
   "source": [
    "from sklearn.preprocessing import PolynomialFeatures\n",
    "PolynomialFeatures?"
   ]
  },
  {
   "cell_type": "code",
   "execution_count": 76,
   "id": "439bade9",
   "metadata": {},
   "outputs": [
    {
     "name": "stdout",
     "output_type": "stream",
     "text": [
      "[[1 2]\n",
      " [3 4]\n",
      " [5 6]]\n",
      "['x0' 'x1' 'x0^2' 'x0 x1' 'x1^2' 'x0^3' 'x0^2 x1' 'x0 x1^2' 'x1^3']\n"
     ]
    },
    {
     "data": {
      "text/html": [
       "<div>\n",
       "<style scoped>\n",
       "    .dataframe tbody tr th:only-of-type {\n",
       "        vertical-align: middle;\n",
       "    }\n",
       "\n",
       "    .dataframe tbody tr th {\n",
       "        vertical-align: top;\n",
       "    }\n",
       "\n",
       "    .dataframe thead th {\n",
       "        text-align: right;\n",
       "    }\n",
       "</style>\n",
       "<table border=\"1\" class=\"dataframe\">\n",
       "  <thead>\n",
       "    <tr style=\"text-align: right;\">\n",
       "      <th></th>\n",
       "      <th>x0</th>\n",
       "      <th>x1</th>\n",
       "      <th>x0^2</th>\n",
       "      <th>x0 x1</th>\n",
       "      <th>x1^2</th>\n",
       "      <th>x0^3</th>\n",
       "      <th>x0^2 x1</th>\n",
       "      <th>x0 x1^2</th>\n",
       "      <th>x1^3</th>\n",
       "    </tr>\n",
       "  </thead>\n",
       "  <tbody>\n",
       "    <tr>\n",
       "      <th>x0</th>\n",
       "      <td>1.000000</td>\n",
       "      <td>1.000000</td>\n",
       "      <td>0.981981</td>\n",
       "      <td>0.986666</td>\n",
       "      <td>0.989743</td>\n",
       "      <td>0.948141</td>\n",
       "      <td>0.954594</td>\n",
       "      <td>0.960769</td>\n",
       "      <td>0.966282</td>\n",
       "    </tr>\n",
       "    <tr>\n",
       "      <th>x1</th>\n",
       "      <td>1.000000</td>\n",
       "      <td>1.000000</td>\n",
       "      <td>0.981981</td>\n",
       "      <td>0.986666</td>\n",
       "      <td>0.989743</td>\n",
       "      <td>0.948141</td>\n",
       "      <td>0.954594</td>\n",
       "      <td>0.960769</td>\n",
       "      <td>0.966282</td>\n",
       "    </tr>\n",
       "    <tr>\n",
       "      <th>x0^2</th>\n",
       "      <td>0.981981</td>\n",
       "      <td>0.981981</td>\n",
       "      <td>1.000000</td>\n",
       "      <td>0.999645</td>\n",
       "      <td>0.998906</td>\n",
       "      <td>0.991124</td>\n",
       "      <td>0.993692</td>\n",
       "      <td>0.995871</td>\n",
       "      <td>0.997530</td>\n",
       "    </tr>\n",
       "    <tr>\n",
       "      <th>x0 x1</th>\n",
       "      <td>0.986666</td>\n",
       "      <td>0.986666</td>\n",
       "      <td>0.999645</td>\n",
       "      <td>1.000000</td>\n",
       "      <td>0.999797</td>\n",
       "      <td>0.987231</td>\n",
       "      <td>0.990353</td>\n",
       "      <td>0.993099</td>\n",
       "      <td>0.995306</td>\n",
       "    </tr>\n",
       "    <tr>\n",
       "      <th>x1^2</th>\n",
       "      <td>0.989743</td>\n",
       "      <td>0.989743</td>\n",
       "      <td>0.998906</td>\n",
       "      <td>0.999797</td>\n",
       "      <td>1.000000</td>\n",
       "      <td>0.983823</td>\n",
       "      <td>0.987361</td>\n",
       "      <td>0.990536</td>\n",
       "      <td>0.993155</td>\n",
       "    </tr>\n",
       "    <tr>\n",
       "      <th>x0^3</th>\n",
       "      <td>0.948141</td>\n",
       "      <td>0.948141</td>\n",
       "      <td>0.991124</td>\n",
       "      <td>0.987231</td>\n",
       "      <td>0.983823</td>\n",
       "      <td>1.000000</td>\n",
       "      <td>0.999780</td>\n",
       "      <td>0.999100</td>\n",
       "      <td>0.998013</td>\n",
       "    </tr>\n",
       "    <tr>\n",
       "      <th>x0^2 x1</th>\n",
       "      <td>0.954594</td>\n",
       "      <td>0.954594</td>\n",
       "      <td>0.993692</td>\n",
       "      <td>0.990353</td>\n",
       "      <td>0.987361</td>\n",
       "      <td>0.999780</td>\n",
       "      <td>1.000000</td>\n",
       "      <td>0.999770</td>\n",
       "      <td>0.999115</td>\n",
       "    </tr>\n",
       "    <tr>\n",
       "      <th>x0 x1^2</th>\n",
       "      <td>0.960769</td>\n",
       "      <td>0.960769</td>\n",
       "      <td>0.995871</td>\n",
       "      <td>0.993099</td>\n",
       "      <td>0.990536</td>\n",
       "      <td>0.999100</td>\n",
       "      <td>0.999770</td>\n",
       "      <td>1.000000</td>\n",
       "      <td>0.999787</td>\n",
       "    </tr>\n",
       "    <tr>\n",
       "      <th>x1^3</th>\n",
       "      <td>0.966282</td>\n",
       "      <td>0.966282</td>\n",
       "      <td>0.997530</td>\n",
       "      <td>0.995306</td>\n",
       "      <td>0.993155</td>\n",
       "      <td>0.998013</td>\n",
       "      <td>0.999115</td>\n",
       "      <td>0.999787</td>\n",
       "      <td>1.000000</td>\n",
       "    </tr>\n",
       "  </tbody>\n",
       "</table>\n",
       "</div>"
      ],
      "text/plain": [
       "               x0        x1      x0^2     x0 x1      x1^2      x0^3   x0^2 x1  \\\n",
       "x0       1.000000  1.000000  0.981981  0.986666  0.989743  0.948141  0.954594   \n",
       "x1       1.000000  1.000000  0.981981  0.986666  0.989743  0.948141  0.954594   \n",
       "x0^2     0.981981  0.981981  1.000000  0.999645  0.998906  0.991124  0.993692   \n",
       "x0 x1    0.986666  0.986666  0.999645  1.000000  0.999797  0.987231  0.990353   \n",
       "x1^2     0.989743  0.989743  0.998906  0.999797  1.000000  0.983823  0.987361   \n",
       "x0^3     0.948141  0.948141  0.991124  0.987231  0.983823  1.000000  0.999780   \n",
       "x0^2 x1  0.954594  0.954594  0.993692  0.990353  0.987361  0.999780  1.000000   \n",
       "x0 x1^2  0.960769  0.960769  0.995871  0.993099  0.990536  0.999100  0.999770   \n",
       "x1^3     0.966282  0.966282  0.997530  0.995306  0.993155  0.998013  0.999115   \n",
       "\n",
       "          x0 x1^2      x1^3  \n",
       "x0       0.960769  0.966282  \n",
       "x1       0.960769  0.966282  \n",
       "x0^2     0.995871  0.997530  \n",
       "x0 x1    0.993099  0.995306  \n",
       "x1^2     0.990536  0.993155  \n",
       "x0^3     0.999100  0.998013  \n",
       "x0^2 x1  0.999770  0.999115  \n",
       "x0 x1^2  1.000000  0.999787  \n",
       "x1^3     0.999787  1.000000  "
      ]
     },
     "execution_count": 76,
     "metadata": {},
     "output_type": "execute_result"
    }
   ],
   "source": [
    "import numpy as np\n",
    "arr = np.arange(1, 7).reshape(-1, 2)\n",
    "print(arr)\n",
    "poly = PolynomialFeatures(degree=3, include_bias=False)\n",
    "A = poly.fit_transform(arr)\n",
    "print(poly.get_feature_names_out())\n",
    "temp = pd.DataFrame(A, columns=poly.get_feature_names_out())\n",
    "temp.corr()"
   ]
  },
  {
   "cell_type": "code",
   "execution_count": 77,
   "id": "EK5hCBq1sEpI",
   "metadata": {
    "id": "EK5hCBq1sEpI"
   },
   "outputs": [],
   "source": [
    "from sklearn.preprocessing import PolynomialFeatures\n",
    "from sklearn.preprocessing import MinMaxScaler, StandardScaler\n",
    "from sklearn.model_selection import train_test_split\n",
    "\n",
    "# 1. 보스턴 데이터(df) 중 'CRIM':'LSTAT'에 대해 X로 사용한다\n",
    "# 2. 보스턴 데이터(df) 중 'PRICE'를 y 로 이름 붙인다\n",
    "# 3. X에 대해 MinMaxScaler()를 적용하여 결과를 x_scaled로 이름 붙인다 \n",
    "\n",
    "X = df.loc[:, 'CRIM':'LSTAT']\n",
    "y = df['PRICE']\n",
    "scaler = MinMaxScaler()\n",
    "x_scaled = scaler.fit_transform(X)\n",
    "\n",
    "# 4. 상수항 없는 3차항 변환을 위한 PolynomialFeatures 객체를 생성하여 P라는 이름을 지정한다.\n",
    "# 5. x_scaled를 사용하여 3차항 변환을 적용하고 결과를 x_poly에 저장한다\n",
    "degree = 3\n",
    "P = PolynomialFeatures(degree=degree)\n",
    "x_poly = P.fit_transform(x_scaled)\n",
    "# 6. x_poly, y 데이터를 75%:25%로 분할하여 저장한다. (random_state=0을 사용함)\n",
    "x_train, x_test, y_train, y_test = train_test_split(x_poly, y, test_size=0.25, random_state=0)"
   ]
  },
  {
   "cell_type": "code",
   "execution_count": 78,
   "id": "jHfeW2VbsEpJ",
   "metadata": {
    "id": "jHfeW2VbsEpJ",
    "outputId": "3b6ba38a-d25b-4f2f-cc2f-6137140f2405"
   },
   "outputs": [
    {
     "data": {
      "text/plain": [
       "(0.92427491462836, 0.786534289984109)"
      ]
     },
     "execution_count": 78,
     "metadata": {},
     "output_type": "execute_result"
    }
   ],
   "source": [
    "from sklearn.linear_model import Ridge\n",
    "# train 데이터를 사용하여 Ridge 모델을 훈련시킨다. (alpha=1 사용) \n",
    "alpha=1\n",
    "model = Ridge(alpha=alpha)\n",
    "model.fit(x_train, y_train)\n",
    "model.score(x_train, y_train), model.score(x_test, y_test)"
   ]
  },
  {
   "cell_type": "code",
   "execution_count": 79,
   "id": "zTAVrnursEpJ",
   "metadata": {
    "id": "zTAVrnursEpJ",
    "outputId": "ce37dc3c-d749-4537-d534-e5f96dfa58b4"
   },
   "outputs": [
    {
     "data": {
      "text/plain": [
       "(0.953715539703467, 0.7905570432110306)"
      ]
     },
     "execution_count": 79,
     "metadata": {},
     "output_type": "execute_result"
    }
   ],
   "source": [
    "# train 데이터를 사용하여 Ridge 모델을 훈련시킨다. (alpha=0.1 사용) \n",
    "# train, test 성능을 확인한다\n",
    "alpha=0.1\n",
    "model = Ridge(alpha=alpha)\n",
    "model.fit(x_train, y_train)\n",
    "model.score(x_train, y_train), model.score(x_test, y_test)"
   ]
  },
  {
   "cell_type": "code",
   "execution_count": 80,
   "id": "MX8qRp2DsEpJ",
   "metadata": {
    "id": "MX8qRp2DsEpJ",
    "outputId": "de2ae2ad-cb32-4713-b9b1-81ea1e1b6d9a"
   },
   "outputs": [
    {
     "data": {
      "text/plain": [
       "(0.8555501939781199, 0.7230747746713162)"
      ]
     },
     "execution_count": 80,
     "metadata": {},
     "output_type": "execute_result"
    }
   ],
   "source": [
    "# train 데이터를 사용하여 Ridge 모델을 훈련시킨다. (alpha=10 사용) \n",
    "# train, test 성능을 확인한다\n",
    "alpha=10\n",
    "model = Ridge(alpha=alpha)\n",
    "model.fit(x_train, y_train)\n",
    "model.score(x_train, y_train), model.score(x_test, y_test)"
   ]
  },
  {
   "cell_type": "markdown",
   "id": "KaN97M5zsEpJ",
   "metadata": {
    "id": "KaN97M5zsEpJ"
   },
   "source": [
    "### 3-1.L2 규제 효과\n",
    "- L2 규제를 적용하면 특정 가중치가 너무 커지거나 너무 작은 값을 가지지 않도록 설정\n",
    "- 즉 규제 강도가 커질수록 특정 가중치에 값이 쏠리는 현상이 제거\n",
    "    - 일부만 가지고 모델링을 하는 것이 아니라 특성을 골고루 사용하는 의미로 해석 가능\n",
    "- 규제 강도를 0.1, 1, 10으로 설정하여 학습 후 가중치 값 조회"
   ]
  },
  {
   "cell_type": "code",
   "execution_count": 81,
   "id": "V3LCmLFVsEpJ",
   "metadata": {
    "id": "V3LCmLFVsEpJ"
   },
   "outputs": [],
   "source": [
    "ridge01 = Ridge(alpha=0.1).fit(X, y)\n",
    "ridge01_coef = pd.Series(ridge01.coef_, index=X.columns)\n",
    "\n",
    "ridge1 = Ridge(alpha=1).fit(X, y)\n",
    "ridge1_coef = pd.Series(ridge1.coef_, index=X.columns)\n",
    "\n",
    "ridge10 = Ridge(alpha=10).fit(X, y)\n",
    "ridge10_coef = pd.Series(ridge10.coef_, index=X.columns)"
   ]
  },
  {
   "cell_type": "code",
   "execution_count": 84,
   "id": "e9da4693",
   "metadata": {},
   "outputs": [
    {
     "data": {
      "text/plain": [
       "CRIM      -0.101435\n",
       "ZN         0.049579\n",
       "INDUS     -0.042962\n",
       "CHAS       1.952021\n",
       "NOX       -2.371619\n",
       "RM         3.702272\n",
       "AGE       -0.010707\n",
       "DIS       -1.248808\n",
       "RAD        0.279596\n",
       "TAX       -0.013993\n",
       "PTRATIO   -0.797945\n",
       "B          0.010037\n",
       "LSTAT     -0.559366\n",
       "dtype: float64"
      ]
     },
     "execution_count": 84,
     "metadata": {},
     "output_type": "execute_result"
    }
   ],
   "source": [
    "ridge10_coef"
   ]
  },
  {
   "cell_type": "markdown",
   "id": "PzcPtdTAsEpK",
   "metadata": {
    "id": "PzcPtdTAsEpK"
   },
   "source": [
    "### 3-2.L2 규제 효과 시각화\n",
    "- 규제 강도에 따른 가중치 값을 시각화\n",
    "- 규제 강도가 커질수록 특정 특성(NOX)이 큰 값을 가지지 못하는 것을 확인할 수 있음"
   ]
  },
  {
   "cell_type": "code",
   "execution_count": null,
   "id": "-eRUQ333sEpK",
   "metadata": {
    "id": "-eRUQ333sEpK",
    "outputId": "985581fe-b927-466e-f0e7-a5d539da03ae"
   },
   "outputs": [
    {
     "data": {
      "image/png": "[encoded data removed]",
      "text/plain": [
       "<Figure size 1080x360 with 3 Axes>"
      ]
     },
     "metadata": {
      "needs_background": "light"
     },
     "output_type": "display_data"
    }
   ],
   "source": [
    "import matplotlib.pyplot as plt\n",
    "plt.figure(figsize=(15, 5))\n",
    "plt.subplot(1, 3, 1)\n",
    "ridge01_coef.sort_values().plot(kind='bar')\n",
    "plt.title('Alpha : 0.1')\n",
    "\n",
    "plt.subplot(1, 3, 2)\n",
    "ridge1_coef.sort_values().plot(kind='bar')\n",
    "plt.title('Alpha : 1')\n",
    "\n",
    "plt.subplot(1, 3, 3)\n",
    "ridge10_coef.sort_values().plot(kind='bar')\n",
    "plt.title('Alpha : 10')\n",
    "plt.show()"
   ]
  },
  {
   "cell_type": "markdown",
   "id": "qvt_DYfWsEpK",
   "metadata": {
    "id": "qvt_DYfWsEpK"
   },
   "source": [
    "## 4.Lasso Regression\n",
    "- 보스턴 주택 가격 예측\n",
    "- https://scikit-learn.org/stable/modules/generated/sklearn.linear_model.Lasso.html"
   ]
  },
  {
   "cell_type": "code",
   "execution_count": null,
   "id": "BawJ0PBet6Ts",
   "metadata": {
    "id": "BawJ0PBet6Ts"
   },
   "outputs": [],
   "source": [
    "# 보스턴 데이터는 3.Ridge Regression 에서 만든 것을 그대로 사용한다"
   ]
  },
  {
   "cell_type": "code",
   "execution_count": 86,
   "id": "ghNKW4p0sEpL",
   "metadata": {
    "id": "ghNKW4p0sEpL",
    "outputId": "4d724fc9-7402-4159-c364-dcbb288a8086"
   },
   "outputs": [
    {
     "data": {
      "text/plain": [
       "(0.2933995968826699, 0.21247966404486662)"
      ]
     },
     "execution_count": 86,
     "metadata": {},
     "output_type": "execute_result"
    }
   ],
   "source": [
    "from sklearn.linear_model import Lasso\n",
    "# train 데이터를 사용하여 Lasso 모델을 훈련시킨다. (alpha=1 사용) \n",
    "# train, test 성능을 확인한다\n",
    "alpha = 1\n",
    "model = Lasso(alpha=alpha).fit(x_train, y_train)\n",
    "model.score(x_train, y_train), model.score(x_test, y_test)"
   ]
  },
  {
   "cell_type": "code",
   "execution_count": 93,
   "id": "An2XqxT8sEpL",
   "metadata": {
    "id": "An2XqxT8sEpL",
    "outputId": "d5972d19-b7a2-43b0-a892-dedf152de086"
   },
   "outputs": [
    {
     "data": {
      "text/plain": [
       "(0.8273432266616109, 0.6837024799469456)"
      ]
     },
     "execution_count": 93,
     "metadata": {},
     "output_type": "execute_result"
    }
   ],
   "source": [
    "# train 데이터를 사용하여 Lasso 모델을 훈련시킨다. (alpha=0.1 사용) \n",
    "# train, test 성능을 확인한다\n",
    "alpha = 0.05\n",
    "model = Lasso(alpha=alpha, max_iter=5000).fit(x_train, y_train)\n",
    "model.score(x_train, y_train), model.score(x_test, y_test)"
   ]
  },
  {
   "cell_type": "code",
   "execution_count": 92,
   "id": "d24fbab2",
   "metadata": {},
   "outputs": [
    {
     "data": {
      "text/plain": [
       "(0.783861983129184, 0.6452299604478746)"
      ]
     },
     "execution_count": 92,
     "metadata": {},
     "output_type": "execute_result"
    }
   ],
   "source": [
    "# train 데이터를 사용하여 Lasso 모델을 훈련시킨다. (alpha=0.1 사용) \n",
    "# train, test 성능을 확인한다\n",
    "alpha = 0.1\n",
    "model = Lasso(alpha=alpha, max_iter=5000).fit(x_train, y_train)\n",
    "model.score(x_train, y_train), model.score(x_test, y_test)"
   ]
  },
  {
   "cell_type": "code",
   "execution_count": 90,
   "id": "405a684d",
   "metadata": {},
   "outputs": [],
   "source": [
    "Lasso?"
   ]
  },
  {
   "cell_type": "code",
   "execution_count": 88,
   "id": "KgEuu7FAsEpM",
   "metadata": {
    "id": "KgEuu7FAsEpM",
    "outputId": "f2405b50-2917-4daa-da4c-3ed94f722f49"
   },
   "outputs": [
    {
     "data": {
      "text/plain": [
       "(0.0, -0.001119359203955339)"
      ]
     },
     "execution_count": 88,
     "metadata": {},
     "output_type": "execute_result"
    }
   ],
   "source": [
    "# train 데이터를 사용하여 Lasso 모델을 훈련시킨다. (alpha=10 사용) \n",
    "# train, test 성능을 확인한다\n",
    "alpha = 10\n",
    "model = Lasso(alpha=alpha).fit(x_train, y_train)\n",
    "model.score(x_train, y_train), model.score(x_test, y_test)"
   ]
  },
  {
   "cell_type": "markdown",
   "id": "fhK8tZAXsEpM",
   "metadata": {
    "id": "fhK8tZAXsEpM"
   },
   "source": [
    "### 4-1.L1 규제의 효과\n",
    "- L1 규제를 적용하면 특정 가중치를 선택\n",
    "- 즉 중요한 특성만 사용하는 의미로 해석 가능\n",
    "- 규제 강도를 0.1, 1, 10으로 설정하여 학습 후 가중치 값 조회"
   ]
  },
  {
   "cell_type": "code",
   "execution_count": 94,
   "id": "v_KW3LH9sEpM",
   "metadata": {
    "id": "v_KW3LH9sEpM"
   },
   "outputs": [],
   "source": [
    "# L1 규제의 효과\n",
    "lasso01 = Lasso(alpha=0.1).fit(X, y)\n",
    "lasso01_coef = pd.Series(lasso01.coef_, index=X.columns)\n",
    "\n",
    "lasso1 = Lasso(alpha=1).fit(X, y)\n",
    "lasso1_coef = pd.Series(lasso1.coef_, index=X.columns)\n",
    "\n",
    "lasso10 = Lasso(alpha=10).fit(X, y)\n",
    "lasso10_coef = pd.Series(lasso10.coef_, index=X.columns)"
   ]
  },
  {
   "cell_type": "code",
   "execution_count": 99,
   "id": "0a125fd5",
   "metadata": {},
   "outputs": [
    {
     "data": {
      "text/plain": [
       "CRIM      -0.097894\n",
       "ZN         0.049211\n",
       "INDUS     -0.036619\n",
       "CHAS       0.955190\n",
       "NOX       -0.000000\n",
       "RM         3.703202\n",
       "AGE       -0.010037\n",
       "DIS       -1.160538\n",
       "RAD        0.274707\n",
       "TAX       -0.014570\n",
       "PTRATIO   -0.770654\n",
       "B          0.010249\n",
       "LSTAT     -0.568769\n",
       "dtype: float64"
      ]
     },
     "execution_count": 99,
     "metadata": {},
     "output_type": "execute_result"
    }
   ],
   "source": [
    "lasso01_coef"
   ]
  },
  {
   "cell_type": "markdown",
   "id": "X3o_IMsBsEpM",
   "metadata": {
    "id": "X3o_IMsBsEpM"
   },
   "source": [
    "### 4-2.L1 규제의 효과 시각화\n",
    "- 규제 강도에 따른 가중치 값을 시각화\n",
    "- 규제 강도가 커질수록 사용되는 특성의 수가 적은것을 확인\n",
    "- 무조건 특성을 적게 쓴다고 좋은 것은 아님"
   ]
  },
  {
   "cell_type": "code",
   "execution_count": 95,
   "id": "hQ7RarLdsEpN",
   "metadata": {
    "id": "hQ7RarLdsEpN",
    "outputId": "e21a3d18-af52-4a61-8b31-c31d2a08139f"
   },
   "outputs": [
    {
     "data": {
      "image/png": "[encoded data removed]",
      "text/plain": [
       "<Figure size 1080x360 with 3 Axes>"
      ]
     },
     "metadata": {
      "needs_background": "light"
     },
     "output_type": "display_data"
    }
   ],
   "source": [
    "import matplotlib.pyplot as plt\n",
    "plt.figure(figsize=(15, 5))\n",
    "plt.subplot(1, 3, 1)\n",
    "lasso01_coef.sort_values().plot(kind='bar')\n",
    "plt.title('Alpha : 0.1')\n",
    "\n",
    "plt.subplot(1, 3, 2)\n",
    "lasso1_coef.sort_values().plot(kind='bar')\n",
    "plt.title('Alpha : 1')\n",
    "\n",
    "plt.subplot(1, 3, 3)\n",
    "lasso10_coef.sort_values().plot(kind='bar')\n",
    "plt.title('Alpha : 10')\n",
    "plt.show()"
   ]
  },
  {
   "cell_type": "code",
   "execution_count": null,
   "id": "BJVeD9zfNtwE",
   "metadata": {
    "id": "BJVeD9zfNtwE"
   },
   "outputs": [],
   "source": [
    "lasso10_coef  # 몇 몇 회귀계수를 0으로 만들어 해당 변수가 영향력을 잃게 만듦"
   ]
  },
  {
   "cell_type": "code",
   "execution_count": null,
   "id": "-t8wqRwcV_RQ",
   "metadata": {
    "id": "-t8wqRwcV_RQ"
   },
   "outputs": [],
   "source": [
    "# MinMaxScaler, StandardScaler\n",
    "# PolynomialFeatures - 기능\n",
    "# Ridge - L2 norm, Lasso - L1 norm 차이점, 기능\n",
    "# 요약, 설명 - 공지사항 참조 (오늘 저녁)\n",
    "\n",
    "# boxcox +"
   ]
  },
  {
   "cell_type": "code",
   "execution_count": null,
   "id": "f5049939",
   "metadata": {},
   "outputs": [],
   "source": [
    "# 화요일 여기까지"
   ]
  },
  {
   "cell_type": "markdown",
   "id": "tIUm-VR0wy9O",
   "metadata": {
    "id": "tIUm-VR0wy9O"
   },
   "source": [
    "## 5.회귀 모델 평가지표\n",
    "\n",
    "- $R^2$ score\n",
    "  - model.score(X, y)\n",
    "  - sklearn.metrics.r2_score(y_true, y_pred)\n",
    "  - 분산 기반으로 예측 성능을 평가\n",
    "  - 예측값 분산 / 실제값 분산\n",
    "- MAE(Mean Absolute Error)\n",
    "   - sklearn.metrics.mean_absolute_error(y_true, y_pred)\n",
    "   - 실제 값과 예측 값의 차이를 절댓값으로 변환해 평균한 것\n",
    "- MSE(Mean Squared Error)\n",
    "   - sklearn.metrics.mean_squared_error(y_true, y_pred)  \n",
    "   - 실제 값과 예측 값의 차이를 제곱해 평균한 것\n",
    "- RMSE(Root Mean Squared Error)\n",
    "   - sklearn API에 없음\n",
    "   - MSE에 np.sqrt() 또는 ** 0.5를 사용함\n",
    "   - MSE 값은 오류의 제곱을 구하므로 실제 오류 평균보다 더 커지는 특성이 있어 MSE에 루트를 씌운 것\n",
    "- MSLE(Mean Squared Log Error)\n",
    "   - sklearn.metrics.mean_squared_log_error(y_true, y_pred)\n",
    "   - MSE에 로그를 적용해준 지표\n",
    "- RMSLE(Root Mean Square Log Error) \n",
    "   - RMSE에 로그를 적용해준 지표\n",
    "   - 이상치가 있더라도 변동폭이 크지 않음(이상치에 강건함)\n",
    "   - 실제값보다 예측값이 작을 때 더 큰 패널티 부여\n",
    "   - 작게 예측하면 안되는 경우 사용하면 좋음 (배달 시간 예측)\n",
    "   - 실제값, 예측값에 음수가 있으면 안됨 (오류 발생)\n",
    "- 참조 : https://bkshin.tistory.com/entry/%EB%A8%B8%EC%8B%A0%EB%9F%AC%EB%8B%9D-17-%ED%9A%8C%EA%B7%80-%ED%8F%89%EA%B0%80-%EC%A7%80%ED%91%9C"
   ]
  },
  {
   "cell_type": "code",
   "execution_count": null,
   "id": "o3QXnlWxFfZ4",
   "metadata": {
    "id": "o3QXnlWxFfZ4"
   },
   "outputs": [],
   "source": [
    "# R2_score : 1에 가까울 수록 좋은 성능\n",
    "# MAE, MSE, RMSE, MSLE, RMSLE :  0에 가까울 수록 좋은 성능 "
   ]
  },
  {
   "cell_type": "markdown",
   "id": "ken5C_sI6xBL",
   "metadata": {
    "id": "ken5C_sI6xBL"
   },
   "source": [
    "### 5-1.성능평가 함수"
   ]
  },
  {
   "cell_type": "code",
   "execution_count": null,
   "id": "zFe05b6Uwewx",
   "metadata": {
    "id": "zFe05b6Uwewx"
   },
   "outputs": [],
   "source": [
    "import numpy as np\n",
    "import pandas as pd\n",
    "from sklearn.metrics import r2_score\n",
    "from sklearn.metrics import mean_absolute_error as mae\n",
    "from sklearn.metrics import mean_squared_error as mse\n",
    "from sklearn.metrics import mean_squared_log_error as msle\n",
    "\n",
    "# [1] r2_score, mae, mse, rmse, msle, rmsle 를 구해 반환하는 함수를 작성합니다.\n",
    "# 한 개의 행에 6가지 성능평가 결과를 소수점 아래 4자리까지 표시되도록 하여 작성합니다.\n",
    "def get_scores(model, X, Y):\n",
    "    pass"
   ]
  },
  {
   "cell_type": "markdown",
   "id": "t6W7EcJJ61kU",
   "metadata": {
    "id": "t6W7EcJJ61kU"
   },
   "source": [
    "### 5-2.모델링 함수"
   ]
  },
  {
   "cell_type": "code",
   "execution_count": null,
   "id": "MJRvdLx613F1",
   "metadata": {
    "id": "MJRvdLx613F1"
   },
   "outputs": [],
   "source": [
    "# [2] make_models 함수를 작성\n",
    "def make_models(xtrain, xtest, ytrain, ytest):\n",
    "    pass\n"
   ]
  },
  {
   "cell_type": "markdown",
   "id": "5edAGbvV1EOP",
   "metadata": {
    "id": "5edAGbvV1EOP"
   },
   "source": [
    "### 5-3. 보스톤 데이터 - Ridge"
   ]
  },
  {
   "cell_type": "code",
   "execution_count": null,
   "id": "or0K3BCVZOGo",
   "metadata": {
    "id": "or0K3BCVZOGo"
   },
   "outputs": [],
   "source": [
    "# 라이브러리 import\n",
    "import pandas as pd\n",
    "from sklearn.preprocessing import PolynomialFeatures\n",
    "from sklearn.linear_model import Ridge\n",
    "\n",
    "# 데이터 가져오기\n",
    "df = pd.read_csv('data_05/boston.csv')\n",
    "\n",
    "# 데이터 분할, 전처리\n",
    "X = df.loc[:, 'CRIM':'LSTAT']\n",
    "y = df.loc[:, 'PRICE']\n",
    "X_scaled = MinMaxScaler().fit_transform(X)\n",
    "P3 = PolynomialFeatures(degree=3, include_bias=False)\n",
    "X_poly = P3.fit_transform(X_scaled)\n",
    "print(X_poly.shape, y.shape)\n",
    "\n",
    "# 7:3 분리, random_state=321  (주의: stratify사용 안함 -> 분류 모델에서만 사용)\n",
    "\n",
    "\n",
    "# make_models 함수 호출\n"
   ]
  },
  {
   "cell_type": "code",
   "execution_count": null,
   "id": "X5HQWWfHV_OU",
   "metadata": {
    "id": "X5HQWWfHV_OU"
   },
   "outputs": [],
   "source": []
  }
 ],
 "metadata": {
  "colab": {
   "collapsed_sections": [],
   "provenance": [],
   "toc_visible": true
  },
  "kernelspec": {
   "display_name": "Python 3.10.8 64-bit",
   "language": "python",
   "name": "python3"
  },
  "language_info": {
   "codemirror_mode": {
    "name": "ipython",
    "version": 3
   },
   "file_extension": ".py",
   "mimetype": "text/x-python",
   "name": "python",
   "nbconvert_exporter": "python",
   "pygments_lexer": "ipython3",
   "version": "3.10.8"
  },
  "vscode": {
   "interpreter": {
    "hash": "a42ccb73e7d9bfdf27e036f1d2b8b681e55fc0743cc5586bc2474d4a60f4b886"
   }
  }
 },
 "nbformat": 4,
 "nbformat_minor": 5
}
