{
 "cells": [
  {
   "cell_type": "code",
   "execution_count": 1,
   "metadata": {},
   "outputs": [
    {
     "data": {
      "text/plain": [
       "'97531'"
      ]
     },
     "execution_count": 1,
     "metadata": {},
     "output_type": "execute_result"
    }
   ],
   "source": [
    "test = '13579'\n",
    "test[::-1]\n"
   ]
  },
  {
   "cell_type": "code",
   "execution_count": 8,
   "metadata": {},
   "outputs": [
    {
     "data": {
      "text/plain": [
       "[1, 3, 5, 7, 10]"
      ]
     },
     "execution_count": 8,
     "metadata": {},
     "output_type": "execute_result"
    }
   ],
   "source": [
    "a = [1, 3, 5, 7]\n",
    "a.insert(len(a), 10)\n",
    "a\n"
   ]
  },
  {
   "cell_type": "code",
   "execution_count": 1,
   "metadata": {},
   "outputs": [
    {
     "data": {
      "text/plain": [
       "9.0"
      ]
     },
     "execution_count": 1,
     "metadata": {},
     "output_type": "execute_result"
    }
   ],
   "source": [
    "grade = {'S': 10.0, 'A+': 9.5, 'A': 9.0,\n",
    "         'B+': 8.5, 'B': 8.0, 'C': 7.5, 'D': 6.5}\n",
    "\n",
    "grade['A']\n"
   ]
  },
  {
   "cell_type": "code",
   "execution_count": 1,
   "metadata": {},
   "outputs": [
    {
     "name": "stdout",
     "output_type": "stream",
     "text": [
      "1\n"
     ]
    },
    {
     "ename": "TypeError",
     "evalue": "sum() takes at least 1 positional argument (0 given)",
     "output_type": "error",
     "traceback": [
      "\u001b[1;31m---------------------------------------------------------------------------\u001b[0m",
      "\u001b[1;31mTypeError\u001b[0m                                 Traceback (most recent call last)",
      "Cell \u001b[1;32mIn [1], line 3\u001b[0m\n\u001b[0;32m      1\u001b[0m A \u001b[39m=\u001b[39m \u001b[39m1\u001b[39m\n\u001b[0;32m      2\u001b[0m \u001b[39mprint\u001b[39m(A)\n\u001b[1;32m----> 3\u001b[0m \u001b[39msum\u001b[39;49m()\n",
      "\u001b[1;31mTypeError\u001b[0m: sum() takes at least 1 positional argument (0 given)"
     ]
    }
   ],
   "source": [
    "A = 1\n",
    "print(A)\n",
    "sum()\n"
   ]
  },
  {
   "cell_type": "code",
   "execution_count": 1,
   "metadata": {},
   "outputs": [
    {
     "name": "stdout",
     "output_type": "stream",
     "text": [
      "1\n"
     ]
    }
   ],
   "source": [
    "tot =0\n",
    "for i in range(1,10,2):\n",
    "    if i%3==0:\n",
    "        break\n",
    "    tot=tot+i\n",
    "print(tot)"
   ]
  },
  {
   "cell_type": "code",
   "execution_count": 15,
   "metadata": {},
   "outputs": [
    {
     "data": {
      "text/plain": [
       "0"
      ]
     },
     "execution_count": 15,
     "metadata": {},
     "output_type": "execute_result"
    }
   ],
   "source": [
    "'B' and 0"
   ]
  },
  {
   "cell_type": "code",
   "execution_count": 6,
   "metadata": {},
   "outputs": [
    {
     "data": {
      "text/plain": [
       "'A'"
      ]
     },
     "execution_count": 6,
     "metadata": {},
     "output_type": "execute_result"
    }
   ],
   "source": [
    "'A' or 'B'"
   ]
  },
  {
   "cell_type": "code",
   "execution_count": null,
   "metadata": {},
   "outputs": [],
   "source": [
    "int(h))"
   ]
  },
  {
   "cell_type": "code",
   "execution_count": 11,
   "metadata": {},
   "outputs": [
    {
     "data": {
      "text/plain": [
       "array([[1, 2, 3]])"
      ]
     },
     "execution_count": 11,
     "metadata": {},
     "output_type": "execute_result"
    }
   ],
   "source": [
    "import numpy as np\n",
    "from numpy import arange\n",
    "\n",
    "b=arange(1,7).reshape(2,-1)\n",
    "b[:1]"
   ]
  },
  {
   "cell_type": "code",
   "execution_count": 14,
   "metadata": {},
   "outputs": [],
   "source": [
    "x = np.array([0,1,2,3,4,5,6,7,8])"
   ]
  },
  {
   "cell_type": "code",
   "execution_count": 13,
   "metadata": {},
   "outputs": [
    {
     "data": {
      "text/plain": [
       "array([3, 7, 1])"
      ]
     },
     "execution_count": 13,
     "metadata": {},
     "output_type": "execute_result"
    }
   ],
   "source": [
    "fidx = [3, 7, 1]\n",
    "x[fidx]"
   ]
  },
  {
   "cell_type": "code",
   "execution_count": 15,
   "metadata": {},
   "outputs": [
    {
     "data": {
      "text/plain": [
       "array([[3, 7],\n",
       "       [4, 2]])"
      ]
     },
     "execution_count": 15,
     "metadata": {},
     "output_type": "execute_result"
    }
   ],
   "source": [
    "fidx =[[3, 7],\n",
    "       [4, 2]]\n",
    "fidx = np.array(fidx)\n",
    "x[fidx]"
   ]
  },
  {
   "cell_type": "code",
   "execution_count": 16,
   "metadata": {},
   "outputs": [],
   "source": [
    "array1d = np.arange(start=1,stop=10)\n",
    "array2d = array1d.reshape(3,3)"
   ]
  },
  {
   "cell_type": "code",
   "execution_count": 23,
   "metadata": {},
   "outputs": [
    {
     "name": "stdout",
     "output_type": "stream",
     "text": [
      "[[1 2 3]\n",
      " [4 5 6]]\n",
      "[[1 2 3]\n",
      " [4 5 6]]\n"
     ]
    }
   ],
   "source": [
    "array=array2d[0,1]\n",
    "print(array)\n",
    "array3 = array2d[[0,1]]\n",
    "print(array3)"
   ]
  },
  {
   "cell_type": "code",
   "execution_count": 32,
   "metadata": {},
   "outputs": [
    {
     "data": {
      "text/plain": [
       "array([[4, 5, 6, 4],\n",
       "       [1, 2, 3, 1],\n",
       "       [4, 5, 6, 4],\n",
       "       [1, 2, 3, 1]])"
      ]
     },
     "execution_count": 32,
     "metadata": {},
     "output_type": "execute_result"
    }
   ],
   "source": [
    "import numpy\n",
    "b=numpy.arange(1,7).reshape(2,-1)\n",
    "b[[1, 0, 1, 0]][:,[0,1,2,0]]"
   ]
  },
  {
   "cell_type": "code",
   "execution_count": 41,
   "metadata": {},
   "outputs": [
    {
     "name": "stdout",
     "output_type": "stream",
     "text": [
      "[[1 2 3]\n",
      " [4 5 6]\n",
      " [7 8 9]]\n"
     ]
    },
    {
     "data": {
      "text/plain": [
       "array([[4, 5, 6],\n",
       "       [7, 8, 9]])"
      ]
     },
     "execution_count": 41,
     "metadata": {},
     "output_type": "execute_result"
    }
   ],
   "source": [
    "import numpy\n",
    "b=numpy.arange(1,10).reshape(3,-1)\n",
    "print(b)\n",
    "b[1:,:]\n"
   ]
  },
  {
   "cell_type": "code",
   "execution_count": 70,
   "metadata": {},
   "outputs": [
    {
     "name": "stdout",
     "output_type": "stream",
     "text": [
      "[ 2  6 10] 1\n",
      "----------------------------\n",
      "[[ 2  3  4]\n",
      " [ 6  7  8]\n",
      " [10 11 12]]\n",
      "----------------------------\n",
      "[[ 2]\n",
      " [ 6]\n",
      " [10]]\n"
     ]
    }
   ],
   "source": [
    "import numpy as np\n",
    "a= np.array([[1,2,3,4],[5,6,7,8],[9,10,11,12]])\n",
    "\n",
    "# 원하는 결과 출력:\n",
    "# # array([[ 2],\n",
    "#         [ 6],\n",
    "#         [10]]) \n",
    "\n",
    "b=a[:,1]  #이렇게 하면 slicing element이므로 차원이 낮아져서 1차원이 반환됨\n",
    "print(b, b.ndim)\n",
    "print('----------------------------')\n",
    "\n",
    "b=a[:,1:] #이렇게 하면 slicing이니까 차원이 유지되지만 원하는 결과 출력 안됨\n",
    "print(b)\n",
    "print('----------------------------')\n",
    "\n",
    "b=a[:,1:2]\n",
    "print(b)\n"
   ]
  },
  {
   "cell_type": "code",
   "execution_count": 63,
   "metadata": {},
   "outputs": [
    {
     "name": "stdout",
     "output_type": "stream",
     "text": [
      "[4, 16, 36, 64]\n"
     ]
    }
   ],
   "source": [
    "myData=[2,4,6,8]\n",
    "result = list(map(lambda x: x**2,myData))\n",
    "print(result)"
   ]
  },
  {
   "cell_type": "markdown",
   "metadata": {},
   "source": [
    "### 자습 시간"
   ]
  },
  {
   "cell_type": "code",
   "execution_count": 54,
   "metadata": {},
   "outputs": [],
   "source": [
    "import numpy as np\n",
    "import pandas as pd"
   ]
  },
  {
   "cell_type": "code",
   "execution_count": 25,
   "metadata": {},
   "outputs": [
    {
     "data": {
      "text/plain": [
       "array([10,  5, 16,  1, 18, 28, 29, 26, 17, 18, 27,  9, 10,  1, 11,  9])"
      ]
     },
     "execution_count": 25,
     "metadata": {},
     "output_type": "execute_result"
    }
   ],
   "source": [
    "np.random.seed(10)\n",
    "arr3=np.random.randint(1,30,16)\n",
    "arr3"
   ]
  },
  {
   "cell_type": "code",
   "execution_count": 26,
   "metadata": {},
   "outputs": [
    {
     "data": {
      "text/plain": [
       "array([[10,  5, 16,  1],\n",
       "       [18, 28, 29, 26],\n",
       "       [17, 18, 27,  9],\n",
       "       [10,  1, 11,  9]])"
      ]
     },
     "execution_count": 26,
     "metadata": {},
     "output_type": "execute_result"
    }
   ],
   "source": [
    "arr3_2= arr3.reshape(-1,4)\n",
    "arr3_2"
   ]
  },
  {
   "cell_type": "code",
   "execution_count": 28,
   "metadata": {},
   "outputs": [
    {
     "data": {
      "text/plain": [
       "array([16, 18, 28, 29, 26, 17, 18, 27, 11])"
      ]
     },
     "execution_count": 28,
     "metadata": {},
     "output_type": "execute_result"
    }
   ],
   "source": [
    "#bool_res=arr3_2>10\n",
    "arr3_2[arr3_2>10]\n",
    "#arr3_2"
   ]
  },
  {
   "cell_type": "code",
   "execution_count": 18,
   "metadata": {},
   "outputs": [
    {
     "data": {
      "text/plain": [
       "array([[10,  5,  0,  1],\n",
       "       [ 0,  0,  0,  0],\n",
       "       [ 0,  0,  0,  9],\n",
       "       [10,  1,  0,  9]])"
      ]
     },
     "execution_count": 18,
     "metadata": {},
     "output_type": "execute_result"
    }
   ],
   "source": [
    "#arr3_2[arr3_2>10]=0\n",
    "#arr3_2"
   ]
  },
  {
   "cell_type": "code",
   "execution_count": 30,
   "metadata": {},
   "outputs": [
    {
     "data": {
      "text/plain": [
       "['a', 'b', 'c', 'd', 'e', 'f']"
      ]
     },
     "execution_count": 30,
     "metadata": {},
     "output_type": "execute_result"
    }
   ],
   "source": [
    "list('abcdef')"
   ]
  },
  {
   "cell_type": "code",
   "execution_count": 48,
   "metadata": {},
   "outputs": [
    {
     "data": {
      "text/plain": [
       "array([[ 1.,  2.],\n",
       "       [ 3.,  4.],\n",
       "       [ 5.,  6.],\n",
       "       [ 7.,  8.],\n",
       "       [ 9., 10.],\n",
       "       [11., 12.],\n",
       "       [13., 14.]])"
      ]
     },
     "execution_count": 48,
     "metadata": {},
     "output_type": "execute_result"
    }
   ],
   "source": [
    "arr1=np.arange(1,15,1).reshape(7,-1)\n",
    "arr1\n",
    "arr1.astype(float)"
   ]
  },
  {
   "cell_type": "code",
   "execution_count": 61,
   "metadata": {},
   "outputs": [
    {
     "data": {
      "text/plain": [
       "dtype('float64')"
      ]
     },
     "execution_count": 61,
     "metadata": {},
     "output_type": "execute_result"
    }
   ],
   "source": [
    "x=np.array([[1,2],[3,4]])\n",
    "x=x.astype(float)\n",
    "x.dtype"
   ]
  },
  {
   "cell_type": "code",
   "execution_count": 63,
   "metadata": {},
   "outputs": [
    {
     "data": {
      "text/plain": [
       "array([[10,  5, 16,  1],\n",
       "       [18, 28, 29, 26],\n",
       "       [17, 18, 27,  9],\n",
       "       [10,  1, 11,  9]])"
      ]
     },
     "execution_count": 63,
     "metadata": {},
     "output_type": "execute_result"
    }
   ],
   "source": [
    "np.random.seed(10)\n",
    "arr3=np.random.randint(1,30,16).reshape(-1,4)\n",
    "arr3"
   ]
  },
  {
   "cell_type": "code",
   "execution_count": 5,
   "metadata": {},
   "outputs": [
    {
     "data": {
      "text/plain": [
       "array([[0, 1, 2],\n",
       "       [3, 4, 5],\n",
       "       [6, 7, 8]])"
      ]
     },
     "execution_count": 5,
     "metadata": {},
     "output_type": "execute_result"
    }
   ],
   "source": [
    "arr=np.arange(9).reshape(3,3)\n",
    "arr"
   ]
  },
  {
   "cell_type": "code",
   "execution_count": null,
   "metadata": {},
   "outputs": [],
   "source": []
  },
  {
   "cell_type": "code",
   "execution_count": 72,
   "metadata": {},
   "outputs": [
    {
     "data": {
      "text/plain": [
       "array([7, 8])"
      ]
     },
     "execution_count": 72,
     "metadata": {},
     "output_type": "execute_result"
    }
   ],
   "source": [
    "arr[2,1:3]"
   ]
  },
  {
   "cell_type": "code",
   "execution_count": 74,
   "metadata": {},
   "outputs": [
    {
     "data": {
      "text/plain": [
       "array([[0, 1, 2],\n",
       "       [3, 4, 5],\n",
       "       [6, 7, 8]])"
      ]
     },
     "execution_count": 74,
     "metadata": {},
     "output_type": "execute_result"
    }
   ],
   "source": [
    "arr.reshape(1,9)\n",
    "arr"
   ]
  },
  {
   "cell_type": "code",
   "execution_count": 1,
   "metadata": {},
   "outputs": [
    {
     "data": {
      "text/html": [
       "<div>\n",
       "<style scoped>\n",
       "    .dataframe tbody tr th:only-of-type {\n",
       "        vertical-align: middle;\n",
       "    }\n",
       "\n",
       "    .dataframe tbody tr th {\n",
       "        vertical-align: top;\n",
       "    }\n",
       "\n",
       "    .dataframe thead th {\n",
       "        text-align: right;\n",
       "    }\n",
       "</style>\n",
       "<table border=\"1\" class=\"dataframe\">\n",
       "  <thead>\n",
       "    <tr style=\"text-align: right;\">\n",
       "      <th></th>\n",
       "      <th>X1</th>\n",
       "      <th>X2</th>\n",
       "      <th>X3</th>\n",
       "    </tr>\n",
       "  </thead>\n",
       "  <tbody>\n",
       "    <tr>\n",
       "      <th>A</th>\n",
       "      <td>1</td>\n",
       "      <td>2</td>\n",
       "      <td>3</td>\n",
       "    </tr>\n",
       "    <tr>\n",
       "      <th>B</th>\n",
       "      <td>4</td>\n",
       "      <td>5</td>\n",
       "      <td>6</td>\n",
       "    </tr>\n",
       "    <tr>\n",
       "      <th>C</th>\n",
       "      <td>7</td>\n",
       "      <td>8</td>\n",
       "      <td>9</td>\n",
       "    </tr>\n",
       "  </tbody>\n",
       "</table>\n",
       "</div>"
      ],
      "text/plain": [
       "   X1  X2  X3\n",
       "A   1   2   3\n",
       "B   4   5   6\n",
       "C   7   8   9"
      ]
     },
     "execution_count": 1,
     "metadata": {},
     "output_type": "execute_result"
    }
   ],
   "source": [
    "import numpy as np\n",
    "import pandas as pd\n",
    "\n",
    "a = np.arange(1,10,1).reshape(3,3)\n",
    "df = pd.DataFrame(a, columns=['X1','X2','X3'], index=['A','B','C'])\n",
    "df"
   ]
  },
  {
   "cell_type": "code",
   "execution_count": 3,
   "metadata": {},
   "outputs": [],
   "source": [
    "df=pd.read_csv('./HW/data.csv')"
   ]
  },
  {
   "cell_type": "code",
   "execution_count": 5,
   "metadata": {},
   "outputs": [
    {
     "data": {
      "text/html": [
       "<div>\n",
       "<style scoped>\n",
       "    .dataframe tbody tr th:only-of-type {\n",
       "        vertical-align: middle;\n",
       "    }\n",
       "\n",
       "    .dataframe tbody tr th {\n",
       "        vertical-align: top;\n",
       "    }\n",
       "\n",
       "    .dataframe thead th {\n",
       "        text-align: right;\n",
       "    }\n",
       "</style>\n",
       "<table border=\"1\" class=\"dataframe\">\n",
       "  <thead>\n",
       "    <tr style=\"text-align: right;\">\n",
       "      <th></th>\n",
       "      <th>0</th>\n",
       "      <th>1</th>\n",
       "      <th>2</th>\n",
       "      <th>3</th>\n",
       "      <th>4</th>\n",
       "      <th>5</th>\n",
       "      <th>6</th>\n",
       "      <th>7</th>\n",
       "      <th>8</th>\n",
       "      <th>9</th>\n",
       "      <th>...</th>\n",
       "      <th>581</th>\n",
       "      <th>582</th>\n",
       "      <th>583</th>\n",
       "      <th>584</th>\n",
       "      <th>585</th>\n",
       "      <th>586</th>\n",
       "      <th>587</th>\n",
       "      <th>588</th>\n",
       "      <th>589</th>\n",
       "      <th>Pass/Fail</th>\n",
       "    </tr>\n",
       "  </thead>\n",
       "  <tbody>\n",
       "    <tr>\n",
       "      <th>0</th>\n",
       "      <td>3030.93</td>\n",
       "      <td>2564.00</td>\n",
       "      <td>2187.7333</td>\n",
       "      <td>1411.1265</td>\n",
       "      <td>1.3602</td>\n",
       "      <td>100.0</td>\n",
       "      <td>97.6133</td>\n",
       "      <td>0.1242</td>\n",
       "      <td>1.5005</td>\n",
       "      <td>0.0162</td>\n",
       "      <td>...</td>\n",
       "      <td>0.0000</td>\n",
       "      <td>0.5005</td>\n",
       "      <td>0.0118</td>\n",
       "      <td>0.0035</td>\n",
       "      <td>2.3630</td>\n",
       "      <td>0.0000</td>\n",
       "      <td>0.0000</td>\n",
       "      <td>0.0000</td>\n",
       "      <td>0.0000</td>\n",
       "      <td>0</td>\n",
       "    </tr>\n",
       "    <tr>\n",
       "      <th>1</th>\n",
       "      <td>3095.78</td>\n",
       "      <td>2465.14</td>\n",
       "      <td>2230.4222</td>\n",
       "      <td>1463.6606</td>\n",
       "      <td>0.8294</td>\n",
       "      <td>100.0</td>\n",
       "      <td>102.3433</td>\n",
       "      <td>0.1247</td>\n",
       "      <td>1.4966</td>\n",
       "      <td>-0.0005</td>\n",
       "      <td>...</td>\n",
       "      <td>208.2045</td>\n",
       "      <td>0.5019</td>\n",
       "      <td>0.0223</td>\n",
       "      <td>0.0055</td>\n",
       "      <td>4.4447</td>\n",
       "      <td>0.0096</td>\n",
       "      <td>0.0201</td>\n",
       "      <td>0.0060</td>\n",
       "      <td>208.2045</td>\n",
       "      <td>0</td>\n",
       "    </tr>\n",
       "    <tr>\n",
       "      <th>2</th>\n",
       "      <td>2932.61</td>\n",
       "      <td>2559.94</td>\n",
       "      <td>2186.4111</td>\n",
       "      <td>1698.0172</td>\n",
       "      <td>1.5102</td>\n",
       "      <td>100.0</td>\n",
       "      <td>95.4878</td>\n",
       "      <td>0.1241</td>\n",
       "      <td>1.4436</td>\n",
       "      <td>0.0041</td>\n",
       "      <td>...</td>\n",
       "      <td>82.8602</td>\n",
       "      <td>0.4958</td>\n",
       "      <td>0.0157</td>\n",
       "      <td>0.0039</td>\n",
       "      <td>3.1745</td>\n",
       "      <td>0.0584</td>\n",
       "      <td>0.0484</td>\n",
       "      <td>0.0148</td>\n",
       "      <td>82.8602</td>\n",
       "      <td>1</td>\n",
       "    </tr>\n",
       "    <tr>\n",
       "      <th>3</th>\n",
       "      <td>2988.72</td>\n",
       "      <td>2479.90</td>\n",
       "      <td>2199.0333</td>\n",
       "      <td>909.7926</td>\n",
       "      <td>1.3204</td>\n",
       "      <td>100.0</td>\n",
       "      <td>104.2367</td>\n",
       "      <td>0.1217</td>\n",
       "      <td>1.4882</td>\n",
       "      <td>-0.0124</td>\n",
       "      <td>...</td>\n",
       "      <td>73.8432</td>\n",
       "      <td>0.4990</td>\n",
       "      <td>0.0103</td>\n",
       "      <td>0.0025</td>\n",
       "      <td>2.0544</td>\n",
       "      <td>0.0202</td>\n",
       "      <td>0.0149</td>\n",
       "      <td>0.0044</td>\n",
       "      <td>73.8432</td>\n",
       "      <td>0</td>\n",
       "    </tr>\n",
       "    <tr>\n",
       "      <th>4</th>\n",
       "      <td>3032.24</td>\n",
       "      <td>2502.87</td>\n",
       "      <td>2233.3667</td>\n",
       "      <td>1326.5200</td>\n",
       "      <td>1.5334</td>\n",
       "      <td>100.0</td>\n",
       "      <td>100.3967</td>\n",
       "      <td>0.1235</td>\n",
       "      <td>1.5031</td>\n",
       "      <td>-0.0031</td>\n",
       "      <td>...</td>\n",
       "      <td>0.0000</td>\n",
       "      <td>0.4800</td>\n",
       "      <td>0.4766</td>\n",
       "      <td>0.1045</td>\n",
       "      <td>99.3032</td>\n",
       "      <td>0.0202</td>\n",
       "      <td>0.0149</td>\n",
       "      <td>0.0044</td>\n",
       "      <td>73.8432</td>\n",
       "      <td>0</td>\n",
       "    </tr>\n",
       "    <tr>\n",
       "      <th>...</th>\n",
       "      <td>...</td>\n",
       "      <td>...</td>\n",
       "      <td>...</td>\n",
       "      <td>...</td>\n",
       "      <td>...</td>\n",
       "      <td>...</td>\n",
       "      <td>...</td>\n",
       "      <td>...</td>\n",
       "      <td>...</td>\n",
       "      <td>...</td>\n",
       "      <td>...</td>\n",
       "      <td>...</td>\n",
       "      <td>...</td>\n",
       "      <td>...</td>\n",
       "      <td>...</td>\n",
       "      <td>...</td>\n",
       "      <td>...</td>\n",
       "      <td>...</td>\n",
       "      <td>...</td>\n",
       "      <td>...</td>\n",
       "      <td>...</td>\n",
       "    </tr>\n",
       "    <tr>\n",
       "      <th>1562</th>\n",
       "      <td>2899.41</td>\n",
       "      <td>2464.36</td>\n",
       "      <td>2179.7333</td>\n",
       "      <td>3085.3781</td>\n",
       "      <td>1.4843</td>\n",
       "      <td>100.0</td>\n",
       "      <td>82.2467</td>\n",
       "      <td>0.1248</td>\n",
       "      <td>1.3424</td>\n",
       "      <td>-0.0045</td>\n",
       "      <td>...</td>\n",
       "      <td>203.1720</td>\n",
       "      <td>0.4988</td>\n",
       "      <td>0.0143</td>\n",
       "      <td>0.0039</td>\n",
       "      <td>2.8669</td>\n",
       "      <td>0.0068</td>\n",
       "      <td>0.0138</td>\n",
       "      <td>0.0047</td>\n",
       "      <td>203.1720</td>\n",
       "      <td>0</td>\n",
       "    </tr>\n",
       "    <tr>\n",
       "      <th>1563</th>\n",
       "      <td>3052.31</td>\n",
       "      <td>2522.55</td>\n",
       "      <td>2198.5667</td>\n",
       "      <td>1124.6595</td>\n",
       "      <td>0.8763</td>\n",
       "      <td>100.0</td>\n",
       "      <td>98.4689</td>\n",
       "      <td>0.1205</td>\n",
       "      <td>1.4333</td>\n",
       "      <td>-0.0061</td>\n",
       "      <td>...</td>\n",
       "      <td>0.0000</td>\n",
       "      <td>0.4975</td>\n",
       "      <td>0.0131</td>\n",
       "      <td>0.0036</td>\n",
       "      <td>2.6238</td>\n",
       "      <td>0.0068</td>\n",
       "      <td>0.0138</td>\n",
       "      <td>0.0047</td>\n",
       "      <td>203.1720</td>\n",
       "      <td>0</td>\n",
       "    </tr>\n",
       "    <tr>\n",
       "      <th>1564</th>\n",
       "      <td>2978.81</td>\n",
       "      <td>2379.78</td>\n",
       "      <td>2206.3000</td>\n",
       "      <td>1110.4967</td>\n",
       "      <td>0.8236</td>\n",
       "      <td>100.0</td>\n",
       "      <td>99.4122</td>\n",
       "      <td>0.1208</td>\n",
       "      <td>0.0000</td>\n",
       "      <td>0.0000</td>\n",
       "      <td>...</td>\n",
       "      <td>43.5231</td>\n",
       "      <td>0.4987</td>\n",
       "      <td>0.0153</td>\n",
       "      <td>0.0041</td>\n",
       "      <td>3.0590</td>\n",
       "      <td>0.0197</td>\n",
       "      <td>0.0086</td>\n",
       "      <td>0.0025</td>\n",
       "      <td>43.5231</td>\n",
       "      <td>0</td>\n",
       "    </tr>\n",
       "    <tr>\n",
       "      <th>1565</th>\n",
       "      <td>2894.92</td>\n",
       "      <td>2532.01</td>\n",
       "      <td>2177.0333</td>\n",
       "      <td>1183.7287</td>\n",
       "      <td>1.5726</td>\n",
       "      <td>100.0</td>\n",
       "      <td>98.7978</td>\n",
       "      <td>0.1213</td>\n",
       "      <td>1.4622</td>\n",
       "      <td>-0.0072</td>\n",
       "      <td>...</td>\n",
       "      <td>93.4941</td>\n",
       "      <td>0.5004</td>\n",
       "      <td>0.0178</td>\n",
       "      <td>0.0038</td>\n",
       "      <td>3.5662</td>\n",
       "      <td>0.0262</td>\n",
       "      <td>0.0245</td>\n",
       "      <td>0.0075</td>\n",
       "      <td>93.4941</td>\n",
       "      <td>0</td>\n",
       "    </tr>\n",
       "    <tr>\n",
       "      <th>1566</th>\n",
       "      <td>2944.92</td>\n",
       "      <td>2450.76</td>\n",
       "      <td>2195.4444</td>\n",
       "      <td>2914.1792</td>\n",
       "      <td>1.5978</td>\n",
       "      <td>100.0</td>\n",
       "      <td>85.1011</td>\n",
       "      <td>0.1235</td>\n",
       "      <td>0.0000</td>\n",
       "      <td>0.0000</td>\n",
       "      <td>...</td>\n",
       "      <td>137.7844</td>\n",
       "      <td>0.4987</td>\n",
       "      <td>0.0181</td>\n",
       "      <td>0.0040</td>\n",
       "      <td>3.6275</td>\n",
       "      <td>0.0117</td>\n",
       "      <td>0.0162</td>\n",
       "      <td>0.0045</td>\n",
       "      <td>137.7844</td>\n",
       "      <td>0</td>\n",
       "    </tr>\n",
       "  </tbody>\n",
       "</table>\n",
       "<p>1567 rows × 479 columns</p>\n",
       "</div>"
      ],
      "text/plain": [
       "            0        1          2          3       4      5         6       7  \\\n",
       "0     3030.93  2564.00  2187.7333  1411.1265  1.3602  100.0   97.6133  0.1242   \n",
       "1     3095.78  2465.14  2230.4222  1463.6606  0.8294  100.0  102.3433  0.1247   \n",
       "2     2932.61  2559.94  2186.4111  1698.0172  1.5102  100.0   95.4878  0.1241   \n",
       "3     2988.72  2479.90  2199.0333   909.7926  1.3204  100.0  104.2367  0.1217   \n",
       "4     3032.24  2502.87  2233.3667  1326.5200  1.5334  100.0  100.3967  0.1235   \n",
       "...       ...      ...        ...        ...     ...    ...       ...     ...   \n",
       "1562  2899.41  2464.36  2179.7333  3085.3781  1.4843  100.0   82.2467  0.1248   \n",
       "1563  3052.31  2522.55  2198.5667  1124.6595  0.8763  100.0   98.4689  0.1205   \n",
       "1564  2978.81  2379.78  2206.3000  1110.4967  0.8236  100.0   99.4122  0.1208   \n",
       "1565  2894.92  2532.01  2177.0333  1183.7287  1.5726  100.0   98.7978  0.1213   \n",
       "1566  2944.92  2450.76  2195.4444  2914.1792  1.5978  100.0   85.1011  0.1235   \n",
       "\n",
       "           8       9  ...       581     582     583     584      585     586  \\\n",
       "0     1.5005  0.0162  ...    0.0000  0.5005  0.0118  0.0035   2.3630  0.0000   \n",
       "1     1.4966 -0.0005  ...  208.2045  0.5019  0.0223  0.0055   4.4447  0.0096   \n",
       "2     1.4436  0.0041  ...   82.8602  0.4958  0.0157  0.0039   3.1745  0.0584   \n",
       "3     1.4882 -0.0124  ...   73.8432  0.4990  0.0103  0.0025   2.0544  0.0202   \n",
       "4     1.5031 -0.0031  ...    0.0000  0.4800  0.4766  0.1045  99.3032  0.0202   \n",
       "...      ...     ...  ...       ...     ...     ...     ...      ...     ...   \n",
       "1562  1.3424 -0.0045  ...  203.1720  0.4988  0.0143  0.0039   2.8669  0.0068   \n",
       "1563  1.4333 -0.0061  ...    0.0000  0.4975  0.0131  0.0036   2.6238  0.0068   \n",
       "1564  0.0000  0.0000  ...   43.5231  0.4987  0.0153  0.0041   3.0590  0.0197   \n",
       "1565  1.4622 -0.0072  ...   93.4941  0.5004  0.0178  0.0038   3.5662  0.0262   \n",
       "1566  0.0000  0.0000  ...  137.7844  0.4987  0.0181  0.0040   3.6275  0.0117   \n",
       "\n",
       "         587     588       589  Pass/Fail  \n",
       "0     0.0000  0.0000    0.0000          0  \n",
       "1     0.0201  0.0060  208.2045          0  \n",
       "2     0.0484  0.0148   82.8602          1  \n",
       "3     0.0149  0.0044   73.8432          0  \n",
       "4     0.0149  0.0044   73.8432          0  \n",
       "...      ...     ...       ...        ...  \n",
       "1562  0.0138  0.0047  203.1720          0  \n",
       "1563  0.0138  0.0047  203.1720          0  \n",
       "1564  0.0086  0.0025   43.5231          0  \n",
       "1565  0.0245  0.0075   93.4941          0  \n",
       "1566  0.0162  0.0045  137.7844          0  \n",
       "\n",
       "[1567 rows x 479 columns]"
      ]
     },
     "execution_count": 5,
     "metadata": {},
     "output_type": "execute_result"
    }
   ],
   "source": [
    "df"
   ]
  },
  {
   "cell_type": "code",
   "execution_count": 4,
   "metadata": {},
   "outputs": [
    {
     "data": {
      "text/html": [
       "<div>\n",
       "<style scoped>\n",
       "    .dataframe tbody tr th:only-of-type {\n",
       "        vertical-align: middle;\n",
       "    }\n",
       "\n",
       "    .dataframe tbody tr th {\n",
       "        vertical-align: top;\n",
       "    }\n",
       "\n",
       "    .dataframe thead th {\n",
       "        text-align: right;\n",
       "    }\n",
       "</style>\n",
       "<table border=\"1\" class=\"dataframe\">\n",
       "  <thead>\n",
       "    <tr style=\"text-align: right;\">\n",
       "      <th></th>\n",
       "      <th>0</th>\n",
       "      <th>1</th>\n",
       "      <th>2</th>\n",
       "      <th>3</th>\n",
       "      <th>4</th>\n",
       "      <th>5</th>\n",
       "      <th>6</th>\n",
       "      <th>7</th>\n",
       "      <th>8</th>\n",
       "      <th>9</th>\n",
       "      <th>...</th>\n",
       "      <th>581</th>\n",
       "      <th>582</th>\n",
       "      <th>583</th>\n",
       "      <th>584</th>\n",
       "      <th>585</th>\n",
       "      <th>586</th>\n",
       "      <th>587</th>\n",
       "      <th>588</th>\n",
       "      <th>589</th>\n",
       "      <th>Pass/Fail</th>\n",
       "    </tr>\n",
       "  </thead>\n",
       "  <tbody>\n",
       "    <tr>\n",
       "      <th>0</th>\n",
       "      <td>1.000000</td>\n",
       "      <td>-0.047782</td>\n",
       "      <td>0.007590</td>\n",
       "      <td>0.009448</td>\n",
       "      <td>-0.000915</td>\n",
       "      <td>0.008706</td>\n",
       "      <td>0.006129</td>\n",
       "      <td>0.010738</td>\n",
       "      <td>-0.050979</td>\n",
       "      <td>0.009959</td>\n",
       "      <td>...</td>\n",
       "      <td>-0.033622</td>\n",
       "      <td>0.010503</td>\n",
       "      <td>0.019840</td>\n",
       "      <td>0.017889</td>\n",
       "      <td>0.019522</td>\n",
       "      <td>0.044745</td>\n",
       "      <td>0.005233</td>\n",
       "      <td>0.003918</td>\n",
       "      <td>0.021489</td>\n",
       "      <td>0.006149</td>\n",
       "    </tr>\n",
       "    <tr>\n",
       "      <th>1</th>\n",
       "      <td>-0.047782</td>\n",
       "      <td>1.000000</td>\n",
       "      <td>-0.030448</td>\n",
       "      <td>0.006021</td>\n",
       "      <td>0.002192</td>\n",
       "      <td>-0.030127</td>\n",
       "      <td>-0.031616</td>\n",
       "      <td>-0.025086</td>\n",
       "      <td>0.027609</td>\n",
       "      <td>0.003704</td>\n",
       "      <td>...</td>\n",
       "      <td>0.043107</td>\n",
       "      <td>-0.017392</td>\n",
       "      <td>0.003809</td>\n",
       "      <td>0.004409</td>\n",
       "      <td>0.003821</td>\n",
       "      <td>-0.009219</td>\n",
       "      <td>0.039479</td>\n",
       "      <td>0.040500</td>\n",
       "      <td>0.044464</td>\n",
       "      <td>-0.019672</td>\n",
       "    </tr>\n",
       "    <tr>\n",
       "      <th>2</th>\n",
       "      <td>0.007590</td>\n",
       "      <td>-0.030448</td>\n",
       "      <td>1.000000</td>\n",
       "      <td>0.323782</td>\n",
       "      <td>0.020438</td>\n",
       "      <td>0.990089</td>\n",
       "      <td>0.818770</td>\n",
       "      <td>0.747230</td>\n",
       "      <td>0.002600</td>\n",
       "      <td>-0.045731</td>\n",
       "      <td>...</td>\n",
       "      <td>0.038416</td>\n",
       "      <td>-0.010627</td>\n",
       "      <td>-0.004771</td>\n",
       "      <td>-0.003030</td>\n",
       "      <td>-0.004263</td>\n",
       "      <td>0.015733</td>\n",
       "      <td>-0.007090</td>\n",
       "      <td>-0.009122</td>\n",
       "      <td>-0.030434</td>\n",
       "      <td>0.024929</td>\n",
       "    </tr>\n",
       "    <tr>\n",
       "      <th>3</th>\n",
       "      <td>0.009448</td>\n",
       "      <td>0.006021</td>\n",
       "      <td>0.323782</td>\n",
       "      <td>1.000000</td>\n",
       "      <td>-0.054015</td>\n",
       "      <td>0.286397</td>\n",
       "      <td>-0.119180</td>\n",
       "      <td>0.279646</td>\n",
       "      <td>-0.108217</td>\n",
       "      <td>0.051567</td>\n",
       "      <td>...</td>\n",
       "      <td>0.000922</td>\n",
       "      <td>0.009788</td>\n",
       "      <td>0.022593</td>\n",
       "      <td>0.022361</td>\n",
       "      <td>0.023288</td>\n",
       "      <td>0.038755</td>\n",
       "      <td>-0.038371</td>\n",
       "      <td>-0.033648</td>\n",
       "      <td>-0.084449</td>\n",
       "      <td>-0.016341</td>\n",
       "    </tr>\n",
       "    <tr>\n",
       "      <th>4</th>\n",
       "      <td>-0.000915</td>\n",
       "      <td>0.002192</td>\n",
       "      <td>0.020438</td>\n",
       "      <td>-0.054015</td>\n",
       "      <td>1.000000</td>\n",
       "      <td>0.007041</td>\n",
       "      <td>-0.034736</td>\n",
       "      <td>-0.475861</td>\n",
       "      <td>-0.020082</td>\n",
       "      <td>0.053859</td>\n",
       "      <td>...</td>\n",
       "      <td>0.107783</td>\n",
       "      <td>0.012778</td>\n",
       "      <td>-0.001323</td>\n",
       "      <td>-0.001605</td>\n",
       "      <td>-0.001636</td>\n",
       "      <td>-0.043693</td>\n",
       "      <td>-0.030930</td>\n",
       "      <td>-0.026046</td>\n",
       "      <td>0.050741</td>\n",
       "      <td>-0.013577</td>\n",
       "    </tr>\n",
       "    <tr>\n",
       "      <th>...</th>\n",
       "      <td>...</td>\n",
       "      <td>...</td>\n",
       "      <td>...</td>\n",
       "      <td>...</td>\n",
       "      <td>...</td>\n",
       "      <td>...</td>\n",
       "      <td>...</td>\n",
       "      <td>...</td>\n",
       "      <td>...</td>\n",
       "      <td>...</td>\n",
       "      <td>...</td>\n",
       "      <td>...</td>\n",
       "      <td>...</td>\n",
       "      <td>...</td>\n",
       "      <td>...</td>\n",
       "      <td>...</td>\n",
       "      <td>...</td>\n",
       "      <td>...</td>\n",
       "      <td>...</td>\n",
       "      <td>...</td>\n",
       "      <td>...</td>\n",
       "    </tr>\n",
       "    <tr>\n",
       "      <th>586</th>\n",
       "      <td>0.044745</td>\n",
       "      <td>-0.009219</td>\n",
       "      <td>0.015733</td>\n",
       "      <td>0.038755</td>\n",
       "      <td>-0.043693</td>\n",
       "      <td>0.019435</td>\n",
       "      <td>-0.005877</td>\n",
       "      <td>0.051943</td>\n",
       "      <td>0.017642</td>\n",
       "      <td>0.032423</td>\n",
       "      <td>...</td>\n",
       "      <td>-0.206109</td>\n",
       "      <td>-0.008240</td>\n",
       "      <td>0.002391</td>\n",
       "      <td>0.001602</td>\n",
       "      <td>0.002872</td>\n",
       "      <td>1.000000</td>\n",
       "      <td>0.169634</td>\n",
       "      <td>0.165942</td>\n",
       "      <td>-0.484741</td>\n",
       "      <td>0.004448</td>\n",
       "    </tr>\n",
       "    <tr>\n",
       "      <th>587</th>\n",
       "      <td>0.005233</td>\n",
       "      <td>0.039479</td>\n",
       "      <td>-0.007090</td>\n",
       "      <td>-0.038371</td>\n",
       "      <td>-0.030930</td>\n",
       "      <td>-0.003077</td>\n",
       "      <td>0.016362</td>\n",
       "      <td>-0.006335</td>\n",
       "      <td>0.027655</td>\n",
       "      <td>0.057856</td>\n",
       "      <td>...</td>\n",
       "      <td>0.227096</td>\n",
       "      <td>0.018981</td>\n",
       "      <td>-0.001809</td>\n",
       "      <td>-0.001696</td>\n",
       "      <td>-0.002122</td>\n",
       "      <td>0.169634</td>\n",
       "      <td>1.000000</td>\n",
       "      <td>0.974332</td>\n",
       "      <td>0.391503</td>\n",
       "      <td>0.035670</td>\n",
       "    </tr>\n",
       "    <tr>\n",
       "      <th>588</th>\n",
       "      <td>0.003918</td>\n",
       "      <td>0.040500</td>\n",
       "      <td>-0.009122</td>\n",
       "      <td>-0.033648</td>\n",
       "      <td>-0.026046</td>\n",
       "      <td>-0.004919</td>\n",
       "      <td>0.013832</td>\n",
       "      <td>-0.014288</td>\n",
       "      <td>0.033729</td>\n",
       "      <td>0.059321</td>\n",
       "      <td>...</td>\n",
       "      <td>0.216292</td>\n",
       "      <td>0.019083</td>\n",
       "      <td>-0.001445</td>\n",
       "      <td>-0.001182</td>\n",
       "      <td>-0.001746</td>\n",
       "      <td>0.165942</td>\n",
       "      <td>0.974332</td>\n",
       "      <td>1.000000</td>\n",
       "      <td>0.389898</td>\n",
       "      <td>0.031447</td>\n",
       "    </tr>\n",
       "    <tr>\n",
       "      <th>589</th>\n",
       "      <td>0.021489</td>\n",
       "      <td>0.044464</td>\n",
       "      <td>-0.030434</td>\n",
       "      <td>-0.084449</td>\n",
       "      <td>0.050741</td>\n",
       "      <td>-0.026117</td>\n",
       "      <td>0.002246</td>\n",
       "      <td>-0.067263</td>\n",
       "      <td>-0.016895</td>\n",
       "      <td>0.004106</td>\n",
       "      <td>...</td>\n",
       "      <td>0.431632</td>\n",
       "      <td>0.028502</td>\n",
       "      <td>-0.002453</td>\n",
       "      <td>-0.002750</td>\n",
       "      <td>-0.003266</td>\n",
       "      <td>-0.484741</td>\n",
       "      <td>0.391503</td>\n",
       "      <td>0.389898</td>\n",
       "      <td>1.000000</td>\n",
       "      <td>-0.002472</td>\n",
       "    </tr>\n",
       "    <tr>\n",
       "      <th>Pass/Fail</th>\n",
       "      <td>0.006149</td>\n",
       "      <td>-0.019672</td>\n",
       "      <td>0.024929</td>\n",
       "      <td>-0.016341</td>\n",
       "      <td>-0.013577</td>\n",
       "      <td>0.025315</td>\n",
       "      <td>0.030075</td>\n",
       "      <td>0.023590</td>\n",
       "      <td>0.028376</td>\n",
       "      <td>-0.031209</td>\n",
       "      <td>...</td>\n",
       "      <td>0.003478</td>\n",
       "      <td>0.018736</td>\n",
       "      <td>0.006131</td>\n",
       "      <td>0.005593</td>\n",
       "      <td>0.005179</td>\n",
       "      <td>0.004448</td>\n",
       "      <td>0.035670</td>\n",
       "      <td>0.031447</td>\n",
       "      <td>-0.002472</td>\n",
       "      <td>1.000000</td>\n",
       "    </tr>\n",
       "  </tbody>\n",
       "</table>\n",
       "<p>479 rows × 479 columns</p>\n",
       "</div>"
      ],
      "text/plain": [
       "                  0         1         2         3         4         5  \\\n",
       "0          1.000000 -0.047782  0.007590  0.009448 -0.000915  0.008706   \n",
       "1         -0.047782  1.000000 -0.030448  0.006021  0.002192 -0.030127   \n",
       "2          0.007590 -0.030448  1.000000  0.323782  0.020438  0.990089   \n",
       "3          0.009448  0.006021  0.323782  1.000000 -0.054015  0.286397   \n",
       "4         -0.000915  0.002192  0.020438 -0.054015  1.000000  0.007041   \n",
       "...             ...       ...       ...       ...       ...       ...   \n",
       "586        0.044745 -0.009219  0.015733  0.038755 -0.043693  0.019435   \n",
       "587        0.005233  0.039479 -0.007090 -0.038371 -0.030930 -0.003077   \n",
       "588        0.003918  0.040500 -0.009122 -0.033648 -0.026046 -0.004919   \n",
       "589        0.021489  0.044464 -0.030434 -0.084449  0.050741 -0.026117   \n",
       "Pass/Fail  0.006149 -0.019672  0.024929 -0.016341 -0.013577  0.025315   \n",
       "\n",
       "                  6         7         8         9  ...       581       582  \\\n",
       "0          0.006129  0.010738 -0.050979  0.009959  ... -0.033622  0.010503   \n",
       "1         -0.031616 -0.025086  0.027609  0.003704  ...  0.043107 -0.017392   \n",
       "2          0.818770  0.747230  0.002600 -0.045731  ...  0.038416 -0.010627   \n",
       "3         -0.119180  0.279646 -0.108217  0.051567  ...  0.000922  0.009788   \n",
       "4         -0.034736 -0.475861 -0.020082  0.053859  ...  0.107783  0.012778   \n",
       "...             ...       ...       ...       ...  ...       ...       ...   \n",
       "586       -0.005877  0.051943  0.017642  0.032423  ... -0.206109 -0.008240   \n",
       "587        0.016362 -0.006335  0.027655  0.057856  ...  0.227096  0.018981   \n",
       "588        0.013832 -0.014288  0.033729  0.059321  ...  0.216292  0.019083   \n",
       "589        0.002246 -0.067263 -0.016895  0.004106  ...  0.431632  0.028502   \n",
       "Pass/Fail  0.030075  0.023590  0.028376 -0.031209  ...  0.003478  0.018736   \n",
       "\n",
       "                583       584       585       586       587       588  \\\n",
       "0          0.019840  0.017889  0.019522  0.044745  0.005233  0.003918   \n",
       "1          0.003809  0.004409  0.003821 -0.009219  0.039479  0.040500   \n",
       "2         -0.004771 -0.003030 -0.004263  0.015733 -0.007090 -0.009122   \n",
       "3          0.022593  0.022361  0.023288  0.038755 -0.038371 -0.033648   \n",
       "4         -0.001323 -0.001605 -0.001636 -0.043693 -0.030930 -0.026046   \n",
       "...             ...       ...       ...       ...       ...       ...   \n",
       "586        0.002391  0.001602  0.002872  1.000000  0.169634  0.165942   \n",
       "587       -0.001809 -0.001696 -0.002122  0.169634  1.000000  0.974332   \n",
       "588       -0.001445 -0.001182 -0.001746  0.165942  0.974332  1.000000   \n",
       "589       -0.002453 -0.002750 -0.003266 -0.484741  0.391503  0.389898   \n",
       "Pass/Fail  0.006131  0.005593  0.005179  0.004448  0.035670  0.031447   \n",
       "\n",
       "                589  Pass/Fail  \n",
       "0          0.021489   0.006149  \n",
       "1          0.044464  -0.019672  \n",
       "2         -0.030434   0.024929  \n",
       "3         -0.084449  -0.016341  \n",
       "4          0.050741  -0.013577  \n",
       "...             ...        ...  \n",
       "586       -0.484741   0.004448  \n",
       "587        0.391503   0.035670  \n",
       "588        0.389898   0.031447  \n",
       "589        1.000000  -0.002472  \n",
       "Pass/Fail -0.002472   1.000000  \n",
       "\n",
       "[479 rows x 479 columns]"
      ]
     },
     "execution_count": 4,
     "metadata": {},
     "output_type": "execute_result"
    }
   ],
   "source": [
    "df.corr()"
   ]
  }
 ],
 "metadata": {
  "kernelspec": {
   "display_name": "Python 3.10.8 64-bit",
   "language": "python",
   "name": "python3"
  },
  "language_info": {
   "codemirror_mode": {
    "name": "ipython",
    "version": 3
   },
   "file_extension": ".py",
   "mimetype": "text/x-python",
   "name": "python",
   "nbconvert_exporter": "python",
   "pygments_lexer": "ipython3",
   "version": "3.10.8"
  },
  "orig_nbformat": 4,
  "vscode": {
   "interpreter": {
    "hash": "a42ccb73e7d9bfdf27e036f1d2b8b681e55fc0743cc5586bc2474d4a60f4b886"
   }
  }
 },
 "nbformat": 4,
 "nbformat_minor": 2
}
