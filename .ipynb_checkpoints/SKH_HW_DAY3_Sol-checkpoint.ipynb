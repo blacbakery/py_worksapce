{
 "cells": [
  {
   "cell_type": "markdown",
   "metadata": {
    "id": "nAaKsEewHxvr"
   },
   "source": [
    "### Numpy"
   ]
  },
  {
   "cell_type": "code",
   "execution_count": 1,
   "metadata": {
    "id": "g-3wvH8jHxvv"
   },
   "outputs": [],
   "source": [
    "import numpy as np\n",
    "np.random.seed(777)"
   ]
  },
  {
   "cell_type": "code",
   "execution_count": null,
   "metadata": {},
   "outputs": [],
   "source": []
  },
  {
   "cell_type": "code",
   "execution_count": 25,
   "metadata": {
    "scrolled": false
   },
   "outputs": [
    {
     "name": "stdout",
     "output_type": "stream",
     "text": [
      "absl-py==1.2.0\n",
      "argon2-cffi==21.3.0\n",
      "argon2-cffi-bindings==21.2.0\n",
      "asttokens==2.0.8\n",
      "astunparse==1.6.3\n",
      "attrs==22.1.0\n",
      "backcall==0.2.0\n",
      "beautifulsoup4==4.11.1\n",
      "bleach==5.0.1\n",
      "cachetools==5.2.0\n",
      "certifi==2022.6.15\n",
      "cffi==1.15.1\n",
      "charset-normalizer==2.1.0\n",
      "colorama==0.4.5\n",
      "cycler==0.11.0\n",
      "debugpy==1.6.3\n",
      "decorator==5.1.1\n",
      "defusedxml==0.7.1\n",
      "entrypoints==0.4\n",
      "et-xmlfile==1.1.0\n",
      "executing==0.10.0\n",
      "fastjsonschema==2.16.1\n",
      "flatbuffers==1.12\n",
      "fonttools==4.36.0\n",
      "gast==0.4.0\n",
      "google-auth==2.10.0\n",
      "google-auth-oauthlib==0.4.6\n",
      "google-pasta==0.2.0\n",
      "grpcio==1.47.0\n",
      "h5py==3.7.0\n",
      "idna==3.3\n",
      "imageio==2.21.1\n",
      "importlib-metadata==4.12.0\n",
      "ipykernel==6.15.1\n",
      "ipython==8.4.0\n",
      "ipython-genutils==0.2.0\n",
      "ipywidgets==8.0.1\n",
      "jedi==0.18.1\n",
      "Jinja2==3.1.2\n",
      "joblib==1.1.0\n",
      "jsonschema==4.12.1\n",
      "jupyter==1.0.0\n",
      "jupyter-client==7.3.4\n",
      "jupyter-console==6.4.4\n",
      "jupyter-core==4.11.1\n",
      "jupyterlab-pygments==0.2.2\n",
      "jupyterlab-widgets==3.0.1\n",
      "keras==2.9.0\n",
      "Keras-Preprocessing==1.1.2\n",
      "kiwisolver==1.4.4\n",
      "libclang==14.0.6\n",
      "lxml==4.9.1\n",
      "Markdown==3.4.1\n",
      "MarkupSafe==2.1.1\n",
      "matplotlib==3.5.3\n",
      "matplotlib-inline==0.1.6\n",
      "mglearn==0.1.9\n",
      "mistune==0.8.4\n",
      "nbclient==0.6.6\n",
      "nbconvert==6.5.3\n",
      "nbformat==5.4.0\n",
      "nest-asyncio==1.5.5\n",
      "notebook==6.4.12\n",
      "numpy==1.23.2\n",
      "oauthlib==3.2.0\n",
      "openpyxl==3.0.10\n",
      "opt-einsum==3.3.0\n",
      "packaging==21.3\n",
      "pandas==1.4.3\n",
      "pandocfilters==1.5.0\n",
      "parso==0.8.3\n",
      "pickleshare==0.7.5\n",
      "Pillow==9.2.0\n",
      "prometheus-client==0.14.1\n",
      "prompt-toolkit==3.0.30\n",
      "protobuf==3.19.4\n",
      "psutil==5.9.1\n",
      "pure-eval==0.2.2\n",
      "pyasn1==0.4.8\n",
      "pyasn1-modules==0.2.8\n",
      "pycparser==2.21\n",
      "Pygments==2.13.0\n",
      "pyparsing==3.0.9\n",
      "pyrsistent==0.18.1\n",
      "python-dateutil==2.8.2\n",
      "pytz==2022.2.1\n",
      "pywin32==304\n",
      "pywinpty==2.0.7\n",
      "pyzmq==23.2.1\n",
      "qtconsole==5.3.1\n",
      "QtPy==2.2.0\n",
      "requests==2.28.1\n",
      "requests-oauthlib==1.3.1\n",
      "rsa==4.9\n",
      "scikit-learn==1.1.2\n",
      "scipy==1.9.0\n",
      "seaborn==0.11.2\n",
      "Send2Trash==1.8.0\n",
      "six==1.16.0\n",
      "soupsieve==2.3.2.post1\n",
      "stack-data==0.4.0\n",
      "tensorboard==2.9.1\n",
      "tensorboard-data-server==0.6.1\n",
      "tensorboard-plugin-wit==1.8.1\n",
      "tensorflow==2.9.1\n",
      "tensorflow-estimator==2.9.0\n",
      "tensorflow-io-gcs-filesystem==0.26.0\n",
      "termcolor==1.1.0\n",
      "terminado==0.15.0\n",
      "threadpoolctl==3.1.0\n",
      "tinycss2==1.1.1\n",
      "tornado==6.2\n",
      "traitlets==5.3.0\n",
      "typing_extensions==4.3.0\n",
      "urllib3==1.26.11\n",
      "wcwidth==0.2.5\n",
      "webencodings==0.5.1\n",
      "Werkzeug==2.2.2\n",
      "widgetsnbextension==4.0.1\n",
      "wrapt==1.14.1\n",
      "xlrd==2.0.1\n",
      "zipp==3.8.1\n",
      "Note: you may need to restart the kernel to use updated packages.\n"
     ]
    }
   ],
   "source": [
    "pip freeze"
   ]
  },
  {
   "cell_type": "markdown",
   "metadata": {
    "id": "QEXQf5rSHxvw"
   },
   "source": [
    "#### 1)  0~1000사이의 랜덤 정수 25개를 1차원 배열의 형태로 생성하여 arr1에 저장하세요.\n",
    "* 값 범위: [0, 1000]\n",
    "* 중복 값은 허용합니다."
   ]
  },
  {
   "cell_type": "code",
   "execution_count": 2,
   "metadata": {
    "colab": {
     "base_uri": "https://localhost:8080/"
    },
    "id": "O1OkbyfLHxvw",
    "outputId": "15327989-17fc-449c-d718-8b092031c729"
   },
   "outputs": [
    {
     "data": {
      "text/plain": [
       "array([103, 815, 571, 934, 599, 945,  71, 669, 639, 116, 423, 985, 814,\n",
       "       506, 792, 295, 914, 397, 654,  32, 859, 321, 850, 340, 325])"
      ]
     },
     "execution_count": 2,
     "metadata": {},
     "output_type": "execute_result"
    }
   ],
   "source": [
    "# np.random.randint 함수 이용\n",
    "arr1 = np.random.randint(0, 1001, 25)\n",
    "arr1"
   ]
  },
  {
   "cell_type": "markdown",
   "metadata": {
    "id": "JU--Df2sHxvx"
   },
   "source": [
    "#### 2) arr1의 크기(shape)을 5행 자동 열로 변경하여 arr2에 저장하세요."
   ]
  },
  {
   "cell_type": "code",
   "execution_count": 3,
   "metadata": {
    "colab": {
     "base_uri": "https://localhost:8080/"
    },
    "id": "vGk8y7iQHxvx",
    "outputId": "fa51d018-512f-43e9-d570-d325f66ea50a"
   },
   "outputs": [
    {
     "data": {
      "text/plain": [
       "((5, 5),\n",
       " array([[103, 815, 571, 934, 599],\n",
       "        [945,  71, 669, 639, 116],\n",
       "        [423, 985, 814, 506, 792],\n",
       "        [295, 914, 397, 654,  32],\n",
       "        [859, 321, 850, 340, 325]]))"
      ]
     },
     "execution_count": 3,
     "metadata": {},
     "output_type": "execute_result"
    }
   ],
   "source": [
    "arr2 = arr1.reshape(5, -1)\n",
    "arr2.shape, arr2"
   ]
  },
  {
   "cell_type": "markdown",
   "metadata": {
    "id": "8LjYA7cATcL8"
   },
   "source": [
    "####  3) arr2의 요소 중 71에 10을 곱하세요."
   ]
  },
  {
   "cell_type": "code",
   "execution_count": 4,
   "metadata": {
    "colab": {
     "base_uri": "https://localhost:8080/"
    },
    "id": "xjNb0LmGHxvx",
    "outputId": "07f165b0-fca5-479c-c50b-8efc449d781f"
   },
   "outputs": [
    {
     "data": {
      "text/plain": [
       "array([[103, 815, 571, 934, 599],\n",
       "       [945, 710, 669, 639, 116],\n",
       "       [423, 985, 814, 506, 792],\n",
       "       [295, 914, 397, 654,  32],\n",
       "       [859, 321, 850, 340, 325]])"
      ]
     },
     "execution_count": 4,
     "metadata": {},
     "output_type": "execute_result"
    }
   ],
   "source": [
    "arr2[arr2==71] *= 10\n",
    "arr2"
   ]
  },
  {
   "cell_type": "code",
   "execution_count": 5,
   "metadata": {},
   "outputs": [
    {
     "data": {
      "text/plain": [
       "array([], dtype=int32)"
      ]
     },
     "execution_count": 5,
     "metadata": {},
     "output_type": "execute_result"
    }
   ],
   "source": [
    "arr2[arr2==71]"
   ]
  },
  {
   "cell_type": "code",
   "execution_count": 6,
   "metadata": {},
   "outputs": [
    {
     "data": {
      "text/plain": [
       "array([[103, 815, 571, 934, 599],\n",
       "       [945, 710, 669, 639, 116],\n",
       "       [423, 985, 814, 506, 792],\n",
       "       [295, 914, 397, 654,  32],\n",
       "       [859, 321, 850, 340, 325]])"
      ]
     },
     "execution_count": 6,
     "metadata": {},
     "output_type": "execute_result"
    }
   ],
   "source": [
    "# 또는\n",
    "arr2[np.where(arr2 == 71)] *= 10\n",
    "arr2"
   ]
  },
  {
   "cell_type": "code",
   "execution_count": 7,
   "metadata": {},
   "outputs": [
    {
     "data": {
      "text/plain": [
       "(array([], dtype=int64), array([], dtype=int64))"
      ]
     },
     "execution_count": 7,
     "metadata": {},
     "output_type": "execute_result"
    }
   ],
   "source": [
    "np.where(arr2 == 71)"
   ]
  },
  {
   "cell_type": "code",
   "execution_count": 8,
   "metadata": {},
   "outputs": [
    {
     "data": {
      "text/plain": [
       "710"
      ]
     },
     "execution_count": 8,
     "metadata": {},
     "output_type": "execute_result"
    }
   ],
   "source": [
    "arr2[1,1]"
   ]
  },
  {
   "cell_type": "code",
   "execution_count": 9,
   "metadata": {},
   "outputs": [
    {
     "data": {
      "text/plain": [
       "array([[103, 815, 571, 934, 599],\n",
       "       [945, 710, 669, 639, 116],\n",
       "       [423, 985, 814, 506, 792],\n",
       "       [295, 914, 397, 654,  32],\n",
       "       [859, 321, 850, 340, 325]])"
      ]
     },
     "execution_count": 9,
     "metadata": {},
     "output_type": "execute_result"
    }
   ],
   "source": [
    "arr2"
   ]
  },
  {
   "cell_type": "markdown",
   "metadata": {
    "id": "CwYOM2gnHxvy"
   },
   "source": [
    "####  4) arr2의 요소 중 가운데 위치한 9개 요소를 추출하여 arr3에 저장하세요."
   ]
  },
  {
   "cell_type": "code",
   "execution_count": 10,
   "metadata": {},
   "outputs": [],
   "source": [
    "x = np.array([1,2,3,4])"
   ]
  },
  {
   "cell_type": "code",
   "execution_count": 11,
   "metadata": {
    "colab": {
     "base_uri": "https://localhost:8080/"
    },
    "id": "jQLHHJpRHxvy",
    "outputId": "8acc31ed-7d52-4679-deff-d67b72a0bc49"
   },
   "outputs": [
    {
     "data": {
      "text/plain": [
       "array([[710, 669, 639],\n",
       "       [985, 814, 506],\n",
       "       [914, 397, 654]])"
      ]
     },
     "execution_count": 11,
     "metadata": {},
     "output_type": "execute_result"
    }
   ],
   "source": [
    "arr3 = arr2[1:4,1:4]\n",
    "arr3"
   ]
  },
  {
   "cell_type": "markdown",
   "metadata": {
    "id": "C9jlK9FbHxvy"
   },
   "source": [
    "#### 5) arr3의 0행 0열의 값을 0으로 변경후, 원본 배열 arr2가 수정됐는지 확인하세요"
   ]
  },
  {
   "cell_type": "code",
   "execution_count": 12,
   "metadata": {},
   "outputs": [],
   "source": [
    "arr3[0,0] = 0"
   ]
  },
  {
   "cell_type": "code",
   "execution_count": 13,
   "metadata": {},
   "outputs": [
    {
     "data": {
      "text/plain": [
       "array([[103, 815, 571, 934, 599],\n",
       "       [945,   0, 669, 639, 116],\n",
       "       [423, 985, 814, 506, 792],\n",
       "       [295, 914, 397, 654,  32],\n",
       "       [859, 321, 850, 340, 325]])"
      ]
     },
     "execution_count": 13,
     "metadata": {},
     "output_type": "execute_result"
    }
   ],
   "source": [
    "arr2"
   ]
  },
  {
   "cell_type": "markdown",
   "metadata": {
    "id": "Frgo0-CrHxvz"
   },
   "source": [
    "####  6) arr2에서 다시 가운데 9개를 추출한 후  arr4에 저장하되, 원본 배열 arr2가 수정되지 않도록 연산하세요. \n",
    "    - copy 함수사용"
   ]
  },
  {
   "cell_type": "code",
   "execution_count": 14,
   "metadata": {
    "colab": {
     "base_uri": "https://localhost:8080/"
    },
    "id": "VUR7HKRaHxvz",
    "outputId": "506a4c2e-c9a5-43a3-c030-da75dc42c06f"
   },
   "outputs": [
    {
     "data": {
      "text/plain": [
       "array([[  0, 669, 639],\n",
       "       [985, 814, 506],\n",
       "       [914, 397, 654]])"
      ]
     },
     "execution_count": 14,
     "metadata": {},
     "output_type": "execute_result"
    }
   ],
   "source": [
    "# 추출\n",
    "arr4 = arr2[1:4,1:4].copy()\n",
    "arr4"
   ]
  },
  {
   "cell_type": "markdown",
   "metadata": {},
   "source": [
    "#### 7) arr4의 0행 0열의 값을 1로 변경하세요.원본인 arr2 가 바뀌었는지 확인해보세요.(arr2출력)"
   ]
  },
  {
   "cell_type": "code",
   "execution_count": 15,
   "metadata": {},
   "outputs": [
    {
     "data": {
      "text/plain": [
       "array([[  1, 669, 639],\n",
       "       [985, 814, 506],\n",
       "       [914, 397, 654]])"
      ]
     },
     "execution_count": 15,
     "metadata": {},
     "output_type": "execute_result"
    }
   ],
   "source": [
    "arr4[0,0] = 1\n",
    "arr4"
   ]
  },
  {
   "cell_type": "code",
   "execution_count": 16,
   "metadata": {
    "colab": {
     "base_uri": "https://localhost:8080/"
    },
    "id": "oTmikQ33Hxvz",
    "outputId": "d12c1e20-1f42-45bd-f5dc-d9d1fa316863"
   },
   "outputs": [
    {
     "data": {
      "text/plain": [
       "array([[103, 815, 571, 934, 599],\n",
       "       [945,   0, 669, 639, 116],\n",
       "       [423, 985, 814, 506, 792],\n",
       "       [295, 914, 397, 654,  32],\n",
       "       [859, 321, 850, 340, 325]])"
      ]
     },
     "execution_count": 16,
     "metadata": {},
     "output_type": "execute_result"
    }
   ],
   "source": [
    "# 원본 확인\n",
    "arr2"
   ]
  },
  {
   "cell_type": "markdown",
   "metadata": {
    "id": "_KU9M5YwHxvz"
   },
   "source": [
    "#### 8) arr2의 요소 중 500 이상인 요소만 추출하여 arr5에 저장하고, 크기(shape)을 3행 자동 열로 변경하세요."
   ]
  },
  {
   "cell_type": "code",
   "execution_count": 17,
   "metadata": {
    "colab": {
     "base_uri": "https://localhost:8080/"
    },
    "id": "XeHNAot0Hxv0",
    "outputId": "d7270dea-5260-44bd-9851-417945229f57"
   },
   "outputs": [
    {
     "data": {
      "text/plain": [
       "array([[815, 571, 934, 599, 945],\n",
       "       [669, 639, 985, 814, 506],\n",
       "       [792, 914, 654, 859, 850]])"
      ]
     },
     "execution_count": 17,
     "metadata": {},
     "output_type": "execute_result"
    }
   ],
   "source": [
    "arr5 = arr2[arr2>=500].reshape(3,-1)\n",
    "arr5"
   ]
  },
  {
   "cell_type": "markdown",
   "metadata": {
    "id": "M410dWNbVfud"
   },
   "source": [
    "#### 9) arr2의 열 별 평균과 표준편차를 출력하세요."
   ]
  },
  {
   "cell_type": "code",
   "execution_count": 18,
   "metadata": {
    "colab": {
     "base_uri": "https://localhost:8080/"
    },
    "id": "Dm1KTz2RVoiS",
    "outputId": "2a50b2cc-1e21-40e7-b616-a2ed5a634fba"
   },
   "outputs": [
    {
     "data": {
      "text/plain": [
       "(array([525. , 607. , 660.2, 614.6, 372.8]),\n",
       " array([325.37486074, 382.26744565, 165.52147897, 195.63394389,\n",
       "        286.79986053]))"
      ]
     },
     "execution_count": 18,
     "metadata": {},
     "output_type": "execute_result"
    }
   ],
   "source": [
    "np.mean(arr2, axis=0), np.std(arr2, axis=0)"
   ]
  },
  {
   "cell_type": "markdown",
   "metadata": {
    "id": "BAnqS8u-Vv7B"
   },
   "source": [
    "#### 10) arr2의 행 별 평균과 표준편차를 출력하세요."
   ]
  },
  {
   "cell_type": "code",
   "execution_count": 19,
   "metadata": {
    "colab": {
     "base_uri": "https://localhost:8080/"
    },
    "id": "t_1hLY8IVrcj",
    "outputId": "4bbc569b-367e-4b0b-c5b8-c23094567c4e"
   },
   "outputs": [
    {
     "data": {
      "text/plain": [
       "(array([604.4, 473.8, 704. , 458.4, 539. ]),\n",
       " array([284.79297744, 357.75153389, 208.3122656 , 302.6936405 ,\n",
       "        257.69827318]))"
      ]
     },
     "execution_count": 19,
     "metadata": {},
     "output_type": "execute_result"
    }
   ],
   "source": [
    "np.mean(arr2, axis=1), np.std(arr2, axis=1)"
   ]
  },
  {
   "cell_type": "markdown",
   "metadata": {
    "id": "t9I7dQlsHxv0"
   },
   "source": [
    "#### 11)  arr2의 요소 중 500 미만인 요소는 0으로, 500 이상인 요소는 500으로 변경하여 arr6에 저장하세요"
   ]
  },
  {
   "cell_type": "code",
   "execution_count": 20,
   "metadata": {
    "colab": {
     "base_uri": "https://localhost:8080/"
    },
    "id": "p29Hn8mJHxv0",
    "outputId": "9e687172-0036-454b-c2df-29978cd5b89e",
    "scrolled": false
   },
   "outputs": [
    {
     "data": {
      "text/plain": [
       "array([[  0, 500, 500, 500, 500],\n",
       "       [500,   0, 500, 500,   0],\n",
       "       [  0, 500, 500, 500, 500],\n",
       "       [  0, 500,   0, 500,   0],\n",
       "       [500,   0, 500,   0,   0]])"
      ]
     },
     "execution_count": 20,
     "metadata": {},
     "output_type": "execute_result"
    }
   ],
   "source": [
    "arr6 = np.where(arr2>=500, 500, 0)\n",
    "arr6"
   ]
  },
  {
   "cell_type": "markdown",
   "metadata": {
    "id": "j7eoC2m8WM0S"
   },
   "source": [
    "#### 12) arr6의 열 별 평균을 출력하세요"
   ]
  },
  {
   "cell_type": "code",
   "execution_count": 21,
   "metadata": {
    "colab": {
     "base_uri": "https://localhost:8080/"
    },
    "id": "RFUL0DBfWKnf",
    "outputId": "46e0927a-7be2-4b65-b1d7-9acf53c37d7f"
   },
   "outputs": [
    {
     "data": {
      "text/plain": [
       "array([200., 300., 400., 400., 200.])"
      ]
     },
     "execution_count": 21,
     "metadata": {},
     "output_type": "execute_result"
    }
   ],
   "source": [
    "arr6.mean(axis=0)"
   ]
  },
  {
   "cell_type": "code",
   "execution_count": null,
   "metadata": {},
   "outputs": [],
   "source": []
  },
  {
   "cell_type": "markdown",
   "metadata": {
    "id": "beAMXR7yWqy4"
   },
   "source": [
    "#### 13) arr6의 전체 평균을 출력하세요."
   ]
  },
  {
   "cell_type": "code",
   "execution_count": 22,
   "metadata": {
    "colab": {
     "base_uri": "https://localhost:8080/"
    },
    "id": "fJ1p9tlBWPGy",
    "outputId": "64d9fc4d-fbf5-45e1-a276-35b73a4e08ef"
   },
   "outputs": [
    {
     "data": {
      "text/plain": [
       "300.0"
      ]
     },
     "execution_count": 22,
     "metadata": {},
     "output_type": "execute_result"
    }
   ],
   "source": [
    "np.mean(arr6)"
   ]
  },
  {
   "cell_type": "code",
   "execution_count": null,
   "metadata": {},
   "outputs": [],
   "source": []
  },
  {
   "cell_type": "code",
   "execution_count": null,
   "metadata": {},
   "outputs": [],
   "source": []
  },
  {
   "cell_type": "code",
   "execution_count": null,
   "metadata": {},
   "outputs": [],
   "source": []
  }
 ],
 "metadata": {
  "colab": {
   "collapsed_sections": [],
   "name": "SKH_DAY3_S.ipynb",
   "provenance": []
  },
  "kernelspec": {
   "display_name": "Python 3 (ipykernel)",
   "language": "python",
   "name": "python3"
  },
  "language_info": {
   "codemirror_mode": {
    "name": "ipython",
    "version": 3
   },
   "file_extension": ".py",
   "mimetype": "text/x-python",
   "name": "python",
   "nbconvert_exporter": "python",
   "pygments_lexer": "ipython3",
   "version": "3.9.8"
  }
 },
 "nbformat": 4,
 "nbformat_minor": 1
}
