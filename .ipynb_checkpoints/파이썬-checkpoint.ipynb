{
 "cells": [
  {
   "cell_type": "markdown",
   "id": "9c775844",
   "metadata": {},
   "source": [
    "## * print"
   ]
  },
  {
   "cell_type": "code",
   "execution_count": 1,
   "id": "81b98c00",
   "metadata": {},
   "outputs": [
    {
     "name": "stdout",
     "output_type": "stream",
     "text": [
      "이름은 홍길동, 나이는 35, 평점은 9.235 입니다.\n",
      "이름은 홍길동, 나이는 35, 평점은 9.2 입니다.\n"
     ]
    }
   ],
   "source": [
    "name = '홍길동'\n",
    "age = 35\n",
    "grade = 9.2345\n",
    "print('이름은 %s, 나이는 %d, 평점은 %.3f 입니다.' %(name, age, grade))\n",
    "print('이름은 {}, 나이는 {}, 평점은 {:.1f} 입니다.'.format(name, age, grade))"
   ]
  },
  {
   "cell_type": "markdown",
   "id": "3209ec32",
   "metadata": {},
   "source": [
    "### * 문자열 split(분할), join(결합), sep"
   ]
  },
  {
   "cell_type": "code",
   "execution_count": 2,
   "id": "3db70445",
   "metadata": {},
   "outputs": [
    {
     "name": "stdout",
     "output_type": "stream",
     "text": [
      "['NAND', '50', '3', '123', 'SKHynix']\n"
     ]
    }
   ],
   "source": [
    "data = 'NAND,50,3,123,SKHynix'\n",
    "\n",
    "# 문자열 분할하기\n",
    "result = data.split(',')\n",
    "print(result)"
   ]
  },
  {
   "cell_type": "code",
   "execution_count": 3,
   "id": "aee63bdc",
   "metadata": {},
   "outputs": [
    {
     "name": "stdout",
     "output_type": "stream",
     "text": [
      "NAND:50:3:123:SKHynix\n"
     ]
    }
   ],
   "source": [
    "# 문자열 결합하기\n",
    "result1 = \":\".join(result)\n",
    "print(result1)"
   ]
  },
  {
   "cell_type": "markdown",
   "id": "b32f1b9d",
   "metadata": {},
   "source": [
    "### * List 사용법"
   ]
  },
  {
   "cell_type": "code",
   "execution_count": 4,
   "id": "5bb1da70",
   "metadata": {},
   "outputs": [
    {
     "name": "stdout",
     "output_type": "stream",
     "text": [
      "[3, 2, 1, 10]\n"
     ]
    }
   ],
   "source": [
    "myL = [3, 2, 1, 10]\n",
    "print(myL)"
   ]
  },
  {
   "cell_type": "code",
   "execution_count": 5,
   "id": "e2850d18",
   "metadata": {},
   "outputs": [
    {
     "name": "stdout",
     "output_type": "stream",
     "text": [
      "[3, 2, 1, 10, 7]\n"
     ]
    }
   ],
   "source": [
    "myL.append(7)\n",
    "print(myL)"
   ]
  },
  {
   "cell_type": "code",
   "execution_count": 6,
   "id": "1de47808",
   "metadata": {},
   "outputs": [
    {
     "name": "stdout",
     "output_type": "stream",
     "text": [
      "[3, 2, 1, 100, 10, 7]\n"
     ]
    }
   ],
   "source": [
    "myL.insert(3, 100) # 3번째 위치에 100을 집어넣는다.\n",
    "print(myL)"
   ]
  },
  {
   "cell_type": "code",
   "execution_count": 7,
   "id": "54965f08",
   "metadata": {},
   "outputs": [
    {
     "name": "stdout",
     "output_type": "stream",
     "text": [
      "[3, 2, 1, 100, 10]\n"
     ]
    }
   ],
   "source": [
    "myL.remove(7)\n",
    "print(myL)"
   ]
  },
  {
   "cell_type": "code",
   "execution_count": 8,
   "id": "21610215",
   "metadata": {},
   "outputs": [
    {
     "name": "stdout",
     "output_type": "stream",
     "text": [
      "10\n",
      "[3, 2, 1, 100]\n"
     ]
    }
   ],
   "source": [
    "print(myL.pop())\n",
    "print(myL)"
   ]
  },
  {
   "cell_type": "markdown",
   "id": "52445ce4",
   "metadata": {},
   "source": [
    "#### list sorting"
   ]
  },
  {
   "cell_type": "code",
   "execution_count": 9,
   "id": "3e5effa9",
   "metadata": {},
   "outputs": [
    {
     "name": "stdout",
     "output_type": "stream",
     "text": [
      "[1, 2, 3, 100]\n"
     ]
    }
   ],
   "source": [
    "myL.sort()\n",
    "print(myL)"
   ]
  },
  {
   "cell_type": "code",
   "execution_count": 10,
   "id": "0e6c1d7c",
   "metadata": {},
   "outputs": [
    {
     "name": "stdout",
     "output_type": "stream",
     "text": [
      "[100, 3, 2, 1]\n"
     ]
    }
   ],
   "source": [
    "myL.sort(reverse=True)\n",
    "print(myL)"
   ]
  },
  {
   "cell_type": "code",
   "execution_count": 11,
   "id": "3c398eea",
   "metadata": {},
   "outputs": [
    {
     "name": "stdout",
     "output_type": "stream",
     "text": [
      "[100, 2, 1]\n"
     ]
    }
   ],
   "source": [
    "del myL[1] # del은 list 외에도 다른 메모리에 할당된 변수들을 제거할 수 아ㅣㅆ다.\n",
    "print(myL)"
   ]
  },
  {
   "cell_type": "code",
   "execution_count": 12,
   "id": "8dc33c82",
   "metadata": {},
   "outputs": [],
   "source": [
    "del myL\n",
    "# print(myL)\n",
    "# 오류 발생한다."
   ]
  },
  {
   "cell_type": "markdown",
   "id": "278564dd",
   "metadata": {},
   "source": [
    "#### list sep"
   ]
  },
  {
   "cell_type": "code",
   "execution_count": 4,
   "id": "a57a4122",
   "metadata": {},
   "outputs": [
    {
     "name": "stdout",
     "output_type": "stream",
     "text": [
      "Python is very interesting\n",
      "<class 'str'>\n"
     ]
    }
   ],
   "source": [
    "List2 = ['Python', 'is', 'very', 'interesting']\n",
    "sep = ' '\n",
    "result2 = sep.join(List2)\n",
    "print(result2)\n",
    "print(type(result2))"
   ]
  },
  {
   "cell_type": "markdown",
   "id": "68131080",
   "metadata": {},
   "source": [
    "### * dir()"
   ]
  },
  {
   "cell_type": "code",
   "execution_count": 14,
   "id": "cfd30e8b",
   "metadata": {},
   "outputs": [
    {
     "data": {
      "text/plain": [
       "['__add__',\n",
       " '__class__',\n",
       " '__contains__',\n",
       " '__delattr__',\n",
       " '__delitem__',\n",
       " '__dir__',\n",
       " '__doc__',\n",
       " '__eq__',\n",
       " '__format__',\n",
       " '__ge__',\n",
       " '__getattribute__',\n",
       " '__getitem__',\n",
       " '__gt__',\n",
       " '__hash__',\n",
       " '__iadd__',\n",
       " '__imul__',\n",
       " '__init__',\n",
       " '__init_subclass__',\n",
       " '__iter__',\n",
       " '__le__',\n",
       " '__len__',\n",
       " '__lt__',\n",
       " '__mul__',\n",
       " '__ne__',\n",
       " '__new__',\n",
       " '__reduce__',\n",
       " '__reduce_ex__',\n",
       " '__repr__',\n",
       " '__reversed__',\n",
       " '__rmul__',\n",
       " '__setattr__',\n",
       " '__setitem__',\n",
       " '__sizeof__',\n",
       " '__str__',\n",
       " '__subclasshook__',\n",
       " 'append',\n",
       " 'clear',\n",
       " 'copy',\n",
       " 'count',\n",
       " 'extend',\n",
       " 'index',\n",
       " 'insert',\n",
       " 'pop',\n",
       " 'remove',\n",
       " 'reverse',\n",
       " 'sort']"
      ]
     },
     "execution_count": 14,
     "metadata": {},
     "output_type": "execute_result"
    }
   ],
   "source": [
    "myL = []\n",
    "dir(myL)"
   ]
  },
  {
   "cell_type": "markdown",
   "id": "026c84c3",
   "metadata": {},
   "source": [
    "### * if문"
   ]
  },
  {
   "cell_type": "code",
   "execution_count": 15,
   "id": "6311365c",
   "metadata": {},
   "outputs": [
    {
     "name": "stdout",
     "output_type": "stream",
     "text": [
      "C\n"
     ]
    }
   ],
   "source": [
    "score = 73\n",
    "if score >= 90:\n",
    "    print('A')\n",
    "elif score >= 80:\n",
    "    print('B')\n",
    "else:\n",
    "    print('C')"
   ]
  },
  {
   "cell_type": "markdown",
   "id": "46613eb7",
   "metadata": {},
   "source": [
    "### * %whos - 메모리에 할당된 전역변수 확인하기"
   ]
  },
  {
   "cell_type": "code",
   "execution_count": 16,
   "id": "e4fc4db8",
   "metadata": {},
   "outputs": [
    {
     "name": "stdout",
     "output_type": "stream",
     "text": [
      "Variable   Type     Data/Info\n",
      "-----------------------------\n",
      "List2      list     n=4\n",
      "age        int      35\n",
      "data       str      NAND,50,3,123,SKHynix\n",
      "grade      float    9.2345\n",
      "myL        list     n=0\n",
      "name       str      홍길동\n",
      "result     list     n=5\n",
      "result1    str      NAND:50:3:123:SKHynix\n",
      "result2    str      PYthon is too interesting\n",
      "score      int      73\n",
      "sep        str       \n"
     ]
    }
   ],
   "source": [
    "%whos"
   ]
  },
  {
   "cell_type": "markdown",
   "id": "791c2766",
   "metadata": {},
   "source": [
    "### * Tuple"
   ]
  },
  {
   "cell_type": "code",
   "execution_count": 17,
   "id": "9e4f601f",
   "metadata": {},
   "outputs": [
    {
     "name": "stdout",
     "output_type": "stream",
     "text": [
      "[4, 1, 2, 3, 10, 11] <class 'list'>\n",
      "(4, 1, 2, 3, 10, 11) <class 'tuple'>\n"
     ]
    }
   ],
   "source": [
    "aaL = [4, 1, 2, 3, 10,11] # list\n",
    "aaT = 4, 1, 2, 3, 10, 11 # tuple\n",
    "print(aaL, type(aaL))\n",
    "print(aaT, type(aaT))"
   ]
  },
  {
   "cell_type": "code",
   "execution_count": 18,
   "id": "5da5d113",
   "metadata": {},
   "outputs": [
    {
     "name": "stdout",
     "output_type": "stream",
     "text": [
      "(1, 2, 3)\n",
      "<class 'tuple'>\n",
      "<class 'int'>\n"
     ]
    }
   ],
   "source": [
    "t = 1, 2, 3\n",
    "print(t)\n",
    "t1 = 1, # tuple\n",
    "t2 = 1 # int\n",
    "print(type(t1))\n",
    "print(type(t2))"
   ]
  },
  {
   "cell_type": "code",
   "execution_count": 19,
   "id": "f44c34c6",
   "metadata": {},
   "outputs": [
    {
     "name": "stdout",
     "output_type": "stream",
     "text": [
      "104\n",
      "88\n"
     ]
    }
   ],
   "source": [
    "import sys\n",
    "print(sys.getsizeof(aaL))\n",
    "print(sys.getsizeof(aaT))"
   ]
  },
  {
   "cell_type": "markdown",
   "id": "f019f9fe",
   "metadata": {},
   "source": [
    "### * 딕셔너리 생성, 조회, 수정, 추가"
   ]
  },
  {
   "cell_type": "code",
   "execution_count": 20,
   "id": "dc1e0a57",
   "metadata": {},
   "outputs": [
    {
     "name": "stdout",
     "output_type": "stream",
     "text": [
      "None\n"
     ]
    }
   ],
   "source": [
    "# 생성법 1(기본 형식)\n",
    "myDict = {'name' : 'DRAM', 'capa': 1000, 'price': 4.123, 'maker': 'SK-Hynix'}\n",
    "# 생성법 2(dict)\n",
    "testDict = dict(name = '홍길동', age = 35, address = '서울', hobby=['축구', '배구', '골프'])\n",
    "\n",
    "#get으로 조회 시 실패하면 'None'을 return한다.(False가 아님)\n",
    "print(myDict.get('name1')) # name1은 없다. 조회 실패임."
   ]
  },
  {
   "cell_type": "code",
   "execution_count": 21,
   "id": "3410b2d7",
   "metadata": {},
   "outputs": [
    {
     "name": "stdout",
     "output_type": "stream",
     "text": [
      "{'NAND': 3.12, 'NAND1': 4.23, 'DRAM1': 5.12}\n"
     ]
    }
   ],
   "source": [
    "# 생성법 3(zip 함수)\n",
    "nameL=['NAND', 'NAND1','DRAM1']\n",
    "valueL = [3.12, 4.23, 5.12]\n",
    "res = list(zip(nameL, valueL))\n",
    "res1 = dict(zip(nameL, valueL)) # zip을 활용하여 dictionary를 쉽게 만들 수 있다.\n",
    "print(res1)"
   ]
  },
  {
   "cell_type": "markdown",
   "id": "130f6457",
   "metadata": {},
   "source": [
    "#### 딕셔너리 update"
   ]
  },
  {
   "cell_type": "code",
   "execution_count": 22,
   "id": "dfcf8f33",
   "metadata": {},
   "outputs": [
    {
     "data": {
      "text/plain": [
       "{'name': '홍길동',\n",
       " 'capa': 1000,\n",
       " 'price': 4.123,\n",
       " 'maker': 'SK-Hynix',\n",
       " 'age': 35,\n",
       " 'address': '서울',\n",
       " 'hobby': ['축구', '배구', '골프']}"
      ]
     },
     "execution_count": 22,
     "metadata": {},
     "output_type": "execute_result"
    }
   ],
   "source": [
    "\n",
    "# update 함수를 이용하면 딕셔너리를 합칠 수 있다.\n",
    "myDict.update(testDict)\n",
    "myDict\n",
    "# 'key'값이 같을 경우에는 overwrite가 된다. key값은 고유한 값으로 가져와야 한다."
   ]
  },
  {
   "cell_type": "markdown",
   "id": "571984e9",
   "metadata": {},
   "source": [
    "#### keys, values, items 조회"
   ]
  },
  {
   "cell_type": "code",
   "execution_count": 23,
   "id": "29b8e2e9",
   "metadata": {},
   "outputs": [
    {
     "name": "stdout",
     "output_type": "stream",
     "text": [
      "dict_keys(['name', 'capa', 'price', 'maker', 'age', 'address', 'hobby'])\n",
      "dict_values(['홍길동', 1000, 4.123, 'SK-Hynix', 35, '서울', ['축구', '배구', '골프']])\n",
      "dict_items([('name', '홍길동'), ('capa', 1000), ('price', 4.123), ('maker', 'SK-Hynix'), ('age', 35), ('address', '서울'), ('hobby', ['축구', '배구', '골프'])])\n"
     ]
    }
   ],
   "source": [
    "print(myDict.keys())\n",
    "print(myDict.values())\n",
    "print(myDict.items())"
   ]
  },
  {
   "cell_type": "markdown",
   "id": "73193deb",
   "metadata": {},
   "source": [
    "#### enumerate"
   ]
  },
  {
   "cell_type": "code",
   "execution_count": 24,
   "id": "08728bd5",
   "metadata": {},
   "outputs": [
    {
     "name": "stdout",
     "output_type": "stream",
     "text": [
      "0 name\n",
      "1 capa\n",
      "2 price\n",
      "3 maker\n",
      "4 age\n",
      "5 address\n",
      "6 hobby\n"
     ]
    }
   ],
   "source": [
    "for index, value in enumerate(myDict):\n",
    "    print(index, value)"
   ]
  },
  {
   "cell_type": "markdown",
   "id": "dfdf0550",
   "metadata": {},
   "source": [
    "#### 값 수정, 추가"
   ]
  },
  {
   "cell_type": "code",
   "execution_count": 25,
   "id": "8d7d57f1",
   "metadata": {},
   "outputs": [],
   "source": [
    "# 값 수정\n",
    "myDict['name'] = 'NAND' # name은 원래 있는 key값\n",
    "# 값 추가\n",
    "myDict['name1'] = 'DRAM' # name1은 원래 없던 key값"
   ]
  },
  {
   "cell_type": "markdown",
   "id": "af02d87b",
   "metadata": {},
   "source": [
    "### * lambda 함수"
   ]
  },
  {
   "cell_type": "code",
   "execution_count": 26,
   "id": "2daa9bf6",
   "metadata": {},
   "outputs": [
    {
     "data": {
      "text/plain": [
       "7"
      ]
     },
     "execution_count": 26,
     "metadata": {},
     "output_type": "execute_result"
    }
   ],
   "source": [
    "(lambda a,b: a+b)(3,4)"
   ]
  },
  {
   "cell_type": "markdown",
   "id": "211e5eae",
   "metadata": {},
   "source": [
    "### * map 함수"
   ]
  },
  {
   "cell_type": "code",
   "execution_count": 27,
   "id": "55999270",
   "metadata": {},
   "outputs": [
    {
     "name": "stdout",
     "output_type": "stream",
     "text": [
      "[3, 2, 10, 5]\n"
     ]
    }
   ],
   "source": [
    "# map 함수\n",
    "testL = ['3', '2', '10', '5']\n",
    "result = list(map(int, testL))\n",
    "# map의 return type은 map이기 떄문에 list, tuple 등 원하는 자료형으로 바꿔줘야 한다.\n",
    "print(result)"
   ]
  },
  {
   "cell_type": "markdown",
   "id": "2d7d5f76",
   "metadata": {},
   "source": [
    "#### map 함수 + lambda 함수"
   ]
  },
  {
   "cell_type": "code",
   "execution_count": 28,
   "id": "dfd39eb1",
   "metadata": {},
   "outputs": [
    {
     "name": "stdout",
     "output_type": "stream",
     "text": [
      "[3, 2, 10, 5]\n"
     ]
    }
   ],
   "source": [
    "testL = ['3', '2', '10', '5']\n",
    "\n",
    "result1 = list(map(lambda x: int(x), testL))\n",
    "print(result1)"
   ]
  },
  {
   "cell_type": "code",
   "execution_count": null,
   "id": "15e72cee",
   "metadata": {},
   "outputs": [],
   "source": []
  },
  {
   "cell_type": "code",
   "execution_count": null,
   "id": "2b18c3ba",
   "metadata": {},
   "outputs": [],
   "source": []
  }
 ],
 "metadata": {
  "celltoolbar": "Raw Cell Format",
  "kernelspec": {
   "display_name": "Python 3 (ipykernel)",
   "language": "python",
   "name": "python3"
  },
  "language_info": {
   "codemirror_mode": {
    "name": "ipython",
    "version": 3
   },
   "file_extension": ".py",
   "mimetype": "text/x-python",
   "name": "python",
   "nbconvert_exporter": "python",
   "pygments_lexer": "ipython3",
   "version": "3.10.8"
  },
  "vscode": {
   "interpreter": {
    "hash": "a42ccb73e7d9bfdf27e036f1d2b8b681e55fc0743cc5586bc2474d4a60f4b886"
   }
  }
 },
 "nbformat": 4,
 "nbformat_minor": 5
}
