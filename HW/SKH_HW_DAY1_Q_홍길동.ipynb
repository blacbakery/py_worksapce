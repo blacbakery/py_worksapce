{
 "cells": [
  {
   "cell_type": "markdown",
   "metadata": {},
   "source": [
    "#### Q1 (문자열)\n",
    "\n",
    "    문자열 mystr = \"**(#@!**%(!@#(@#Hello123Python!!!\"을 생성한 후 다음 처리를 진행하세요.\n",
    "    - 문자열 앞(왼쪽부터)에 있는 기호들을 제거하세요.\n",
    "    - 문자열 가운데 있는 숫자를 제거하고 공백 하나를 넣어주세요.\n",
    "    - 문자열 대문자로 변경하세요."
   ]
  },
  {
   "cell_type": "code",
   "execution_count": 1,
   "metadata": {},
   "outputs": [
    {
     "data": {
      "text/plain": [
       "'**(#@!**%(!@#(@#Hello123Python!!!'"
      ]
     },
     "execution_count": 1,
     "metadata": {},
     "output_type": "execute_result"
    }
   ],
   "source": [
    "# code here\n",
    "\n"
   ]
  },
  {
   "cell_type": "code",
   "execution_count": 2,
   "metadata": {},
   "outputs": [
    {
     "data": {
      "text/plain": [
       "'Hello123Python!!!'"
      ]
     },
     "execution_count": 2,
     "metadata": {},
     "output_type": "execute_result"
    }
   ],
   "source": [
    "# code here\n",
    "# strip, lstrip\n",
    "\n"
   ]
  },
  {
   "cell_type": "code",
   "execution_count": 3,
   "metadata": {},
   "outputs": [
    {
     "data": {
      "text/plain": [
       "'Hello Python!!!'"
      ]
     },
     "execution_count": 3,
     "metadata": {},
     "output_type": "execute_result"
    }
   ],
   "source": [
    "# code here\n",
    "# replace\n",
    "\n"
   ]
  },
  {
   "cell_type": "code",
   "execution_count": 4,
   "metadata": {},
   "outputs": [
    {
     "data": {
      "text/plain": [
       "'HELLO PYTHON!!!'"
      ]
     },
     "execution_count": 4,
     "metadata": {},
     "output_type": "execute_result"
    }
   ],
   "source": [
    "# 대문자로 변경\n",
    "\n"
   ]
  },
  {
   "cell_type": "markdown",
   "metadata": {},
   "source": [
    "#### Q2 (리스트)\n",
    "\n",
    "    myList = [ 13,9,6,10,7,5 ]를 생성한 후 다음과 같이 결과가 나오도록 코드를 작성하시오.\n",
    "    \n",
    "    - 출력 결과가 [5, 7, 10, 6, 9, 13]이 되도록 코드를 작성하시오\n",
    "    - tempL = [1,3,2]를 만든 후, myList가 [5, 7, 10, 6, 9, 13, 1, 2, 3]이 되도록 tempL과 myList를 \n",
    "    이용하여 코드를 작성하시오\n"
   ]
  },
  {
   "cell_type": "code",
   "execution_count": 3,
   "metadata": {},
   "outputs": [
    {
     "data": {
      "text/plain": [
       "[5, 7, 10, 6, 9, 13]"
      ]
     },
     "execution_count": 3,
     "metadata": {},
     "output_type": "execute_result"
    }
   ],
   "source": [
    "# [5, 7, 10, 6, 9, 13] 출력 코드\n",
    "# 슬라이싱으로 뒤집기\n"
   ]
  },
  {
   "cell_type": "code",
   "execution_count": 28,
   "metadata": {},
   "outputs": [
    {
     "data": {
      "text/plain": [
       "[5, 7, 10, 6, 9, 13, 1, 2, 3]"
      ]
     },
     "execution_count": 28,
     "metadata": {},
     "output_type": "execute_result"
    }
   ],
   "source": [
    "# [5, 7, 10, 6, 9, 13, 1, 2, 3] 출력 코드\n",
    "# mylist 뒤집기\n",
    "# tempL 정렬\n",
    "# 합치기\n"
   ]
  },
  {
   "cell_type": "markdown",
   "metadata": {},
   "source": [
    "#### Q3 (리스트)\n",
    "    - 아래의 값을 저장하고 있는 myList 변수를 생성하세요.\n",
    "      myList = [[1,2,3],[4,5,6],[7,8]]\n",
    "    - myList에 9를 추가하세요.\n",
    "      결과: [[1,2,3],[4,5,6],[7,8,9]]\n",
    "    - myList에 [1,1,1]을 추가하세요.\n",
    "      결과: [[1,2,3],[1,1,1],[4,5,6],[7,8,9]]\n",
    "    - myList의 값을 다음과 같이 수정하세요.\n",
    "      결과: [[1,2,3],[2,3,1],[4,5,6],[7,8,9]]"
   ]
  },
  {
   "cell_type": "code",
   "execution_count": 19,
   "metadata": {},
   "outputs": [
    {
     "data": {
      "text/plain": [
       "[[1, 2, 3], [4, 5, 6], [7, 8, 9]]"
      ]
     },
     "execution_count": 19,
     "metadata": {},
     "output_type": "execute_result"
    }
   ],
   "source": [
    "# [[1, 2, 3], [4, 5, 6], [7, 8, 9]] 출력 코드\n",
    "# 인덱싱 + 추가\n"
   ]
  },
  {
   "cell_type": "code",
   "execution_count": 20,
   "metadata": {},
   "outputs": [
    {
     "data": {
      "text/plain": [
       "[[1, 2, 3], [1, 1, 1], [4, 5, 6], [7, 8, 9]]"
      ]
     },
     "execution_count": 20,
     "metadata": {},
     "output_type": "execute_result"
    }
   ],
   "source": [
    "# [[1, 2, 3], [1, 1, 1], [4, 5, 6], [7, 8, 9]] 출력 코드\n",
    "# insert\n"
   ]
  },
  {
   "cell_type": "code",
   "execution_count": 23,
   "metadata": {},
   "outputs": [
    {
     "data": {
      "text/plain": [
       "[[1, 2, 3], [2, 3, 1], [4, 5, 6], [7, 8, 9]]"
      ]
     },
     "execution_count": 23,
     "metadata": {},
     "output_type": "execute_result"
    }
   ],
   "source": [
    "# [[1, 2, 3], [2, 3, 1], [4, 5, 6], [7, 8, 9]] 출력 코드\n",
    "# 인덱싱으로 2회 수행 각각 수정\n",
    "# 슬라이싱으로 1회 수행 수정\n"
   ]
  },
  {
   "cell_type": "markdown",
   "metadata": {},
   "source": [
    "#### Q4 (딕셔너리)\n",
    "    - 학생들의 이름과 점수를 key와 value로 가지는 score 사전을 생성하세요.\n",
    "      : 하준 90점, 서윤 86점, 지아 80점\n",
    "    - score 사전에 수지 95점을 추가하세요.\n",
    "    - score 사전에서 지아를 삭제하세요.\n",
    "    - input함수를 이용하여 이름을 입력 받은 후 이름에 해당하는 점수를 출력하세요\n",
    "        * 이름이 없어도 오류가 발생하면 안 됩니다.\n",
    "        * 이름이 없으면 '이름을 다시 확인하세요'를 출력하세요."
   ]
  },
  {
   "cell_type": "code",
   "execution_count": 11,
   "metadata": {
    "scrolled": true
   },
   "outputs": [
    {
     "data": {
      "text/plain": [
       "{'하준': 90, '서윤': 86, '지아': 80}"
      ]
     },
     "execution_count": 11,
     "metadata": {},
     "output_type": "execute_result"
    }
   ],
   "source": [
    "# 사전 생성 코드\n"
   ]
  },
  {
   "cell_type": "code",
   "execution_count": 12,
   "metadata": {},
   "outputs": [
    {
     "data": {
      "text/plain": [
       "{'하준': 90, '서윤': 86, '지아': 80, '수지': 95}"
      ]
     },
     "execution_count": 12,
     "metadata": {},
     "output_type": "execute_result"
    }
   ],
   "source": [
    "# 수지 추가 코드\n"
   ]
  },
  {
   "cell_type": "code",
   "execution_count": 13,
   "metadata": {},
   "outputs": [
    {
     "data": {
      "text/plain": [
       "{'하준': 90, '서윤': 86, '수지': 95}"
      ]
     },
     "execution_count": 13,
     "metadata": {},
     "output_type": "execute_result"
    }
   ],
   "source": [
    "# 지아 삭제 코드\n"
   ]
  },
  {
   "cell_type": "code",
   "execution_count": 27,
   "metadata": {},
   "outputs": [
    {
     "name": "stdout",
     "output_type": "stream",
     "text": [
      "이름을 입력하시오: 안녕\n",
      "이름을 다시 확인하세요.\n"
     ]
    }
   ],
   "source": [
    "# 점수 조회 코드\n",
    "\n",
    "# 입력 (이름)\n",
    "\n",
    "# 이름을 이용하여 사전을 조회 (값 유무)\n",
    "\n",
    "# 조건문 이용하여 key 유무에 따라 이름 혹은 오류 메시지를 출력\n"
   ]
  }
 ],
 "metadata": {
  "kernelspec": {
   "display_name": "Python 3 (ipykernel)",
   "language": "python",
   "name": "python3"
  },
  "language_info": {
   "codemirror_mode": {
    "name": "ipython",
    "version": 3
   },
   "file_extension": ".py",
   "mimetype": "text/x-python",
   "name": "python",
   "nbconvert_exporter": "python",
   "pygments_lexer": "ipython3",
   "version": "3.9.8"
  },
  "toc": {
   "base_numbering": 1,
   "nav_menu": {},
   "number_sections": true,
   "sideBar": true,
   "skip_h1_title": false,
   "title_cell": "Table of Contents",
   "title_sidebar": "Contents",
   "toc_cell": false,
   "toc_position": {},
   "toc_section_display": true,
   "toc_window_display": false
  }
 },
 "nbformat": 4,
 "nbformat_minor": 2
}
