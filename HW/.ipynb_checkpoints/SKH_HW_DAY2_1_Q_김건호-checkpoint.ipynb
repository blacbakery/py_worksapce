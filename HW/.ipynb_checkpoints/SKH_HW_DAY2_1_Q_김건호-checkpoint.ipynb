{
 "cells": [
  {
   "cell_type": "markdown",
   "metadata": {},
   "source": [
    "#### Q1) 입력한 단어의 모음 개수(A,E,I,O,U,a,e,i,o,u)를 카운트 하는 프로그램을 구현하세요\n",
    "    - 키보드 입력 : HeLLO\n",
    "    - 결과출력 : 2개"
   ]
  },
  {
   "cell_type": "code",
   "execution_count": 3,
   "metadata": {},
   "outputs": [
    {
     "name": "stdout",
     "output_type": "stream",
     "text": [
      "단어를 입력하세요: AAAAAApple\n",
      "모음 갯수는 7개입니다.\n"
     ]
    }
   ],
   "source": [
    "#Code here\n",
    "vowel=('A','E','I','O','U','a','e','i','o','u')\n",
    "word=input(\"단어를 입력하세요: \")\n",
    "\n",
    "tot=0\n",
    "for _ in word:\n",
    "    if _ in vowel:\n",
    "        tot += 1\n",
    "\n",
    "print(f'모음 갯수는 {tot}개입니다.')"
   ]
  },
  {
   "cell_type": "markdown",
   "metadata": {},
   "source": [
    "\n",
    "\n",
    "#### 아래 2, 3, 4 번중 한 문제를 선택하여 푸시면 됩니다 물론 3문제를 다 풀어도 좋습니다.   난이도는 4번 약간 높습니다. \n",
    "\n"
   ]
  },
  {
   "cell_type": "markdown",
   "metadata": {},
   "source": [
    "#### Q2) 인자값으로 전달된 2개 정수 포함 두수 사이의 모든 정수의 합을 구하는 함수를 구현하세요\n",
    "\n",
    "    1) 함수명 : getBetweenSum(a, b)\n",
    "  \n",
    "    2) 함수 기능 설명\n",
    "    - 함수의 인자값으로 전달받은 data는 2개의 정수값입니다. \n",
    "      예를 들어 2, 4가 전달되면 2, 3, 4 의 합을 구한후 합을 반환하도록 구현하면 됩니다. \n",
    "    - 고려사항\n",
    "      : 전달되는 형태가 항상 b가 a 보다 큰값이 전달되는 것이 아니라 a가 b 보다 클수도 있다\n",
    "        같은 값이 전달되는 경우는 없다고 가정하고 구현해 보자. "
   ]
  },
  {
   "cell_type": "code",
   "execution_count": 4,
   "metadata": {},
   "outputs": [],
   "source": [
    "def getBeetweenSum(a, b):\n",
    "    pass"
   ]
  },
  {
   "cell_type": "code",
   "execution_count": 3,
   "metadata": {},
   "outputs": [
    {
     "name": "stdout",
     "output_type": "stream",
     "text": [
      "9\n",
      "14\n"
     ]
    }
   ],
   "source": [
    "#result 9 출력됨\n",
    "result = getBeetweenSum(2,4)\n",
    "print(result)\n",
    "#결과값 14 출력됨\n",
    "result1 = getBeetweenSum(5,2)\n",
    "print(result1)"
   ]
  },
  {
   "cell_type": "markdown",
   "metadata": {},
   "source": [
    "#### Q3) 입력된 이름의 성을 가진 고객의 정보를 리스트로 반환하는 함수를 구현하세요\n",
    "\n",
    "\n",
    "    - 함수의 인자값으로 전달받은 data는 고객의 이름이 저장된 리스트입니다.\n",
    "      ex) ['우영우', '박은빈', '주현영', '동그라미', '이순신']\n",
    "    - findLee 함수는 '이'씨 성을 가진 모든 사람을 리스트 형태로 반환합니다."
   ]
  },
  {
   "cell_type": "code",
   "execution_count": 7,
   "metadata": {},
   "outputs": [],
   "source": [
    "# findLee 함수\n",
    "def findLee(lastName, data):\n",
    "    pass"
   ]
  },
  {
   "cell_type": "code",
   "execution_count": 6,
   "metadata": {},
   "outputs": [
    {
     "name": "stdout",
     "output_type": "stream",
     "text": [
      "['이순신']\n"
     ]
    }
   ],
   "source": [
    "# '이'씨 성을 가진 사람 출력\n",
    "result = findLee('이', ['우영우', '박은빈', '주현영', '동그라미', '이순신', '신동진'])\n",
    "print(result)"
   ]
  },
  {
   "cell_type": "markdown",
   "metadata": {},
   "source": [
    "#### Q4) 팀원 전체의 평가 점수 평균을 구하는 함수를 구현하세요\n",
    "\n",
    "    1) 함수명 : getTeamScore(data)\n",
    "  \n",
    "    2) 함수 기능 설명\n",
    "    - 함수의 인자값으로 전달받은 data는 A회사 B팀 직원 전체의 평가등급를 나타냅니다.\n",
    "      data 매개변수에 문자열로 A+,A,B+,C,D 값이 전달된다.(최소 5명 이상)\n",
    "    - 평가 등급별 평가점수 \n",
    "      : S 10.0, A+ 9.5, A 9.0, B+ 8.5, B 8.0, C 7.5, D 6.5\n",
    "    - 팀 직원의 점수 평균을 계산해서 소수점 첫째자리까지 반환\n",
    "    - 5명 미만이면 -1 반환"
   ]
  },
  {
   "cell_type": "code",
   "execution_count": 67,
   "metadata": {},
   "outputs": [
    {
     "name": "stdout",
     "output_type": "stream",
     "text": [
      "['A+', 'A', 'B+', 'C', 'D'] <class 'list'>\n"
     ]
    }
   ],
   "source": [
    "values = input('평가등급을 입력하세요 (ex, A+,A,B+,C,D)')\n",
    "s_values = values.split(',')\n",
    "print(s_values, type(s_values))"
   ]
  },
  {
   "cell_type": "code",
   "execution_count": 6,
   "metadata": {},
   "outputs": [],
   "source": [
    "# code here\n",
    "grade = {'S':10.0, 'A+': 9.5, 'A': 9.0, 'B+': 8.5, 'B': 8.0, 'C': 7.5, 'D': 6.5}\n",
    "\n",
    "def getTeamScore(data):\n",
    "    split_data=data.split(',') #입력된 값을 ','을 기준으로 list에 원소에 넣어줌\n",
    "\n",
    "    if len(split_data) < 5: #입력된 값이 5명 미만이 경우 -1 반환\n",
    "        return -1 #1 반환\n",
    "    \n",
    "    slot=[]\n",
    "    for score in list(split_data):  #입력된 값이 5명 이상일 경우 실행\n",
    "         slot.append(grade[score]) #각 grade에 해당하는 점수값을 원소로 하는 list 생성\n",
    "    return round(sum(slot)/len(split_data),1) #점수값을 원소로 하는 list의 평균 반환"
   ]
  },
  {
   "cell_type": "code",
   "execution_count": 7,
   "metadata": {},
   "outputs": [
    {
     "name": "stdout",
     "output_type": "stream",
     "text": [
      "평가등급을 입력하세요 (ex, A+,A,B+,C,D) A+,A,B+,C,D\n"
     ]
    },
    {
     "data": {
      "text/plain": [
       "8.2"
      ]
     },
     "execution_count": 7,
     "metadata": {},
     "output_type": "execute_result"
    }
   ],
   "source": [
    "# 테스트 코드 (그대로 실행)\n",
    "#키보드로부터 5개의 값을 입력받아 입력받은 값을 함자의 인자값으로 전달하여 테스트해 보세요 ~~\n",
    "#키보드를 통해 A+,A,B+,C,D 입력시 8.2가 출력됩니다. \n",
    "\n",
    "values = input('평가등급을 입력하세요 (ex, A+,A,B+,C,D) ')\n",
    "getTeamScore(values)"
   ]
  }
 ],
 "metadata": {
  "kernelspec": {
   "display_name": "Python 3 (ipykernel)",
   "language": "python",
   "name": "python3"
  },
  "language_info": {
   "codemirror_mode": {
    "name": "ipython",
    "version": 3
   },
   "file_extension": ".py",
   "mimetype": "text/x-python",
   "name": "python",
   "nbconvert_exporter": "python",
   "pygments_lexer": "ipython3",
   "version": "3.10.8"
  },
  "toc": {
   "base_numbering": 1,
   "nav_menu": {},
   "number_sections": true,
   "sideBar": true,
   "skip_h1_title": false,
   "title_cell": "Table of Contents",
   "title_sidebar": "Contents",
   "toc_cell": false,
   "toc_position": {},
   "toc_section_display": true,
   "toc_window_display": false
  },
  "vscode": {
   "interpreter": {
    "hash": "a42ccb73e7d9bfdf27e036f1d2b8b681e55fc0743cc5586bc2474d4a60f4b886"
   }
  }
 },
 "nbformat": 4,
 "nbformat_minor": 4
}
