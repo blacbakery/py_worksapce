{
 "cells": [
  {
   "cell_type": "markdown",
   "metadata": {
    "id": "nAaKsEewHxvr"
   },
   "source": [
    "### Numpy"
   ]
  },
  {
   "cell_type": "code",
   "execution_count": 2,
   "metadata": {
    "id": "g-3wvH8jHxvv"
   },
   "outputs": [],
   "source": [
    "import numpy as np"
   ]
  },
  {
   "cell_type": "markdown",
   "metadata": {
    "id": "QEXQf5rSHxvw"
   },
   "source": [
    "#### 1)  0~1000사이의 랜덤 정수 25개를 1차원 배열의 형태로 생성하여 arr1에 저장하세요.\n",
    "* 값 범위: [0, 1000]\n",
    "* 중복 값은 허용합니다."
   ]
  },
  {
   "cell_type": "code",
   "execution_count": 3,
   "metadata": {
    "colab": {
     "base_uri": "https://localhost:8080/"
    },
    "id": "O1OkbyfLHxvw",
    "outputId": "15327989-17fc-449c-d718-8b092031c729"
   },
   "outputs": [
    {
     "data": {
      "text/plain": [
       "array([103, 815, 571, 934, 599, 945,  71, 669, 639, 116, 423, 985, 814,\n",
       "       506, 792, 295, 914, 397, 654,  32, 859, 321, 850, 340, 325])"
      ]
     },
     "execution_count": 3,
     "metadata": {},
     "output_type": "execute_result"
    }
   ],
   "source": [
    "np.random.seed(777)\n",
    "# np.random.randint 함수 이용\n",
    "arr1 = np.random.randint(0,1001,size=25)\n",
    "arr1"
   ]
  },
  {
   "cell_type": "markdown",
   "metadata": {
    "id": "JU--Df2sHxvx"
   },
   "source": [
    "#### 2) arr1의 크기(shape)을 5행 자동 열로 변경하여 arr2에 저장하세요."
   ]
  },
  {
   "cell_type": "code",
   "execution_count": 4,
   "metadata": {
    "colab": {
     "base_uri": "https://localhost:8080/"
    },
    "id": "vGk8y7iQHxvx",
    "outputId": "fa51d018-512f-43e9-d570-d325f66ea50a"
   },
   "outputs": [
    {
     "data": {
      "text/plain": [
       "array([[103, 815, 571, 934, 599],\n",
       "       [945,  71, 669, 639, 116],\n",
       "       [423, 985, 814, 506, 792],\n",
       "       [295, 914, 397, 654,  32],\n",
       "       [859, 321, 850, 340, 325]])"
      ]
     },
     "execution_count": 4,
     "metadata": {},
     "output_type": "execute_result"
    }
   ],
   "source": [
    "# code here\n",
    "arr2=arr1.reshape(5,-1)\n",
    "arr2"
   ]
  },
  {
   "cell_type": "markdown",
   "metadata": {
    "id": "8LjYA7cATcL8"
   },
   "source": [
    "####  3) arr2의 요소 중 71에 10을 곱하세요."
   ]
  },
  {
   "cell_type": "code",
   "execution_count": 5,
   "metadata": {
    "colab": {
     "base_uri": "https://localhost:8080/"
    },
    "id": "xjNb0LmGHxvx",
    "outputId": "07f165b0-fca5-479c-c50b-8efc449d781f"
   },
   "outputs": [
    {
     "data": {
      "text/plain": [
       "array([[103, 815, 571, 934, 599],\n",
       "       [945, 710, 669, 639, 116],\n",
       "       [423, 985, 814, 506, 792],\n",
       "       [295, 914, 397, 654,  32],\n",
       "       [859, 321, 850, 340, 325]])"
      ]
     },
     "execution_count": 5,
     "metadata": {},
     "output_type": "execute_result"
    }
   ],
   "source": [
    "# code here\n",
    "arr2[1,1]*=10\n",
    "arr2"
   ]
  },
  {
   "cell_type": "markdown",
   "metadata": {
    "id": "CwYOM2gnHxvy"
   },
   "source": [
    "####  4) arr2의 요소 중 가운데 위치한 9개 요소를 추출하여 arr3에 저장하세요."
   ]
  },
  {
   "cell_type": "code",
   "execution_count": 6,
   "metadata": {
    "colab": {
     "base_uri": "https://localhost:8080/"
    },
    "id": "jQLHHJpRHxvy",
    "outputId": "8acc31ed-7d52-4679-deff-d67b72a0bc49"
   },
   "outputs": [
    {
     "data": {
      "text/plain": [
       "array([[710, 669, 639],\n",
       "       [985, 814, 506],\n",
       "       [914, 397, 654]])"
      ]
     },
     "execution_count": 6,
     "metadata": {},
     "output_type": "execute_result"
    }
   ],
   "source": [
    "# code here\n",
    "arr3=arr2[1:4,1:4]\n",
    "arr3\n",
    "\n",
    "idx = slice(1,4)  #slice라는 객체를 사용해서 만들 수도 있음\n",
    "arr3=arr2[idx, idx]\n",
    "arr3"
   ]
  },
  {
   "cell_type": "markdown",
   "metadata": {
    "id": "C9jlK9FbHxvy"
   },
   "source": [
    "#### 5) arr3의 0행 0열의 값을 0으로 변경후, 원본 배열 arr2가 수정됐는지 확인하세요"
   ]
  },
  {
   "cell_type": "code",
   "execution_count": 7,
   "metadata": {},
   "outputs": [],
   "source": [
    "# code here\n",
    "arr3[0,0]=0"
   ]
  },
  {
   "cell_type": "code",
   "execution_count": 9,
   "metadata": {},
   "outputs": [
    {
     "data": {
      "text/plain": [
       "array([[103, 815, 571, 934, 599],\n",
       "       [945,   0, 669, 639, 116],\n",
       "       [423, 985, 814, 506, 792],\n",
       "       [295, 914, 397, 654,  32],\n",
       "       [859, 321, 850, 340, 325]])"
      ]
     },
     "execution_count": 9,
     "metadata": {},
     "output_type": "execute_result"
    }
   ],
   "source": [
    "arr2"
   ]
  },
  {
   "cell_type": "markdown",
   "metadata": {
    "id": "Frgo0-CrHxvz"
   },
   "source": [
    "####  6) arr2에서 다시 가운데 9개를 추출한 후  arr4에 저장하되, 원본 배열 arr2가 수정되지 않도록 연산하세요. \n",
    "    - copy 함수사용"
   ]
  },
  {
   "cell_type": "code",
   "execution_count": 10,
   "metadata": {
    "colab": {
     "base_uri": "https://localhost:8080/"
    },
    "id": "VUR7HKRaHxvz",
    "outputId": "506a4c2e-c9a5-43a3-c030-da75dc42c06f"
   },
   "outputs": [
    {
     "data": {
      "text/plain": [
       "array([[  0, 669, 639],\n",
       "       [985, 814, 506],\n",
       "       [914, 397, 654]])"
      ]
     },
     "execution_count": 10,
     "metadata": {},
     "output_type": "execute_result"
    }
   ],
   "source": [
    "# code here\n",
    "arr4=arr2[1:4,1:4].copy()\n",
    "arr4"
   ]
  },
  {
   "cell_type": "markdown",
   "metadata": {},
   "source": [
    "#### 7) arr4의 0행 0열의 값을 1로 변경하세요.원본인 arr2 가 바뀌었는지 확인해보세요.(arr2출력)"
   ]
  },
  {
   "cell_type": "code",
   "execution_count": 11,
   "metadata": {},
   "outputs": [
    {
     "data": {
      "text/plain": [
       "array([[  1, 669, 639],\n",
       "       [985, 814, 506],\n",
       "       [914, 397, 654]])"
      ]
     },
     "execution_count": 11,
     "metadata": {},
     "output_type": "execute_result"
    }
   ],
   "source": [
    "# code here\n",
    "arr4[0,0]=1\n",
    "arr4"
   ]
  },
  {
   "cell_type": "code",
   "execution_count": 12,
   "metadata": {
    "colab": {
     "base_uri": "https://localhost:8080/"
    },
    "id": "oTmikQ33Hxvz",
    "outputId": "d12c1e20-1f42-45bd-f5dc-d9d1fa316863"
   },
   "outputs": [
    {
     "data": {
      "text/plain": [
       "array([[103, 815, 571, 934, 599],\n",
       "       [945,   0, 669, 639, 116],\n",
       "       [423, 985, 814, 506, 792],\n",
       "       [295, 914, 397, 654,  32],\n",
       "       [859, 321, 850, 340, 325]])"
      ]
     },
     "execution_count": 12,
     "metadata": {},
     "output_type": "execute_result"
    }
   ],
   "source": [
    "arr2"
   ]
  },
  {
   "cell_type": "markdown",
   "metadata": {
    "id": "_KU9M5YwHxvz"
   },
   "source": [
    "#### 8) arr2의 요소 중 500 이상인 요소만 추출하여 arr5에 저장하고, 크기(shape)을 3행 자동 열로 변경하세요."
   ]
  },
  {
   "cell_type": "code",
   "execution_count": 13,
   "metadata": {
    "colab": {
     "base_uri": "https://localhost:8080/"
    },
    "id": "XeHNAot0Hxv0",
    "outputId": "d7270dea-5260-44bd-9851-417945229f57"
   },
   "outputs": [
    {
     "data": {
      "text/plain": [
       "array([[815, 571, 934, 599, 945],\n",
       "       [669, 639, 985, 814, 506],\n",
       "       [792, 914, 654, 859, 850]])"
      ]
     },
     "execution_count": 13,
     "metadata": {},
     "output_type": "execute_result"
    }
   ],
   "source": [
    "# code here\n",
    "arr5=arr2[arr2>=500].reshape(3,-1)\n",
    "arr5"
   ]
  },
  {
   "cell_type": "markdown",
   "metadata": {
    "id": "M410dWNbVfud"
   },
   "source": [
    "#### 9) arr2의 열 별 평균과 표준편차를 출력하세요."
   ]
  },
  {
   "cell_type": "code",
   "execution_count": 116,
   "metadata": {
    "colab": {
     "base_uri": "https://localhost:8080/"
    },
    "id": "Dm1KTz2RVoiS",
    "outputId": "2a50b2cc-1e21-40e7-b616-a2ed5a634fba"
   },
   "outputs": [
    {
     "data": {
      "text/plain": [
       "(array([525. , 607. , 660.2, 614.6, 372.8]),\n",
       " array([325.37486074, 382.26744565, 165.52147897, 195.63394389,\n",
       "        286.79986053]))"
      ]
     },
     "execution_count": 116,
     "metadata": {},
     "output_type": "execute_result"
    }
   ],
   "source": [
    "# code here\n",
    "arr2_mean=arr2.mean(axis=0)\n",
    "arr2_std=arr2.std(axis=0)\n",
    "(arr2_mean,arr2_std)"
   ]
  },
  {
   "cell_type": "markdown",
   "metadata": {
    "id": "BAnqS8u-Vv7B"
   },
   "source": [
    "#### 10) arr2의 행 별 평균과 표준편차를 출력하세요."
   ]
  },
  {
   "cell_type": "code",
   "execution_count": 117,
   "metadata": {
    "colab": {
     "base_uri": "https://localhost:8080/"
    },
    "id": "t_1hLY8IVrcj",
    "outputId": "4bbc569b-367e-4b0b-c5b8-c23094567c4e"
   },
   "outputs": [
    {
     "data": {
      "text/plain": [
       "(array([604.4, 473.8, 704. , 458.4, 539. ]),\n",
       " array([284.79297744, 357.75153389, 208.3122656 , 302.6936405 ,\n",
       "        257.69827318]))"
      ]
     },
     "execution_count": 117,
     "metadata": {},
     "output_type": "execute_result"
    }
   ],
   "source": [
    "# code here\n",
    "arr2_mean=arr2.mean(axis=1)\n",
    "arr2_std=arr2.std(axis=1)\n",
    "(arr2_mean,arr2_std)"
   ]
  },
  {
   "cell_type": "markdown",
   "metadata": {
    "id": "t9I7dQlsHxv0"
   },
   "source": [
    "#### 11)  arr2의 요소 중 500 미만인 요소는 0으로, 500 이상인 요소는 500으로 변경하여 arr6에 저장하세요"
   ]
  },
  {
   "cell_type": "code",
   "execution_count": 118,
   "metadata": {
    "colab": {
     "base_uri": "https://localhost:8080/"
    },
    "id": "p29Hn8mJHxv0",
    "outputId": "9e687172-0036-454b-c2df-29978cd5b89e",
    "scrolled": false
   },
   "outputs": [
    {
     "data": {
      "text/plain": [
       "array([[  0, 500, 500, 500, 500],\n",
       "       [500,   0, 500, 500,   0],\n",
       "       [  0, 500, 500, 500, 500],\n",
       "       [  0, 500,   0, 500,   0],\n",
       "       [500,   0, 500,   0,   0]])"
      ]
     },
     "execution_count": 118,
     "metadata": {},
     "output_type": "execute_result"
    }
   ],
   "source": [
    "# code here\n",
    "arr6=np.where(arr2<500,0,500)\n",
    "arr6"
   ]
  },
  {
   "cell_type": "markdown",
   "metadata": {
    "id": "j7eoC2m8WM0S"
   },
   "source": [
    "#### 12) arr6의 열 별 평균을 출력하세요"
   ]
  },
  {
   "cell_type": "code",
   "execution_count": 119,
   "metadata": {
    "colab": {
     "base_uri": "https://localhost:8080/"
    },
    "id": "RFUL0DBfWKnf",
    "outputId": "46e0927a-7be2-4b65-b1d7-9acf53c37d7f"
   },
   "outputs": [
    {
     "data": {
      "text/plain": [
       "array([200., 300., 400., 400., 200.])"
      ]
     },
     "execution_count": 119,
     "metadata": {},
     "output_type": "execute_result"
    }
   ],
   "source": [
    "# code here\n",
    "arr6.mean(axis=0)"
   ]
  },
  {
   "cell_type": "markdown",
   "metadata": {
    "id": "beAMXR7yWqy4"
   },
   "source": [
    "#### 13) arr6의 전체 평균을 출력하세요."
   ]
  },
  {
   "cell_type": "code",
   "execution_count": 120,
   "metadata": {
    "colab": {
     "base_uri": "https://localhost:8080/"
    },
    "id": "fJ1p9tlBWPGy",
    "outputId": "64d9fc4d-fbf5-45e1-a276-35b73a4e08ef"
   },
   "outputs": [
    {
     "data": {
      "text/plain": [
       "300.0"
      ]
     },
     "execution_count": 120,
     "metadata": {},
     "output_type": "execute_result"
    }
   ],
   "source": [
    "# code here\n",
    "arr6.mean()"
   ]
  },
  {
   "cell_type": "code",
   "execution_count": null,
   "metadata": {},
   "outputs": [],
   "source": []
  }
 ],
 "metadata": {
  "colab": {
   "collapsed_sections": [],
   "name": "SKH_DAY3_S.ipynb",
   "provenance": []
  },
  "kernelspec": {
   "display_name": "Python 3 (ipykernel)",
   "language": "python",
   "name": "python3"
  },
  "language_info": {
   "codemirror_mode": {
    "name": "ipython",
    "version": 3
   },
   "file_extension": ".py",
   "mimetype": "text/x-python",
   "name": "python",
   "nbconvert_exporter": "python",
   "pygments_lexer": "ipython3",
   "version": "3.10.8"
  },
  "toc": {
   "base_numbering": 1,
   "nav_menu": {},
   "number_sections": true,
   "sideBar": true,
   "skip_h1_title": false,
   "title_cell": "Table of Contents",
   "title_sidebar": "Contents",
   "toc_cell": false,
   "toc_position": {},
   "toc_section_display": true,
   "toc_window_display": false
  },
  "vscode": {
   "interpreter": {
    "hash": "a42ccb73e7d9bfdf27e036f1d2b8b681e55fc0743cc5586bc2474d4a60f4b886"
   }
  }
 },
 "nbformat": 4,
 "nbformat_minor": 1
}
