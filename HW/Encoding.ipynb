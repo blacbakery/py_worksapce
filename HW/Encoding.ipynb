{
 "cells": [
  {
   "cell_type": "code",
   "execution_count": null,
   "id": "b4d167d8",
   "metadata": {},
   "outputs": [],
   "source": [
    "import pandas as pd\n",
    "df = pd.DataFrame({'X': list('ABCAABBC'), \n",
    "                  'Y': list('DDCCEEDC'),\n",
    "                  'Z':[1,2,3,4,1,2,3,4]})\n",
    "s = pd.Series(list('ABCAABBC'))\n",
    "s"
   ]
  },
  {
   "cell_type": "code",
   "execution_count": null,
   "id": "8aef2cc1",
   "metadata": {},
   "outputs": [],
   "source": [
    "from sklearn.preprocessing import LabelEncoder\n",
    "encoder = LabelEncoder()\n",
    "r = encoder.fit_transform(s)\n",
    "r"
   ]
  },
  {
   "cell_type": "code",
   "execution_count": null,
   "id": "c0a4aa8d",
   "metadata": {},
   "outputs": [],
   "source": [
    "pd.get_dummies(df['Z'])"
   ]
  },
  {
   "cell_type": "code",
   "execution_count": null,
   "id": "546117db",
   "metadata": {},
   "outputs": [],
   "source": [
    "# One Hot Encoding\n",
    "df = pd.get_dummies(df)\n",
    "df"
   ]
  }
 ],
 "metadata": {
  "kernelspec": {
   "display_name": "Python 3 (ipykernel)",
   "language": "python",
   "name": "python3"
  },
  "language_info": {
   "codemirror_mode": {
    "name": "ipython",
    "version": 3
   },
   "file_extension": ".py",
   "mimetype": "text/x-python",
   "name": "python",
   "nbconvert_exporter": "python",
   "pygments_lexer": "ipython3",
   "version": "3.9.13"
  }
 },
 "nbformat": 4,
 "nbformat_minor": 5
}
