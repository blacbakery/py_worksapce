{
 "cells": [
  {
   "cell_type": "markdown",
   "metadata": {},
   "source": [
    "## P-Camp 2022 - 하반기 7차수 프로젝트\n",
    "본 프로젝트는 국가 별 정보를 토대로 기대 수명을 예측하는 것이 목표입니다. "
   ]
  },
  {
   "cell_type": "markdown",
   "metadata": {},
   "source": [
    "## 데이터 설명\n",
    "\n",
    "#### train_x.csv (독립 변수 파일)\n",
    "- ID: 데이터 번호 (key)\n",
    "- Country: 국가\n",
    "- Year: 년도\n",
    "- Status: 국가 상태 (선진국, 개발도상국)\n",
    "- Adult Mortality: 성인 사망 수치\n",
    "- Infant deaths: 영아 사망 수치\n",
    "- Alcohol: 알콜 수치\n",
    "- percentage expenditure: 지출 백분율\n",
    "- Hepatitis B: B형 간염 보균율\n",
    "- Measles: 홍역 환자 수\n",
    "- BMI: BMI 수치\n",
    "- under-five deaths: 5세 이하 사망 수\n",
    "- Polio: 소아마비 비율\n",
    "- Total Expenditure: 전체 지출\n",
    "- Diphtheria: 디프테리아 비율\n",
    "- HIV/AIDS: HIV/AIDS 비율\n",
    "- GDP: 국내 총 생산\n",
    "- Population: 대상 인구\n",
    "- thinness  1-19 years: 1-19세 마름정도\n",
    "- thinness 5-9 years: 5-9세 마름정도\n",
    "- Income composition of resources: 인간 개발 지수, 인간 발전 정도, 선진화 정도\n",
    "- Schooling: 교육\n",
    "  \n",
    "#### train_y.csv (종속 변수 파일)\n",
    "- ID: 데이터 번호 (key)\n",
    "- Life expectancy: 기대 수명"
   ]
  },
  {
   "cell_type": "markdown",
   "metadata": {},
   "source": [
    "\n",
    "\n",
    "# 1. EDA & 데이터 전처리\n",
    "\n",
    "- #### 사용 데이터\n",
    "    - train_x.csv\n",
    "    - train_y.csv    \n",
    "    \n",
    "- #### 수행 내용\n",
    "    1. 2개의 파일을 읽고 데이터 프레임을 합쳐 EDA 작업을 진행하세요.\n",
    "    2. 결측치 처리, 시각화, Groupby, Pivoting등 다양한 방법으로 EDA 작업을 해보세요.\n",
    "    3. 성능향상을 위한 다양한 작업을 해보세요\n",
    "  \n",
    "- #### 가점 사항\n",
    "    1. 작성한 코드에 대해 설명을 달아 주시면 가점이 있습니다.\n",
    "    2. 시각화를 다양하게 하셔도 가점이 있습니다.\n",
    "    3. EDA 방법을 다양하게 하셨을때 가점이 있습니다.\n"
   ]
  },
  {
   "cell_type": "markdown",
   "metadata": {},
   "source": [
    "# 2. ML\n",
    "    \n",
    "    \n",
    "- #### 수행 내용\n",
    "    1. EDA 문제에서 작업한 데이터를 이용하여 머신러닝 알고리즘을 적용하세요.\n",
    "    2. 가능한 좋은 결과가 나오도록 하이퍼파라미터를 조정해주세요.\n",
    "    3. 데이터 분할 시, **random_state=0**, **train:test** 비율을 **75:25**로 해주세요.\n",
    "    4. 성능 평가 기본 지표는 $R^2$와 **RMSE**로 출력하세요\n",
    " \n",
    "    \n",
    "- #### 가점 사항\n",
    "    1. 다양한 알고리즘을 사용하는 경우 가점이 있습니다.\n",
    "    2. 시각화를 다양하게 하셔도 가점이 있습니다.\n",
    "    3. 결과에 대한 설명을 작성하시면 가점이 있습니다.\n",
    "\n",
    "        \n",
    "- #### 제출시 유의사항\n",
    "    - **파일명의 홍길동을 본인의 이름으로 변경**해서 제출해주세요.\n",
    "    - 작성간 틈틈이 내용을 저장하세요"
   ]
  },
  {
   "cell_type": "code",
   "execution_count": 1,
   "metadata": {},
   "outputs": [],
   "source": [
    "import numpy as np \n",
    "import pandas as pd \n",
    "import matplotlib.pyplot as plt \n",
    "import seaborn as sns\n",
    "\n",
    "pd.set_option('display.max_rows', 500)\n",
    "pd.set_option('display.max_columns', 500)\n",
    "pd.set_option('display.width', 1000)\n",
    "\n",
    "plt.rc('font', family='Malgun Gothic')\n",
    "plt.rc('axes', unicode_minus=False)"
   ]
  },
  {
   "cell_type": "code",
   "execution_count": 2,
   "metadata": {},
   "outputs": [],
   "source": [
    "# Code here\n"
   ]
  }
 ],
 "metadata": {
  "kernelspec": {
   "display_name": "Python 3 (ipykernel)",
   "language": "python",
   "name": "python3"
  },
  "language_info": {
   "codemirror_mode": {
    "name": "ipython",
    "version": 3
   },
   "file_extension": ".py",
   "mimetype": "text/x-python",
   "name": "python",
   "nbconvert_exporter": "python",
   "pygments_lexer": "ipython3",
   "version": "3.9.8"
  },
  "toc": {
   "base_numbering": 1,
   "nav_menu": {},
   "number_sections": true,
   "sideBar": true,
   "skip_h1_title": false,
   "title_cell": "Table of Contents",
   "title_sidebar": "Contents",
   "toc_cell": false,
   "toc_position": {},
   "toc_section_display": true,
   "toc_window_display": false
  }
 },
 "nbformat": 4,
 "nbformat_minor": 4
}
